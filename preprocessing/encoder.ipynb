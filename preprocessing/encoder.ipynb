{
 "cells": [
  {
   "cell_type": "markdown",
   "id": "4d3ad394",
   "metadata": {},
   "source": [
    "## 문제 정의\n",
    "- int 혹은 float 타입의 범주형 변수는 모델 학습은 되나, 비정상적으로 학습\n",
    "- 범주형 변수는 반드시 숫자로 변환, 임의로 설정하는 것은 매우 부적절\n",
    "- 코드화된 변주형 변수도 숫자로 변환해야함"
   ]
  },
  {
   "cell_type": "markdown",
   "id": "997468ec",
   "metadata": {},
   "source": [
    "## 범주형 변수 판별\n",
    "- 범주형 변수는 상태 공간의 크기가 유한한 변수, 도메인이나 변수 상태 공간을 바탕으로 판단\n",
    "- int 혹은 float 타입으로 정의된 변수가 반드시 연속형이 아닐 수 있다는 것에 주의"
   ]
  },
  {
   "cell_type": "markdown",
   "id": "c2241075",
   "metadata": {},
   "source": [
    "### 더미화\n",
    "- 가장 일반적, 특정값을 취하는지 여부\n",
    "- 마지막 변수는 변수간 상관성 제거 및 계산량 감소를 위해 제거\n",
    "- 과하게 많은 변수를 추가해서 차원의 저주 문제로 이어질 수 있음\n",
    "\n",
    "### 연속형 변수로 치환\n",
    "- 기존 변수가 가지는 정보가 일부 손실될 수 있고 활용이 어려움\n",
    "- 차원의 크기가 변하지 않으며 더 효율적인 변수로 변환"
   ]
  },
  {
   "cell_type": "markdown",
   "id": "b94dc195",
   "metadata": {},
   "source": [
    "##### Series.unique() : 상태 공간을 확인\n",
    "#### feature_engine.categorical_encoders.OneHotCategoricalEncoder\n",
    "- 더미화를 하기 위한 함수\n",
    "- variables : 범주형 변수의 이름 목록(반드시 str타입)\n",
    "- drop_last : 마지막 더미 변수를 제거할 지를 결정\n",
    "- top_categories : 한 변수로부터 만드는 더미 변수 개수 설정, 빈도 기준으로 자름\n",
    "- pandas.get_dummies()가 훨씬 간단하지만, 새로 들어온 데이터에 적용 불가능"
   ]
  },
  {
   "cell_type": "code",
   "execution_count": 54,
   "id": "59c2d455",
   "metadata": {},
   "outputs": [],
   "source": [
    "import pandas as pd\n",
    "from sklearn.model_selection import train_test_split\n",
    "df = pd.read_csv('./데이터/car-good.csv')\n",
    "x = df.drop('Class', axis = 1)\n",
    "y = df['Class']\n",
    "train_x, test_x, train_y, test_y = train_test_split(x,y)"
   ]
  },
  {
   "cell_type": "code",
   "execution_count": 55,
   "id": "d85eb1dc",
   "metadata": {},
   "outputs": [
    {
     "data": {
      "text/plain": [
       "negative    629\n",
       "positive     19\n",
       "Name: Class, dtype: int64"
      ]
     },
     "execution_count": 55,
     "metadata": {},
     "output_type": "execute_result"
    }
   ],
   "source": [
    "train_y.value_counts()"
   ]
  },
  {
   "cell_type": "code",
   "execution_count": 56,
   "id": "9c109807",
   "metadata": {},
   "outputs": [
    {
     "data": {
      "text/plain": [
       "390   -1\n",
       "556   -1\n",
       "727   -1\n",
       "102   -1\n",
       "558   -1\n",
       "      ..\n",
       "561   -1\n",
       "349   -1\n",
       "184   -1\n",
       "635   -1\n",
       "428   -1\n",
       "Name: Class, Length: 216, dtype: int64"
      ]
     },
     "execution_count": 56,
     "metadata": {},
     "output_type": "execute_result"
    }
   ],
   "source": [
    "# 문자 라벨을 숫자로 치환\n",
    "train_y.replace({'negative':-1, 'positive': 1}, inplace = True)\n",
    "test_y.replace({'negative':-1, 'positive': 1}, inplace = True)\n",
    "test_y"
   ]
  },
  {
   "cell_type": "code",
   "execution_count": 57,
   "id": "22f52698",
   "metadata": {},
   "outputs": [
    {
     "data": {
      "text/html": [
       "<div>\n",
       "<style scoped>\n",
       "    .dataframe tbody tr th:only-of-type {\n",
       "        vertical-align: middle;\n",
       "    }\n",
       "\n",
       "    .dataframe tbody tr th {\n",
       "        vertical-align: top;\n",
       "    }\n",
       "\n",
       "    .dataframe thead th {\n",
       "        text-align: right;\n",
       "    }\n",
       "</style>\n",
       "<table border=\"1\" class=\"dataframe\">\n",
       "  <thead>\n",
       "    <tr style=\"text-align: right;\">\n",
       "      <th></th>\n",
       "      <th>Buying</th>\n",
       "      <th>Maint</th>\n",
       "      <th>Doors</th>\n",
       "      <th>Persons</th>\n",
       "      <th>Lug_boot</th>\n",
       "      <th>Safety</th>\n",
       "    </tr>\n",
       "  </thead>\n",
       "  <tbody>\n",
       "    <tr>\n",
       "      <th>693</th>\n",
       "      <td>low</td>\n",
       "      <td>vhigh</td>\n",
       "      <td>4</td>\n",
       "      <td>4</td>\n",
       "      <td>small</td>\n",
       "      <td>low</td>\n",
       "    </tr>\n",
       "    <tr>\n",
       "      <th>657</th>\n",
       "      <td>low</td>\n",
       "      <td>vhigh</td>\n",
       "      <td>2</td>\n",
       "      <td>4</td>\n",
       "      <td>small</td>\n",
       "      <td>low</td>\n",
       "    </tr>\n",
       "    <tr>\n",
       "      <th>750</th>\n",
       "      <td>low</td>\n",
       "      <td>high</td>\n",
       "      <td>4</td>\n",
       "      <td>4</td>\n",
       "      <td>med</td>\n",
       "      <td>low</td>\n",
       "    </tr>\n",
       "    <tr>\n",
       "      <th>51</th>\n",
       "      <td>vhigh</td>\n",
       "      <td>vhigh</td>\n",
       "      <td>4</td>\n",
       "      <td>4</td>\n",
       "      <td>big</td>\n",
       "      <td>low</td>\n",
       "    </tr>\n",
       "    <tr>\n",
       "      <th>581</th>\n",
       "      <td>med</td>\n",
       "      <td>med</td>\n",
       "      <td>4</td>\n",
       "      <td>2</td>\n",
       "      <td>med</td>\n",
       "      <td>high</td>\n",
       "    </tr>\n",
       "  </tbody>\n",
       "</table>\n",
       "</div>"
      ],
      "text/plain": [
       "    Buying  Maint  Doors  Persons Lug_boot Safety\n",
       "693    low  vhigh      4        4    small    low\n",
       "657    low  vhigh      2        4    small    low\n",
       "750    low   high      4        4      med    low\n",
       "51   vhigh  vhigh      4        4      big    low\n",
       "581    med    med      4        2      med   high"
      ]
     },
     "execution_count": 57,
     "metadata": {},
     "output_type": "execute_result"
    }
   ],
   "source": [
    "train_x.head()"
   ]
  },
  {
   "cell_type": "code",
   "execution_count": 58,
   "id": "881ab529",
   "metadata": {},
   "outputs": [
    {
     "name": "stdout",
     "output_type": "stream",
     "text": [
      "Buying 4\n",
      "Maint 4\n",
      "Doors 3\n",
      "Persons 2\n",
      "Lug_boot 3\n",
      "Safety 3\n"
     ]
    }
   ],
   "source": [
    "# 숫자가 매우 작음 -> 모든 변수가 범주형임을 확인\n",
    "for col in train_x.columns:\n",
    "    print(col, len(train_x[col].unique()))"
   ]
  },
  {
   "cell_type": "markdown",
   "id": "0303c1d1",
   "metadata": {},
   "source": [
    "#### 더미화를 이용한 범주 변수 처리"
   ]
  },
  {
   "cell_type": "code",
   "execution_count": 49,
   "id": "98ec12f9",
   "metadata": {},
   "outputs": [],
   "source": [
    "train_x = train_x.astype(str) \n",
    "# 모든 변수가 범주이므로, 더미화를 위해 전부 string 타입으로 변환"
   ]
  },
  {
   "cell_type": "code",
   "execution_count": 50,
   "id": "fc567308",
   "metadata": {},
   "outputs": [
    {
     "data": {
      "text/plain": [
       "431   -1\n",
       "615   -1\n",
       "384   -1\n",
       "363   -1\n",
       "479   -1\n",
       "      ..\n",
       "524   -1\n",
       "41    -1\n",
       "216   -1\n",
       "482   -1\n",
       "750   -1\n",
       "Name: Class, Length: 648, dtype: int64"
      ]
     },
     "execution_count": 50,
     "metadata": {},
     "output_type": "execute_result"
    }
   ],
   "source": [
    "from feature_engine.encoding import OneHotEncoder as OHE\n",
    "dummy_model = OHE(variables = train_x.columns.tolist(),\n",
    "                 drop_last = True)\n",
    "\n",
    "dummy_model.fit(train_x)\n",
    "\n",
    "d_train_x = dummy_model.transform(train_x)\n",
    "d_test_x = dummy_model.transform(test_x)\n",
    "train_y"
   ]
  },
  {
   "cell_type": "code",
   "execution_count": 51,
   "id": "98645bfc",
   "metadata": {},
   "outputs": [
    {
     "data": {
      "text/plain": [
       "0.0"
      ]
     },
     "execution_count": 51,
     "metadata": {},
     "output_type": "execute_result"
    }
   ],
   "source": [
    "# 더미화 모델 테스트\n",
    "from sklearn.neighbors import KNeighborsClassifier as KNN\n",
    "model = KNN().fit(d_train_x, train_y)\n",
    "pred_y = model.predict(d_test_x)\n",
    "\n",
    "from sklearn.metrics import f1_score\n",
    "f1_score(test_y, pred_y)\n"
   ]
  },
  {
   "cell_type": "markdown",
   "id": "1188da40",
   "metadata": {},
   "source": [
    "#### 연속형 변수로 치환"
   ]
  },
  {
   "cell_type": "code",
   "execution_count": 59,
   "id": "6624065e",
   "metadata": {},
   "outputs": [
    {
     "name": "stderr",
     "output_type": "stream",
     "text": [
      "<ipython-input-59-af3e049eb6c2>:5: SettingWithCopyWarning: \n",
      "A value is trying to be set on a copy of a slice from a DataFrame.\n",
      "Try using .loc[row_indexer,col_indexer] = value instead\n",
      "\n",
      "See the caveats in the documentation: https://pandas.pydata.org/pandas-docs/stable/user_guide/indexing.html#returning-a-view-versus-a-copy\n",
      "  test_x[col] = test_x[col].astype(str).replace(temp_dict) # 테스트 데이터도 치환\n"
     ]
    }
   ],
   "source": [
    "train_df = pd.concat([train_x, train_y], axis = 1)\n",
    "for col in train_x.columns: # 보통은 범주 변수만 순회\n",
    "    temp_dict = train_df.groupby(col)['Class'].mean().to_dict() # col에 따른 Class 평균\n",
    "    train_df[col] = train_df[col].replace(temp_dict) # 변수 치환\n",
    "    test_x[col] = test_x[col].astype(str).replace(temp_dict) # 테스트 데이터도 치환"
   ]
  },
  {
   "cell_type": "code",
   "execution_count": 60,
   "id": "7fe88b60",
   "metadata": {},
   "outputs": [
    {
     "data": {
      "text/html": [
       "<div>\n",
       "<style scoped>\n",
       "    .dataframe tbody tr th:only-of-type {\n",
       "        vertical-align: middle;\n",
       "    }\n",
       "\n",
       "    .dataframe tbody tr th {\n",
       "        vertical-align: top;\n",
       "    }\n",
       "\n",
       "    .dataframe thead th {\n",
       "        text-align: right;\n",
       "    }\n",
       "</style>\n",
       "<table border=\"1\" class=\"dataframe\">\n",
       "  <thead>\n",
       "    <tr style=\"text-align: right;\">\n",
       "      <th></th>\n",
       "      <th>Buying</th>\n",
       "      <th>Maint</th>\n",
       "      <th>Doors</th>\n",
       "      <th>Persons</th>\n",
       "      <th>Lug_boot</th>\n",
       "      <th>Safety</th>\n",
       "      <th>Class</th>\n",
       "    </tr>\n",
       "  </thead>\n",
       "  <tbody>\n",
       "    <tr>\n",
       "      <th>693</th>\n",
       "      <td>-0.831169</td>\n",
       "      <td>-1.0</td>\n",
       "      <td>-0.945701</td>\n",
       "      <td>-0.885196</td>\n",
       "      <td>-0.944186</td>\n",
       "      <td>-1.000000</td>\n",
       "      <td>-1</td>\n",
       "    </tr>\n",
       "    <tr>\n",
       "      <th>657</th>\n",
       "      <td>-0.831169</td>\n",
       "      <td>-1.0</td>\n",
       "      <td>-0.913462</td>\n",
       "      <td>-0.885196</td>\n",
       "      <td>-0.944186</td>\n",
       "      <td>-1.000000</td>\n",
       "      <td>-1</td>\n",
       "    </tr>\n",
       "    <tr>\n",
       "      <th>750</th>\n",
       "      <td>-0.831169</td>\n",
       "      <td>-1.0</td>\n",
       "      <td>-0.945701</td>\n",
       "      <td>-0.885196</td>\n",
       "      <td>-0.936652</td>\n",
       "      <td>-1.000000</td>\n",
       "      <td>-1</td>\n",
       "    </tr>\n",
       "    <tr>\n",
       "      <th>51</th>\n",
       "      <td>-1.000000</td>\n",
       "      <td>-1.0</td>\n",
       "      <td>-0.945701</td>\n",
       "      <td>-0.885196</td>\n",
       "      <td>-0.943396</td>\n",
       "      <td>-1.000000</td>\n",
       "      <td>-1</td>\n",
       "    </tr>\n",
       "    <tr>\n",
       "      <th>581</th>\n",
       "      <td>-0.928994</td>\n",
       "      <td>-0.9</td>\n",
       "      <td>-0.945701</td>\n",
       "      <td>-1.000000</td>\n",
       "      <td>-0.936652</td>\n",
       "      <td>-0.907407</td>\n",
       "      <td>-1</td>\n",
       "    </tr>\n",
       "  </tbody>\n",
       "</table>\n",
       "</div>"
      ],
      "text/plain": [
       "       Buying  Maint     Doors   Persons  Lug_boot    Safety  Class\n",
       "693 -0.831169   -1.0 -0.945701 -0.885196 -0.944186 -1.000000     -1\n",
       "657 -0.831169   -1.0 -0.913462 -0.885196 -0.944186 -1.000000     -1\n",
       "750 -0.831169   -1.0 -0.945701 -0.885196 -0.936652 -1.000000     -1\n",
       "51  -1.000000   -1.0 -0.945701 -0.885196 -0.943396 -1.000000     -1\n",
       "581 -0.928994   -0.9 -0.945701 -1.000000 -0.936652 -0.907407     -1"
      ]
     },
     "execution_count": 60,
     "metadata": {},
     "output_type": "execute_result"
    }
   ],
   "source": [
    "train_df.head()"
   ]
  },
  {
   "cell_type": "code",
   "execution_count": 61,
   "id": "f02ceefa",
   "metadata": {},
   "outputs": [],
   "source": [
    "train_x = train_df.drop('Class', axis=1)\n",
    "train_y = train_df['Class']"
   ]
  },
  {
   "cell_type": "code",
   "execution_count": 62,
   "id": "8cab8367",
   "metadata": {},
   "outputs": [
    {
     "data": {
      "text/plain": [
       "0.0"
      ]
     },
     "execution_count": 62,
     "metadata": {},
     "output_type": "execute_result"
    }
   ],
   "source": [
    "# 치환 모델 테스트\n",
    "from sklearn.neighbors import KNeighborsClassifier as KNN\n",
    "model = KNN().fit(d_train_x, train_y)\n",
    "pred_y = model.predict(d_test_x)\n",
    "\n",
    "from sklearn.metrics import f1_score\n",
    "f1_score(test_y, pred_y)"
   ]
  },
  {
   "cell_type": "code",
   "execution_count": null,
   "id": "19c82eae",
   "metadata": {},
   "outputs": [],
   "source": []
  }
 ],
 "metadata": {
  "kernelspec": {
   "display_name": "Python 3",
   "language": "python",
   "name": "python3"
  },
  "language_info": {
   "codemirror_mode": {
    "name": "ipython",
    "version": 3
   },
   "file_extension": ".py",
   "mimetype": "text/x-python",
   "name": "python",
   "nbconvert_exporter": "python",
   "pygments_lexer": "ipython3",
   "version": "3.8.8"
  }
 },
 "nbformat": 4,
 "nbformat_minor": 5
}
