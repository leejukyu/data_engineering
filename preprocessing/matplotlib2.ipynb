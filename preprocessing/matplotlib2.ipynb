{
 "cells": [
  {
   "cell_type": "markdown",
   "id": "77d36e10",
   "metadata": {},
   "source": [
    "### 막대 차트\n",
    "- pyplot.bar\n",
    "- align : 막대 정렬, height : 높이, width : 너비"
   ]
  },
  {
   "cell_type": "code",
   "execution_count": 3,
   "id": "dab58342",
   "metadata": {},
   "outputs": [
    {
     "data": {
      "text/html": [
       "<div>\n",
       "<style scoped>\n",
       "    .dataframe tbody tr th:only-of-type {\n",
       "        vertical-align: middle;\n",
       "    }\n",
       "\n",
       "    .dataframe tbody tr th {\n",
       "        vertical-align: top;\n",
       "    }\n",
       "\n",
       "    .dataframe thead th {\n",
       "        text-align: right;\n",
       "    }\n",
       "</style>\n",
       "<table border=\"1\" class=\"dataframe\">\n",
       "  <thead>\n",
       "    <tr style=\"text-align: right;\">\n",
       "      <th></th>\n",
       "      <th>년도(year)</th>\n",
       "      <th>월(month)</th>\n",
       "      <th>분기(4)</th>\n",
       "      <th>일자(day)</th>\n",
       "      <th>주차별 편중도</th>\n",
       "      <th>출하일</th>\n",
       "      <th>대리점</th>\n",
       "      <th>지역 구분</th>\n",
       "      <th>내수/수출 구분</th>\n",
       "      <th>제품군</th>\n",
       "      <th>수량</th>\n",
       "    </tr>\n",
       "  </thead>\n",
       "  <tbody>\n",
       "    <tr>\n",
       "      <th>0</th>\n",
       "      <td>2016</td>\n",
       "      <td>1</td>\n",
       "      <td>1분기</td>\n",
       "      <td>4</td>\n",
       "      <td>상</td>\n",
       "      <td>2016-01-04</td>\n",
       "      <td>대리점 6</td>\n",
       "      <td>국내</td>\n",
       "      <td>내수</td>\n",
       "      <td>제품 1</td>\n",
       "      <td>12</td>\n",
       "    </tr>\n",
       "    <tr>\n",
       "      <th>1</th>\n",
       "      <td>2016</td>\n",
       "      <td>1</td>\n",
       "      <td>1분기</td>\n",
       "      <td>4</td>\n",
       "      <td>상</td>\n",
       "      <td>2016-01-04</td>\n",
       "      <td>대리점 6</td>\n",
       "      <td>국내</td>\n",
       "      <td>내수</td>\n",
       "      <td>제품 1</td>\n",
       "      <td>4</td>\n",
       "    </tr>\n",
       "    <tr>\n",
       "      <th>2</th>\n",
       "      <td>2016</td>\n",
       "      <td>1</td>\n",
       "      <td>1분기</td>\n",
       "      <td>4</td>\n",
       "      <td>상</td>\n",
       "      <td>2016-01-04</td>\n",
       "      <td>대리점 6</td>\n",
       "      <td>국내</td>\n",
       "      <td>내수</td>\n",
       "      <td>제품 1</td>\n",
       "      <td>1</td>\n",
       "    </tr>\n",
       "    <tr>\n",
       "      <th>3</th>\n",
       "      <td>2016</td>\n",
       "      <td>1</td>\n",
       "      <td>1분기</td>\n",
       "      <td>4</td>\n",
       "      <td>상</td>\n",
       "      <td>2016-01-04</td>\n",
       "      <td>대리점 6</td>\n",
       "      <td>국내</td>\n",
       "      <td>내수</td>\n",
       "      <td>제품 5</td>\n",
       "      <td>122</td>\n",
       "    </tr>\n",
       "    <tr>\n",
       "      <th>4</th>\n",
       "      <td>2016</td>\n",
       "      <td>1</td>\n",
       "      <td>1분기</td>\n",
       "      <td>4</td>\n",
       "      <td>상</td>\n",
       "      <td>2016-01-04</td>\n",
       "      <td>대리점 6</td>\n",
       "      <td>국내</td>\n",
       "      <td>내수</td>\n",
       "      <td>제품 1</td>\n",
       "      <td>20</td>\n",
       "    </tr>\n",
       "  </tbody>\n",
       "</table>\n",
       "</div>"
      ],
      "text/plain": [
       "   년도(year)  월(month) 분기(4)  일자(day) 주차별 편중도         출하일    대리점 지역 구분  \\\n",
       "0      2016         1   1분기        4       상  2016-01-04  대리점 6    국내   \n",
       "1      2016         1   1분기        4       상  2016-01-04  대리점 6    국내   \n",
       "2      2016         1   1분기        4       상  2016-01-04  대리점 6    국내   \n",
       "3      2016         1   1분기        4       상  2016-01-04  대리점 6    국내   \n",
       "4      2016         1   1분기        4       상  2016-01-04  대리점 6    국내   \n",
       "\n",
       "  내수/수출 구분   제품군   수량  \n",
       "0       내수  제품 1   12  \n",
       "1       내수  제품 1    4  \n",
       "2       내수  제품 1    1  \n",
       "3       내수  제품 5  122  \n",
       "4       내수  제품 1   20  "
      ]
     },
     "execution_count": 3,
     "metadata": {},
     "output_type": "execute_result"
    }
   ],
   "source": [
    "import pandas as pd\n",
    "df = pd.read_csv('./데이터/판매실적통합본.csv', encoding = 'euc-kr')\n",
    "df.head()"
   ]
  },
  {
   "cell_type": "code",
   "execution_count": 4,
   "id": "93beff9a",
   "metadata": {},
   "outputs": [
    {
     "data": {
      "text/html": [
       "<div>\n",
       "<style scoped>\n",
       "    .dataframe tbody tr th:only-of-type {\n",
       "        vertical-align: middle;\n",
       "    }\n",
       "\n",
       "    .dataframe tbody tr th {\n",
       "        vertical-align: top;\n",
       "    }\n",
       "\n",
       "    .dataframe thead th {\n",
       "        text-align: right;\n",
       "    }\n",
       "</style>\n",
       "<table border=\"1\" class=\"dataframe\">\n",
       "  <thead>\n",
       "    <tr style=\"text-align: right;\">\n",
       "      <th></th>\n",
       "      <th>제품군</th>\n",
       "      <th>수량</th>\n",
       "    </tr>\n",
       "  </thead>\n",
       "  <tbody>\n",
       "    <tr>\n",
       "      <th>0</th>\n",
       "      <td>제품 1</td>\n",
       "      <td>2690307</td>\n",
       "    </tr>\n",
       "    <tr>\n",
       "      <th>1</th>\n",
       "      <td>제품 2</td>\n",
       "      <td>4223384</td>\n",
       "    </tr>\n",
       "    <tr>\n",
       "      <th>2</th>\n",
       "      <td>제품 3</td>\n",
       "      <td>531946</td>\n",
       "    </tr>\n",
       "    <tr>\n",
       "      <th>3</th>\n",
       "      <td>제품 4</td>\n",
       "      <td>277193</td>\n",
       "    </tr>\n",
       "    <tr>\n",
       "      <th>4</th>\n",
       "      <td>제품 5</td>\n",
       "      <td>126323</td>\n",
       "    </tr>\n",
       "    <tr>\n",
       "      <th>5</th>\n",
       "      <td>제품 6</td>\n",
       "      <td>262774</td>\n",
       "    </tr>\n",
       "  </tbody>\n",
       "</table>\n",
       "</div>"
      ],
      "text/plain": [
       "    제품군       수량\n",
       "0  제품 1  2690307\n",
       "1  제품 2  4223384\n",
       "2  제품 3   531946\n",
       "3  제품 4   277193\n",
       "4  제품 5   126323\n",
       "5  제품 6   262774"
      ]
     },
     "execution_count": 4,
     "metadata": {},
     "output_type": "execute_result"
    }
   ],
   "source": [
    "# 제품군별 수량 합계 계산\n",
    "grouped_df1 = df.groupby(['제품군'], as_index = False)['수량'].sum()\n",
    "grouped_df1"
   ]
  },
  {
   "cell_type": "code",
   "execution_count": 5,
   "id": "e4092b53",
   "metadata": {},
   "outputs": [],
   "source": [
    "# 그래프 기본 설정\n",
    "from matplotlib import pyplot as plt\n",
    "import numpy as np\n",
    "%matplotlib inline\n",
    "plt.rcParams['font.family'] = 'Malgun Gothic'\n",
    "plt.rcParams['font.size'] = 20\n",
    "plt.rcParams['figure.figsize'] = (10,8)"
   ]
  },
  {
   "cell_type": "code",
   "execution_count": 6,
   "id": "820fe801",
   "metadata": {},
   "outputs": [
    {
     "data": {
      "text/plain": [
       "<BarContainer object of 6 artists>"
      ]
     },
     "execution_count": 6,
     "metadata": {},
     "output_type": "execute_result"
    },
    {
     "data": {
      "image/png": "[encoded data removed]",
      "text/plain": [
       "<Figure size 720x576 with 1 Axes>"
      ]
     },
     "metadata": {
      "needs_background": "light"
     },
     "output_type": "display_data"
    }
   ],
   "source": [
    "# 제품군별 출하량 합계 계산\n",
    "plt.title('제품군별 출하량 합계')\n",
    "plt.xlabel('제품군')\n",
    "plt.ylabel('출하량 합계(개수)')\n",
    "plt.bar(grouped_df1['제품군'], grouped_df1['수량'], width = 0.5)"
   ]
  },
  {
   "cell_type": "markdown",
   "id": "6e7d0327",
   "metadata": {},
   "source": [
    "##### 다중 bar chart 그리기\n",
    "- groupby 혹은 set_index, unstack, pibot_table을 사용하면 쉽게 그릴 수 있음"
   ]
  },
  {
   "cell_type": "code",
   "execution_count": 9,
   "id": "e44457cf",
   "metadata": {},
   "outputs": [
    {
     "data": {
      "text/plain": [
       "제품군   년도(year)\n",
       "제품 1  2016         637130\n",
       "      2017         763450\n",
       "      2018         807846\n",
       "      2019         481881\n",
       "제품 2  2016        1029868\n",
       "      2017        1215031\n",
       "      2018        1307538\n",
       "      2019         670947\n",
       "제품 3  2016         134693\n",
       "      2017         154208\n",
       "      2018         157031\n",
       "      2019          86014\n",
       "제품 4  2016          56774\n",
       "      2017          82124\n",
       "      2018          83692\n",
       "      2019          54603\n",
       "제품 5  2016          30142\n",
       "      2017          36363\n",
       "      2018          39851\n",
       "      2019          19967\n",
       "제품 6  2016          41612\n",
       "      2017          64722\n",
       "      2018          85157\n",
       "      2019          71283\n",
       "Name: 수량, dtype: int64"
      ]
     },
     "execution_count": 9,
     "metadata": {},
     "output_type": "execute_result"
    }
   ],
   "source": [
    "plt.rcParams['figure.figsize'] = (40,15)\n",
    "grouped_df2 = df.groupby(['제품군', '년도(year)'], as_index = True)['수량'].sum()\n",
    "grouped_df2"
   ]
  },
  {
   "cell_type": "code",
   "execution_count": 10,
   "id": "9dcead7e",
   "metadata": {},
   "outputs": [
    {
     "data": {
      "text/plain": [
       "<matplotlib.axes._subplots.AxesSubplot at 0x23189626790>"
      ]
     },
     "execution_count": 10,
     "metadata": {},
     "output_type": "execute_result"
    },
    {
     "data": {
      "image/png": "[encoded data removed]",
      "text/plain": [
       "<Figure size 2880x1080 with 1 Axes>"
      ]
     },
     "metadata": {
      "needs_background": "light"
     },
     "output_type": "display_data"
    }
   ],
   "source": [
    "grouped_df2.unstack().plot(kind = 'bar')"
   ]
  },
  {
   "cell_type": "markdown",
   "id": "c87040d2",
   "metadata": {},
   "source": [
    "### 파이 차트 그리기\n",
    "- pyplot.pie\n",
    "- labeldistance : 라벨 간 거리\n",
    "- normalize : 비율을 나타낼 것인지 여부\n",
    "- autopct : 위에 표시될 글자 형태\n",
    "- colors : 배열로 설정해서 각 파트의 색상을 설정 가능"
   ]
  },
  {
   "cell_type": "code",
   "execution_count": 11,
   "id": "32aff9e0",
   "metadata": {},
   "outputs": [
    {
     "data": {
      "text/html": [
       "<div>\n",
       "<style scoped>\n",
       "    .dataframe tbody tr th:only-of-type {\n",
       "        vertical-align: middle;\n",
       "    }\n",
       "\n",
       "    .dataframe tbody tr th {\n",
       "        vertical-align: top;\n",
       "    }\n",
       "\n",
       "    .dataframe thead th {\n",
       "        text-align: right;\n",
       "    }\n",
       "</style>\n",
       "<table border=\"1\" class=\"dataframe\">\n",
       "  <thead>\n",
       "    <tr style=\"text-align: right;\">\n",
       "      <th></th>\n",
       "      <th>년도(year)</th>\n",
       "      <th>월(month)</th>\n",
       "      <th>분기(4)</th>\n",
       "      <th>일자(day)</th>\n",
       "      <th>주차별 편중도</th>\n",
       "      <th>출하일</th>\n",
       "      <th>대리점</th>\n",
       "      <th>지역 구분</th>\n",
       "      <th>내수/수출 구분</th>\n",
       "      <th>제품군</th>\n",
       "      <th>수량</th>\n",
       "    </tr>\n",
       "  </thead>\n",
       "  <tbody>\n",
       "    <tr>\n",
       "      <th>0</th>\n",
       "      <td>2016</td>\n",
       "      <td>1</td>\n",
       "      <td>1분기</td>\n",
       "      <td>4</td>\n",
       "      <td>상</td>\n",
       "      <td>2016-01-04</td>\n",
       "      <td>대리점 6</td>\n",
       "      <td>국내</td>\n",
       "      <td>내수</td>\n",
       "      <td>제품 1</td>\n",
       "      <td>12</td>\n",
       "    </tr>\n",
       "    <tr>\n",
       "      <th>1</th>\n",
       "      <td>2016</td>\n",
       "      <td>1</td>\n",
       "      <td>1분기</td>\n",
       "      <td>4</td>\n",
       "      <td>상</td>\n",
       "      <td>2016-01-04</td>\n",
       "      <td>대리점 6</td>\n",
       "      <td>국내</td>\n",
       "      <td>내수</td>\n",
       "      <td>제품 1</td>\n",
       "      <td>4</td>\n",
       "    </tr>\n",
       "    <tr>\n",
       "      <th>2</th>\n",
       "      <td>2016</td>\n",
       "      <td>1</td>\n",
       "      <td>1분기</td>\n",
       "      <td>4</td>\n",
       "      <td>상</td>\n",
       "      <td>2016-01-04</td>\n",
       "      <td>대리점 6</td>\n",
       "      <td>국내</td>\n",
       "      <td>내수</td>\n",
       "      <td>제품 1</td>\n",
       "      <td>1</td>\n",
       "    </tr>\n",
       "    <tr>\n",
       "      <th>3</th>\n",
       "      <td>2016</td>\n",
       "      <td>1</td>\n",
       "      <td>1분기</td>\n",
       "      <td>4</td>\n",
       "      <td>상</td>\n",
       "      <td>2016-01-04</td>\n",
       "      <td>대리점 6</td>\n",
       "      <td>국내</td>\n",
       "      <td>내수</td>\n",
       "      <td>제품 5</td>\n",
       "      <td>122</td>\n",
       "    </tr>\n",
       "    <tr>\n",
       "      <th>4</th>\n",
       "      <td>2016</td>\n",
       "      <td>1</td>\n",
       "      <td>1분기</td>\n",
       "      <td>4</td>\n",
       "      <td>상</td>\n",
       "      <td>2016-01-04</td>\n",
       "      <td>대리점 6</td>\n",
       "      <td>국내</td>\n",
       "      <td>내수</td>\n",
       "      <td>제품 1</td>\n",
       "      <td>20</td>\n",
       "    </tr>\n",
       "  </tbody>\n",
       "</table>\n",
       "</div>"
      ],
      "text/plain": [
       "   년도(year)  월(month) 분기(4)  일자(day) 주차별 편중도         출하일    대리점 지역 구분  \\\n",
       "0      2016         1   1분기        4       상  2016-01-04  대리점 6    국내   \n",
       "1      2016         1   1분기        4       상  2016-01-04  대리점 6    국내   \n",
       "2      2016         1   1분기        4       상  2016-01-04  대리점 6    국내   \n",
       "3      2016         1   1분기        4       상  2016-01-04  대리점 6    국내   \n",
       "4      2016         1   1분기        4       상  2016-01-04  대리점 6    국내   \n",
       "\n",
       "  내수/수출 구분   제품군   수량  \n",
       "0       내수  제품 1   12  \n",
       "1       내수  제품 1    4  \n",
       "2       내수  제품 1    1  \n",
       "3       내수  제품 5  122  \n",
       "4       내수  제품 1   20  "
      ]
     },
     "execution_count": 11,
     "metadata": {},
     "output_type": "execute_result"
    }
   ],
   "source": [
    "df = pd.read_csv('./데이터/판매실적통합본.csv', encoding = 'euc-kr')\n",
    "df.head()"
   ]
  },
  {
   "cell_type": "code",
   "execution_count": 13,
   "id": "fc733c28",
   "metadata": {},
   "outputs": [
    {
     "data": {
      "text/html": [
       "<div>\n",
       "<style scoped>\n",
       "    .dataframe tbody tr th:only-of-type {\n",
       "        vertical-align: middle;\n",
       "    }\n",
       "\n",
       "    .dataframe tbody tr th {\n",
       "        vertical-align: top;\n",
       "    }\n",
       "\n",
       "    .dataframe thead th {\n",
       "        text-align: right;\n",
       "    }\n",
       "</style>\n",
       "<table border=\"1\" class=\"dataframe\">\n",
       "  <thead>\n",
       "    <tr style=\"text-align: right;\">\n",
       "      <th></th>\n",
       "      <th>제품군</th>\n",
       "      <th>수량</th>\n",
       "    </tr>\n",
       "  </thead>\n",
       "  <tbody>\n",
       "    <tr>\n",
       "      <th>1</th>\n",
       "      <td>제품 2</td>\n",
       "      <td>4223384</td>\n",
       "    </tr>\n",
       "    <tr>\n",
       "      <th>0</th>\n",
       "      <td>제품 1</td>\n",
       "      <td>2690307</td>\n",
       "    </tr>\n",
       "    <tr>\n",
       "      <th>6</th>\n",
       "      <td>기타</td>\n",
       "      <td>1198236</td>\n",
       "    </tr>\n",
       "  </tbody>\n",
       "</table>\n",
       "</div>"
      ],
      "text/plain": [
       "    제품군       수량\n",
       "1  제품 2  4223384\n",
       "0  제품 1  2690307\n",
       "6    기타  1198236"
      ]
     },
     "execution_count": 13,
     "metadata": {},
     "output_type": "execute_result"
    }
   ],
   "source": [
    "# 제품군별 수량 합계 계산\n",
    "grouped_df = df.groupby(['제품군'], as_index = False)['수량'].sum()\n",
    "\n",
    "# 기타 항 추가\n",
    "other_row = pd.DataFrame({'제품군':['기타'],'수량':[grouped_df.sort_values(by='수량')['수량'].iloc[:4].sum()]})\n",
    "                          \n",
    "grouped_df = pd.concat([grouped_df, other_row], axis=0, ignore_index = True)\n",
    "grouped_df = grouped_df.sort_values(by='수량', ascending = False).iloc[:3]\n",
    "# 4개 기타의 합은 일단 합하긴 전 4개보단 클테니 내림차순일때 3개를 가져오면 기타와 아닌 애들과 기타 3가지만 가져온다\n",
    "grouped_df"
   ]
  },
  {
   "cell_type": "code",
   "execution_count": 19,
   "id": "57a4b07e",
   "metadata": {},
   "outputs": [
    {
     "data": {
      "text/plain": [
       "([<matplotlib.patches.Wedge at 0x2318a662940>,\n",
       "  <matplotlib.patches.Wedge at 0x2318a662df0>,\n",
       "  <matplotlib.patches.Wedge at 0x2318a670430>],\n",
       " [Text(-0.019438006431517805, 0.29936961085916564, '제품 2'),\n",
       "  Text(-0.11660851500795197, -0.27640993872804254, '제품 1'),\n",
       "  Text(0.2682736687188585, -0.13427300053295957, '기타')],\n",
       " [Text(-0.03887601286303561, 0.5987392217183313, '52.1%'),\n",
       "  Text(-0.23321703001590394, -0.5528198774560851, '33.2%'),\n",
       "  Text(0.536547337437717, -0.26854600106591914, '14.8%')])"
      ]
     },
     "execution_count": 19,
     "metadata": {},
     "output_type": "execute_result"
    },
    {
     "data": {
      "image/png": "[encoded data removed]",
      "text/plain": [
       "<Figure size 720x576 with 1 Axes>"
      ]
     },
     "metadata": {},
     "output_type": "display_data"
    }
   ],
   "source": [
    "# 제품군별 출하량 합계 계산\n",
    "plt.title('제품군별 출하량 비율')\n",
    "plt.pie(x=grouped_df['수량'], labels= grouped_df['제품군'], \n",
    "        labeldistance = 0.3, autopct = '%1.1f%%')"
   ]
  },
  {
   "cell_type": "markdown",
   "id": "5c7c3532",
   "metadata": {},
   "source": [
    "### 박스 플롯 그리기\n",
    "- pyplot.boxplot\n",
    "- x : boxplot을 그리기 위한 데이터 (2차원이면 여러개)\n",
    "- column : box plot을 그릴 컬럼 목록"
   ]
  },
  {
   "cell_type": "code",
   "execution_count": 21,
   "id": "21bb6532",
   "metadata": {},
   "outputs": [
    {
     "data": {
      "text/html": [
       "<div>\n",
       "<style scoped>\n",
       "    .dataframe tbody tr th:only-of-type {\n",
       "        vertical-align: middle;\n",
       "    }\n",
       "\n",
       "    .dataframe tbody tr th {\n",
       "        vertical-align: top;\n",
       "    }\n",
       "\n",
       "    .dataframe thead th {\n",
       "        text-align: right;\n",
       "    }\n",
       "</style>\n",
       "<table border=\"1\" class=\"dataframe\">\n",
       "  <thead>\n",
       "    <tr style=\"text-align: right;\">\n",
       "      <th></th>\n",
       "      <th>쇼핑몰</th>\n",
       "      <th>제품</th>\n",
       "      <th>수량</th>\n",
       "      <th>판매금액</th>\n",
       "      <th>쇼핑몰 유형</th>\n",
       "    </tr>\n",
       "  </thead>\n",
       "  <tbody>\n",
       "    <tr>\n",
       "      <th>0</th>\n",
       "      <td>쿠팡</td>\n",
       "      <td>제품_16</td>\n",
       "      <td>8</td>\n",
       "      <td>1134400</td>\n",
       "      <td>쿠팡</td>\n",
       "    </tr>\n",
       "    <tr>\n",
       "      <th>1</th>\n",
       "      <td>쿠팡</td>\n",
       "      <td>제품_57</td>\n",
       "      <td>8</td>\n",
       "      <td>439200</td>\n",
       "      <td>쿠팡</td>\n",
       "    </tr>\n",
       "    <tr>\n",
       "      <th>2</th>\n",
       "      <td>쿠팡</td>\n",
       "      <td>제품_25</td>\n",
       "      <td>4</td>\n",
       "      <td>495200</td>\n",
       "      <td>쿠팡</td>\n",
       "    </tr>\n",
       "    <tr>\n",
       "      <th>3</th>\n",
       "      <td>쿠팡</td>\n",
       "      <td>제품_18</td>\n",
       "      <td>4</td>\n",
       "      <td>578000</td>\n",
       "      <td>쿠팡</td>\n",
       "    </tr>\n",
       "    <tr>\n",
       "      <th>4</th>\n",
       "      <td>쿠팡</td>\n",
       "      <td>제품_90</td>\n",
       "      <td>2</td>\n",
       "      <td>75000</td>\n",
       "      <td>쿠팡</td>\n",
       "    </tr>\n",
       "    <tr>\n",
       "      <th>...</th>\n",
       "      <td>...</td>\n",
       "      <td>...</td>\n",
       "      <td>...</td>\n",
       "      <td>...</td>\n",
       "      <td>...</td>\n",
       "    </tr>\n",
       "    <tr>\n",
       "      <th>5810</th>\n",
       "      <td>애견아우랫</td>\n",
       "      <td>제품_41</td>\n",
       "      <td>5</td>\n",
       "      <td>696500</td>\n",
       "      <td>동물병원</td>\n",
       "    </tr>\n",
       "    <tr>\n",
       "      <th>5811</th>\n",
       "      <td>애견아우랫</td>\n",
       "      <td>제품_98</td>\n",
       "      <td>6</td>\n",
       "      <td>590400</td>\n",
       "      <td>동물병원</td>\n",
       "    </tr>\n",
       "    <tr>\n",
       "      <th>5812</th>\n",
       "      <td>애견아우랫</td>\n",
       "      <td>제품_77</td>\n",
       "      <td>5</td>\n",
       "      <td>512500</td>\n",
       "      <td>동물병원</td>\n",
       "    </tr>\n",
       "    <tr>\n",
       "      <th>5813</th>\n",
       "      <td>애견아우랫</td>\n",
       "      <td>제품_04</td>\n",
       "      <td>6</td>\n",
       "      <td>256200</td>\n",
       "      <td>동물병원</td>\n",
       "    </tr>\n",
       "    <tr>\n",
       "      <th>5814</th>\n",
       "      <td>애견아우랫</td>\n",
       "      <td>제품_39</td>\n",
       "      <td>7</td>\n",
       "      <td>72800</td>\n",
       "      <td>동물병원</td>\n",
       "    </tr>\n",
       "  </tbody>\n",
       "</table>\n",
       "<p>5815 rows × 5 columns</p>\n",
       "</div>"
      ],
      "text/plain": [
       "        쇼핑몰     제품  수량     판매금액 쇼핑몰 유형\n",
       "0        쿠팡  제품_16   8  1134400     쿠팡\n",
       "1        쿠팡  제품_57   8   439200     쿠팡\n",
       "2        쿠팡  제품_25   4   495200     쿠팡\n",
       "3        쿠팡  제품_18   4   578000     쿠팡\n",
       "4        쿠팡  제품_90   2    75000     쿠팡\n",
       "...     ...    ...  ..      ...    ...\n",
       "5810  애견아우랫  제품_41   5   696500   동물병원\n",
       "5811  애견아우랫  제품_98   6   590400   동물병원\n",
       "5812  애견아우랫  제품_77   5   512500   동물병원\n",
       "5813  애견아우랫  제품_04   6   256200   동물병원\n",
       "5814  애견아우랫  제품_39   7    72800   동물병원\n",
       "\n",
       "[5815 rows x 5 columns]"
      ]
     },
     "execution_count": 21,
     "metadata": {},
     "output_type": "execute_result"
    }
   ],
   "source": [
    "df=pd.read_csv('./데이터/온라인_판매기록.csv', encoding = 'euc-kr')\n",
    "df"
   ]
  },
  {
   "cell_type": "code",
   "execution_count": 22,
   "id": "4065c7e2",
   "metadata": {},
   "outputs": [],
   "source": [
    "# 그래프 기본 설정\n",
    "plt.rcParams['font.family'] = 'Malgun Gothic'\n",
    "plt.rcParams['font.size'] = 15\n",
    "plt.rcParams['figure.figsize'] = (15,8)"
   ]
  },
  {
   "cell_type": "code",
   "execution_count": 23,
   "id": "8e75d099",
   "metadata": {},
   "outputs": [
    {
     "data": {
      "text/plain": [
       "쇼핑몰 유형\n",
       "동물병원      [338400, 202600, 238800, 1088000, 135800, 8768...\n",
       "온라인II     [400800, 586600, 291900, 654000, 684000, 40400...\n",
       "온라인사이트    [10400, 631400, 516400, 318000, 300000, 306600...\n",
       "유통대리점     [220200, 10100, 112500, 56000, 236600, 928900,...\n",
       "전시회       [498000, 195300, 143500, 478200, 358400, 10731...\n",
       "쿠팡        [1134400, 439200, 495200, 578000, 75000, 19550...\n",
       "할인점       [39100, 670400, 1533000, 438400, 403200, 19250...\n",
       "할인점II     [119100, 101300, 124200, 101400, 291900, 37350...\n",
       "Name: 판매금액, dtype: object"
      ]
     },
     "execution_count": 23,
     "metadata": {},
     "output_type": "execute_result"
    }
   ],
   "source": [
    "x = df.groupby(['쇼핑몰 유형'])['판매금액'].apply(list)\n",
    "# 쇼핑몰 유형에 따른 판매금액 리스트\n",
    "x"
   ]
  },
  {
   "cell_type": "code",
   "execution_count": 25,
   "id": "672c56a6",
   "metadata": {},
   "outputs": [
    {
     "data": {
      "text/plain": [
       "([<matplotlib.axis.XTick at 0x2318a7dcbb0>,\n",
       "  <matplotlib.axis.XTick at 0x2318a7dcb80>,\n",
       "  <matplotlib.axis.XTick at 0x2318859f430>,\n",
       "  <matplotlib.axis.XTick at 0x2318a87ec40>,\n",
       "  <matplotlib.axis.XTick at 0x2318a884190>,\n",
       "  <matplotlib.axis.XTick at 0x2318a8846a0>,\n",
       "  <matplotlib.axis.XTick at 0x2318a884bb0>,\n",
       "  <matplotlib.axis.XTick at 0x2318a889100>],\n",
       " <a list of 8 Text xticklabel objects>)"
      ]
     },
     "execution_count": 25,
     "metadata": {},
     "output_type": "execute_result"
    },
    {
     "data": {
      "image/png": "[encoded data removed]",
      "text/plain": [
       "<Figure size 1080x576 with 1 Axes>"
      ]
     },
     "metadata": {
      "needs_background": "light"
     },
     "output_type": "display_data"
    }
   ],
   "source": [
    "plt.title('쇼핑몰 유형에 따른 판매금액 분포')\n",
    "plt.boxplot(x.values)\n",
    "plt.xticks(np.arange(1, len(x)+1), x.index)"
   ]
  },
  {
   "cell_type": "code",
   "execution_count": 26,
   "id": "78ef87c6",
   "metadata": {},
   "outputs": [
    {
     "data": {
      "text/plain": [
       "<matplotlib.axes._subplots.AxesSubplot at 0x2318a8b6ca0>"
      ]
     },
     "execution_count": 26,
     "metadata": {},
     "output_type": "execute_result"
    },
    {
     "data": {
      "image/png": "[encoded data removed]",
      "text/plain": [
       "<Figure size 1080x576 with 1 Axes>"
      ]
     },
     "metadata": {
      "needs_background": "light"
     },
     "output_type": "display_data"
    }
   ],
   "source": [
    "# DataFrame method를 이용한 box plot 그리기\n",
    "df = pd.DataFrame({'실험1':np.random.normal(10,2,size=100),\n",
    "                  '실험2':np.random.normal(8,3,size=100),\n",
    "                  '실험3':np.random.normal(9,4,size=100)})\n",
    "df.boxplot(column = ['실험1', '실험2', '실험3'])"
   ]
  },
  {
   "cell_type": "code",
   "execution_count": null,
   "id": "d0d201e8",
   "metadata": {},
   "outputs": [],
   "source": []
  }
 ],
 "metadata": {
  "kernelspec": {
   "display_name": "Python 3 (ipykernel)",
   "language": "python",
   "name": "python3"
  },
  "language_info": {
   "codemirror_mode": {
    "name": "ipython",
    "version": 3
   },
   "file_extension": ".py",
   "mimetype": "text/x-python",
   "name": "python",
   "nbconvert_exporter": "python",
   "pygments_lexer": "ipython3",
   "version": "3.8.1"
  }
 },
 "nbformat": 4,
 "nbformat_minor": 5
}
