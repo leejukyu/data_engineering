{
 "cells": [
  {
   "cell_type": "markdown",
   "id": "75b5240c",
   "metadata": {},
   "source": [
    "- 위음성비용(긍정을 부정으로 분류할때 비용)을 위양성 비용(부정을 긍정으로 분류할때 비용)보다 크게 설정\n",
    "- 위음성 비용 = w * 위양성비용(w > 1)로 설정한 모델 \n",
    "=> 가능하면 긍정으로 분류"
   ]
  },
  {
   "cell_type": "markdown",
   "id": "5e0e4b50",
   "metadata": {},
   "source": [
    "### 확률모델\n",
    "- 로지스틱 회귀, 나이브 베이즈 등의 확률 모델들은 cut-off value, c를 조정하는 방식으로 구현\n",
    "- .predict_proba\n",
    "- class_weight : 여러 모델에서 class_weight라는 파라미터를 사전으로 입력해 비용민감 모델로 사용\n",
    "- ex) SVC(class_weight = {1:10, -1:1}) -> 클래스 1에 -1보다 10배의 가중치"
   ]
  },
  {
   "cell_type": "markdown",
   "id": "7c83d2dd",
   "metadata": {},
   "source": [
    "### cut-off value 조정"
   ]
  },
  {
   "cell_type": "code",
   "execution_count": 2,
   "id": "b9899863",
   "metadata": {},
   "outputs": [],
   "source": [
    "import pandas as pd\n",
    "from sklearn.model_selection import train_test_split\n",
    "df = pd.read_csv('./데이터/Secom.csv')\n",
    "x = df.drop('Y', axis = 1)\n",
    "y = df['Y']\n",
    "train_x, test_x, train_y, test_y = train_test_split(x,y)"
   ]
  },
  {
   "cell_type": "code",
   "execution_count": 4,
   "id": "ac2ae59e",
   "metadata": {},
   "outputs": [
    {
     "data": {
      "text/plain": [
       "(1175, 590)"
      ]
     },
     "execution_count": 4,
     "metadata": {},
     "output_type": "execute_result"
    }
   ],
   "source": [
    "# 특징이 매우 많음을 확인\n",
    "train_x.shape"
   ]
  },
  {
   "cell_type": "code",
   "execution_count": 5,
   "id": "5e3a405d",
   "metadata": {},
   "outputs": [
    {
     "data": {
      "text/plain": [
       "-1    1099\n",
       " 1      76\n",
       "Name: Y, dtype: int64"
      ]
     },
     "execution_count": 5,
     "metadata": {},
     "output_type": "execute_result"
    }
   ],
   "source": [
    "# 클래스 불균형 확인\n",
    "train_y.value_counts()"
   ]
  },
  {
   "cell_type": "code",
   "execution_count": 6,
   "id": "b0e107ec",
   "metadata": {},
   "outputs": [
    {
     "data": {
      "text/plain": [
       "14.460526315789474"
      ]
     },
     "execution_count": 6,
     "metadata": {},
     "output_type": "execute_result"
    }
   ],
   "source": [
    "# 클래스 불균형 비율 계산\n",
    "train_y.value_counts().iloc[0] / train_y.value_counts().iloc[-1]"
   ]
  },
  {
   "cell_type": "code",
   "execution_count": 7,
   "id": "33301557",
   "metadata": {},
   "outputs": [
    {
     "name": "stdout",
     "output_type": "stream",
     "text": [
      "0.0\n",
      "0.9285714285714286\n"
     ]
    }
   ],
   "source": [
    "# KNN을 사용한 클래스 불균형 테스트\n",
    "from sklearn.neighbors import KNeighborsClassifier as KNN\n",
    "from sklearn.metrics import *\n",
    "KNN_model = KNN(n_neighbors = 11).fit(train_x, train_y)\n",
    "pred_y = KNN_model.predict(test_x)\n",
    "print(recall_score(test_y, pred_y))\n",
    "print(accuracy_score(test_y, pred_y))\n",
    "\n",
    "# 재현율이 0% 불균형이 심각한 수준"
   ]
  },
  {
   "cell_type": "code",
   "execution_count": 9,
   "id": "45046751",
   "metadata": {},
   "outputs": [
    {
     "name": "stdout",
     "output_type": "stream",
     "text": [
      "0.14285714285714285\n",
      "0.8826530612244898\n"
     ]
    },
    {
     "name": "stderr",
     "output_type": "stream",
     "text": [
      "c:\\users\\82106\\appdata\\local\\programs\\python\\python38\\lib\\site-packages\\sklearn\\linear_model\\_logistic.py:763: ConvergenceWarning: lbfgs failed to converge (status=1):\n",
      "STOP: TOTAL NO. of f AND g EVALUATIONS EXCEEDS LIMIT.\n",
      "\n",
      "Increase the number of iterations (max_iter) or scale the data as shown in:\n",
      "    https://scikit-learn.org/stable/modules/preprocessing.html\n",
      "Please also refer to the documentation for alternative solver options:\n",
      "    https://scikit-learn.org/stable/modules/linear_model.html#logistic-regression\n",
      "  n_iter_i = _check_optimize_result(\n"
     ]
    }
   ],
   "source": [
    "# 비용 민감 모델 적용한 Logistic Regression 모델 테스트\n",
    "from sklearn.linear_model import LogisticRegression as LR\n",
    "# 간단한 모델이므로 max를 크게 잡아도 과적합 위험이 적다\n",
    "model = LR(max_iter = 100000).fit(train_x, train_y)\n",
    "pred_y = model.predict(test_x)\n",
    "print(recall_score(test_y, pred_y))\n",
    "print(accuracy_score(test_y, pred_y))"
   ]
  },
  {
   "cell_type": "code",
   "execution_count": 10,
   "id": "d406e76e",
   "metadata": {},
   "outputs": [
    {
     "name": "stdout",
     "output_type": "stream",
     "text": [
      "0.14285714285714285\n",
      "0.8647959183673469\n"
     ]
    }
   ],
   "source": [
    "# out off value를 조정\n",
    "probs = model.predict_proba(test_x)\n",
    "probs = pd.DataFrame(probs, columns = model.classes_) # 어떤 클래스를 바탕으로 했는지 저장\n",
    "\n",
    "cut_off_value = 0.3\n",
    "\n",
    "pred_y = 2*(probs.iloc[:,-1] >= cut_off_value) - 1\n",
    "print(recall_score(test_y, pred_y))\n",
    "print(accuracy_score(test_y, pred_y))"
   ]
  },
  {
   "cell_type": "code",
   "execution_count": 11,
   "id": "44029012",
   "metadata": {},
   "outputs": [],
   "source": [
    "# out off value를 조정하는 함수 작성\n",
    "def cost_sensitive_model(model, cut_off_value, test_x, test_y):\n",
    "    probs = model.predict_proba(test_x)\n",
    "    probs = pd.DataFrame(probs, columns = model.classes_)\n",
    "    pred_y = 2*(probs.iloc[:,-1] >= cut_off_value) - 1\n",
    "    recall = recall_score(test_y, pred_y)\n",
    "    accuracy = accuracy_score(test_y, pred_y)\n",
    "    return recall, accuracy"
   ]
  },
  {
   "cell_type": "code",
   "execution_count": 13,
   "id": "d1573df4",
   "metadata": {},
   "outputs": [
    {
     "data": {
      "text/plain": [
       "<matplotlib.legend.Legend at 0x1d5b135cca0>"
      ]
     },
     "execution_count": 13,
     "metadata": {},
     "output_type": "execute_result"
    },
    {
     "data": {
      "image/png": "[encoded data removed]",
      "text/plain": [
       "<Figure size 432x288 with 1 Axes>"
      ]
     },
     "metadata": {
      "needs_background": "light"
     },
     "output_type": "display_data"
    }
   ],
   "source": [
    "# out off value에 따른 recall과 accuracy 변화 확인\n",
    "from matplotlib import pyplot as plt\n",
    "import numpy as np\n",
    "\n",
    "cut_off_value_list = np.linspace(0,1,101)\n",
    "recall_list = []\n",
    "accuracy_list = []\n",
    "\n",
    "for c in cut_off_value_list:\n",
    "    recall, accuracy = cost_sensitive_model(model, c, test_x, test_y)\n",
    "    recall_list.append(recall)\n",
    "    accuracy_list.append(accuracy)\n",
    "    \n",
    "plt.plot(cut_off_value_list, recall_list, label='recall')\n",
    "plt.plot(cut_off_value_list, accuracy_list, label='accuracy')\n",
    "plt.legend()"
   ]
  },
  {
   "cell_type": "markdown",
   "id": "bd99db64",
   "metadata": {},
   "source": [
    "### class weight 조정"
   ]
  },
  {
   "cell_type": "code",
   "execution_count": 15,
   "id": "b8460cd2",
   "metadata": {},
   "outputs": [
    {
     "data": {
      "text/plain": [
       "negative    3673\n",
       "positive     431\n",
       "Name: Class, dtype: int64"
      ]
     },
     "execution_count": 15,
     "metadata": {},
     "output_type": "execute_result"
    }
   ],
   "source": [
    "df = pd.read_csv('./데이터/page-blocks0.csv')\n",
    "x = df.drop('Class', axis = 1)\n",
    "y = df['Class']\n",
    "train_x, test_x, train_y, test_y = train_test_split(x,y)\n",
    "\n",
    "# 클래스 불균형 확인 -> 오버/언더샘플링 적용하기엔 부적절\n",
    "train_y.value_counts()"
   ]
  },
  {
   "cell_type": "code",
   "execution_count": 16,
   "id": "70154123",
   "metadata": {},
   "outputs": [
    {
     "data": {
      "text/plain": [
       "8.522041763341067"
      ]
     },
     "execution_count": 16,
     "metadata": {},
     "output_type": "execute_result"
    }
   ],
   "source": [
    "train_y.replace({'negative': -1, 'positive':1}, inplace = True)\n",
    "test_y.replace({'negative': -1, 'positive':1}, inplace = True)\n",
    "\n",
    "# 클래스 불균형 비율 계산\n",
    "train_y.value_counts().iloc[0] / train_y.value_counts().iloc[-1]"
   ]
  },
  {
   "cell_type": "code",
   "execution_count": 17,
   "id": "580a8452",
   "metadata": {},
   "outputs": [
    {
     "name": "stdout",
     "output_type": "stream",
     "text": [
      "0.640625\n",
      "0.9532163742690059\n"
     ]
    }
   ],
   "source": [
    "# KNN을 사용한 클래스 불균형 테스트\n",
    "KNN_model = KNN(n_neighbors = 11).fit(train_x, train_y)\n",
    "pred_y = KNN_model.predict(test_x)\n",
    "print(recall_score(test_y, pred_y))\n",
    "print(accuracy_score(test_y, pred_y))\n",
    "\n",
    "# 불균형이 심각한 수준은 아님"
   ]
  },
  {
   "cell_type": "code",
   "execution_count": 19,
   "id": "57de73eb",
   "metadata": {},
   "outputs": [
    {
     "name": "stdout",
     "output_type": "stream",
     "text": [
      "0.0546875\n",
      "0.9115497076023392\n"
     ]
    }
   ],
   "source": [
    "from sklearn.svm import SVC\n",
    "model = SVC().fit(train_x, train_y)\n",
    "pred_y = model.predict(test_x)\n",
    "print(recall_score(test_y, pred_y))\n",
    "print(accuracy_score(test_y, pred_y))"
   ]
  },
  {
   "cell_type": "code",
   "execution_count": 20,
   "id": "7f48a408",
   "metadata": {},
   "outputs": [
    {
     "name": "stdout",
     "output_type": "stream",
     "text": [
      "0.8984375\n",
      "0.6191520467836257\n"
     ]
    }
   ],
   "source": [
    "# 클래스 웨이트 조정\n",
    "model = SVC(class_weight = {1:8, -1:1}).fit(train_x, train_y)\n",
    "pred_y = model.predict(test_x)\n",
    "print(recall_score(test_y, pred_y))\n",
    "print(accuracy_score(test_y, pred_y))"
   ]
  },
  {
   "cell_type": "code",
   "execution_count": null,
   "id": "cbc9ae39",
   "metadata": {},
   "outputs": [],
   "source": []
  }
 ],
 "metadata": {
  "kernelspec": {
   "display_name": "Python 3 (ipykernel)",
   "language": "python",
   "name": "python3"
  },
  "language_info": {
   "codemirror_mode": {
    "name": "ipython",
    "version": 3
   },
   "file_extension": ".py",
   "mimetype": "text/x-python",
   "name": "python",
   "nbconvert_exporter": "python",
   "pygments_lexer": "ipython3",
   "version": "3.8.1"
  }
 },
 "nbformat": 4,
 "nbformat_minor": 5
}
