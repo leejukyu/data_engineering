{
 "cells": [
  {
   "cell_type": "markdown",
   "id": "9bd20c27",
   "metadata": {},
   "source": [
    "## 특징 간 상관성 제거\n",
    "- 선형식이 모델에 포함되는 경우, 특징간 상관성이 높으면 파라미터 추정이 어려움\n",
    "- 트리계열의 모델은 상관없지만, 상관성이 높은 변수 중 소수만 모델에 포함되므로 설명력에 영향\n",
    "- VIF 활용\n",
    "    - 한 특징을 라벨로 간주하고, 다른 특징을 사용한 회귀 모델이 높은 R^2을 보이는 경우 해당 특징과 다른 특징이 상관이 있다고 판단\n",
    "    - VIF가 높은 순서대로 제거하거나, 10이상인 경우 주로 삭제\n",
    "- 주성분 분석\n",
    "    - 특징이 서로 직교하도록 만들어 특징간 상관성을 줄임\n",
    "    - 차원 축소 등을 위해 분산의 대부분을 설명하는 주성분만 사용\n",
    "    - sklearn.decomposition.PCA : 주성분 분석을 수행하는 인스턴스를 생성\n",
    "    - n_components : 사용할 주성분 개수, 기존 차원 수보다 작아야함\n",
    "    - .explained_variance_ratio_ : 각 주성분이 원 데이터의 분산을 설명하는 정도"
   ]
  },
  {
   "cell_type": "code",
   "execution_count": 10,
   "id": "b5cad35a",
   "metadata": {},
   "outputs": [
    {
     "data": {
      "text/html": [
       "<div>\n",
       "<style scoped>\n",
       "    .dataframe tbody tr th:only-of-type {\n",
       "        vertical-align: middle;\n",
       "    }\n",
       "\n",
       "    .dataframe tbody tr th {\n",
       "        vertical-align: top;\n",
       "    }\n",
       "\n",
       "    .dataframe thead th {\n",
       "        text-align: right;\n",
       "    }\n",
       "</style>\n",
       "<table border=\"1\" class=\"dataframe\">\n",
       "  <thead>\n",
       "    <tr style=\"text-align: right;\">\n",
       "      <th></th>\n",
       "      <th>Length</th>\n",
       "      <th>Diameter</th>\n",
       "      <th>Height</th>\n",
       "      <th>Wholeweight</th>\n",
       "      <th>Shuckedweight</th>\n",
       "      <th>Visceraweight</th>\n",
       "      <th>Shellweight</th>\n",
       "    </tr>\n",
       "  </thead>\n",
       "  <tbody>\n",
       "    <tr>\n",
       "      <th>Length</th>\n",
       "      <td>1.000000</td>\n",
       "      <td>0.986156</td>\n",
       "      <td>0.813865</td>\n",
       "      <td>0.924023</td>\n",
       "      <td>0.897852</td>\n",
       "      <td>0.902204</td>\n",
       "      <td>0.894631</td>\n",
       "    </tr>\n",
       "    <tr>\n",
       "      <th>Diameter</th>\n",
       "      <td>0.986156</td>\n",
       "      <td>1.000000</td>\n",
       "      <td>0.819723</td>\n",
       "      <td>0.924217</td>\n",
       "      <td>0.893522</td>\n",
       "      <td>0.898785</td>\n",
       "      <td>0.901945</td>\n",
       "    </tr>\n",
       "    <tr>\n",
       "      <th>Height</th>\n",
       "      <td>0.813865</td>\n",
       "      <td>0.819723</td>\n",
       "      <td>1.000000</td>\n",
       "      <td>0.804134</td>\n",
       "      <td>0.761199</td>\n",
       "      <td>0.783753</td>\n",
       "      <td>0.800333</td>\n",
       "    </tr>\n",
       "    <tr>\n",
       "      <th>Wholeweight</th>\n",
       "      <td>0.924023</td>\n",
       "      <td>0.924217</td>\n",
       "      <td>0.804134</td>\n",
       "      <td>1.000000</td>\n",
       "      <td>0.968871</td>\n",
       "      <td>0.967362</td>\n",
       "      <td>0.953649</td>\n",
       "    </tr>\n",
       "    <tr>\n",
       "      <th>Shuckedweight</th>\n",
       "      <td>0.897852</td>\n",
       "      <td>0.893522</td>\n",
       "      <td>0.761199</td>\n",
       "      <td>0.968871</td>\n",
       "      <td>1.000000</td>\n",
       "      <td>0.933867</td>\n",
       "      <td>0.880542</td>\n",
       "    </tr>\n",
       "    <tr>\n",
       "      <th>Visceraweight</th>\n",
       "      <td>0.902204</td>\n",
       "      <td>0.898785</td>\n",
       "      <td>0.783753</td>\n",
       "      <td>0.967362</td>\n",
       "      <td>0.933867</td>\n",
       "      <td>1.000000</td>\n",
       "      <td>0.905861</td>\n",
       "    </tr>\n",
       "    <tr>\n",
       "      <th>Shellweight</th>\n",
       "      <td>0.894631</td>\n",
       "      <td>0.901945</td>\n",
       "      <td>0.800333</td>\n",
       "      <td>0.953649</td>\n",
       "      <td>0.880542</td>\n",
       "      <td>0.905861</td>\n",
       "      <td>1.000000</td>\n",
       "    </tr>\n",
       "  </tbody>\n",
       "</table>\n",
       "</div>"
      ],
      "text/plain": [
       "                 Length  Diameter    Height  Wholeweight  Shuckedweight  \\\n",
       "Length         1.000000  0.986156  0.813865     0.924023       0.897852   \n",
       "Diameter       0.986156  1.000000  0.819723     0.924217       0.893522   \n",
       "Height         0.813865  0.819723  1.000000     0.804134       0.761199   \n",
       "Wholeweight    0.924023  0.924217  0.804134     1.000000       0.968871   \n",
       "Shuckedweight  0.897852  0.893522  0.761199     0.968871       1.000000   \n",
       "Visceraweight  0.902204  0.898785  0.783753     0.967362       0.933867   \n",
       "Shellweight    0.894631  0.901945  0.800333     0.953649       0.880542   \n",
       "\n",
       "               Visceraweight  Shellweight  \n",
       "Length              0.902204     0.894631  \n",
       "Diameter            0.898785     0.901945  \n",
       "Height              0.783753     0.800333  \n",
       "Wholeweight         0.967362     0.953649  \n",
       "Shuckedweight       0.933867     0.880542  \n",
       "Visceraweight       1.000000     0.905861  \n",
       "Shellweight         0.905861     1.000000  "
      ]
     },
     "execution_count": 10,
     "metadata": {},
     "output_type": "execute_result"
    }
   ],
   "source": [
    "import pandas as pd\n",
    "from sklearn.model_selection import train_test_split\n",
    "df = pd.read_csv('./데이터/abalone.csv')\n",
    "x = df.drop(['Age'], axis = 1)\n",
    "y = df['Age']\n",
    "\n",
    "train_x, test_x, train_y, test_y = train_test_split(x,y)\n",
    "train_x.corr() # 특징 간 상관 행렬 출력"
   ]
  },
  {
   "cell_type": "markdown",
   "id": "9faf4d84",
   "metadata": {},
   "source": [
    "#### VIF 기준 특징 선택"
   ]
  },
  {
   "cell_type": "code",
   "execution_count": 11,
   "id": "8f580dc8",
   "metadata": {},
   "outputs": [],
   "source": [
    "from sklearn.linear_model import LinearRegression as LR\n",
    "VIF_dict = dict()\n",
    "for col in train_x.columns:\n",
    "    model = LR().fit(train_x.drop([col], axis = 1), train_x[col])\n",
    "    r2 = model.score(train_x.drop([col], axis = 1), train_x[col])\n",
    "    VIF = 1/(1-r2)\n",
    "    VIF_dict[col] = VIF"
   ]
  },
  {
   "cell_type": "code",
   "execution_count": 12,
   "id": "54cd8711",
   "metadata": {},
   "outputs": [
    {
     "data": {
      "text/plain": [
       "{'Length': 38.797203451394026,\n",
       " 'Diameter': 39.68876911674904,\n",
       " 'Height': 3.272537093604633,\n",
       " 'Wholeweight': 102.65654493866755,\n",
       " 'Shuckedweight': 26.720652444984033,\n",
       " 'Visceraweight': 17.690180168670846,\n",
       " 'Shellweight': 19.70904501826583}"
      ]
     },
     "execution_count": 12,
     "metadata": {},
     "output_type": "execute_result"
    }
   ],
   "source": [
    "VIF_dict # Height를 제외하고 모두 높으므로, 이러한 상황은 PCA를 사용하기 힘듬"
   ]
  },
  {
   "cell_type": "code",
   "execution_count": 13,
   "id": "f42e5788",
   "metadata": {},
   "outputs": [
    {
     "name": "stdout",
     "output_type": "stream",
     "text": [
      "1.5747111371547502\n"
     ]
    }
   ],
   "source": [
    "from sklearn.neural_network import MLPRegressor as MLP\n",
    "from sklearn.metrics import mean_absolute_error as MAE\n",
    "\n",
    "# 전체 특징을 모두 사용했을 때\n",
    "model = MLP(random_state = 2313, max_iter=500)\n",
    "model.fit(train_x, train_y)\n",
    "pred_y = model.predict(test_x)\n",
    "score = MAE(test_y, pred_y)\n",
    "print(score)"
   ]
  },
  {
   "cell_type": "code",
   "execution_count": 15,
   "id": "5f162798",
   "metadata": {},
   "outputs": [
    {
     "name": "stdout",
     "output_type": "stream",
     "text": [
      "1.5340330824321546\n"
     ]
    },
    {
     "name": "stderr",
     "output_type": "stream",
     "text": [
      "c:\\users\\82106\\appdata\\local\\programs\\python\\python38\\lib\\site-packages\\sklearn\\neural_network\\_multilayer_perceptron.py:614: ConvergenceWarning: Stochastic Optimizer: Maximum iterations (500) reached and the optimization hasn't converged yet.\n",
      "  warnings.warn(\n"
     ]
    }
   ],
   "source": [
    "# VIF 점수가 30점 미만인 특징만 사용하였을 때\n",
    "selected_features = [key for key, val in VIF_dict.items() if val < 30]\n",
    "model = MLP(random_state = 2313, max_iter=500)\n",
    "model.fit(train_x[selected_features], train_y)\n",
    "pred_y = model.predict(test_x[selected_features])\n",
    "score = MAE(test_y, pred_y)\n",
    "print(score)"
   ]
  },
  {
   "cell_type": "markdown",
   "id": "e641fad2",
   "metadata": {},
   "source": [
    "#### PCA 사용"
   ]
  },
  {
   "cell_type": "code",
   "execution_count": 16,
   "id": "4bea11a6",
   "metadata": {},
   "outputs": [
    {
     "name": "stdout",
     "output_type": "stream",
     "text": [
      "(3132, 3)\n"
     ]
    }
   ],
   "source": [
    "from sklearn.decomposition import PCA\n",
    "PCA_model = PCA(n_components = 3).fit(train_x)\n",
    "\n",
    "train_z = PCA_model.transform(train_x)\n",
    "test_z = PCA_model.transform(test_x)\n",
    "\n",
    "print(train_z.shape)"
   ]
  },
  {
   "cell_type": "code",
   "execution_count": 18,
   "id": "85b92e42",
   "metadata": {},
   "outputs": [
    {
     "name": "stdout",
     "output_type": "stream",
     "text": [
      "1.4743285738629737\n"
     ]
    }
   ],
   "source": [
    "model = MLP(random_state = 2313, max_iter=500)\n",
    "model.fit(train_z, train_y)\n",
    "pred_y = model.predict(test_z)\n",
    "score = MAE(test_y, pred_y)\n",
    "print(score)"
   ]
  },
  {
   "cell_type": "markdown",
   "id": "ac4467e2",
   "metadata": {},
   "source": [
    "# 변수 치우침 제거\n",
    "- 치우친 반대 방향의 값들이 이상치처럼 작용할 수 있으므로, 치우침 제거\n",
    "- 왜도 : 1.5 이상이면 치우쳤다 판단\n",
    "- scipy.stats\n",
    "#### 해결방안\n",
    "- 값 간 차이를 줄임 : log, sqrt"
   ]
  },
  {
   "cell_type": "code",
   "execution_count": 19,
   "id": "01a5e127",
   "metadata": {},
   "outputs": [
    {
     "data": {
      "text/plain": [
       "Band1     2.042964\n",
       "Band2     1.399994\n",
       "Band3     1.681616\n",
       "Band4     1.755210\n",
       "Band5     1.466803\n",
       "Band6     1.183945\n",
       "Band7     1.039505\n",
       "Band8     1.506274\n",
       "Band9     1.685665\n",
       "Band10    1.363778\n",
       "Band11    1.002877\n",
       "Band12    0.611954\n",
       "Band13    0.648960\n",
       "Band14    1.048454\n",
       "Band15    0.813608\n",
       "Band16    0.688193\n",
       "Band17    0.657626\n",
       "Band18    0.530925\n",
       "Band19    0.324271\n",
       "Band20   -0.056133\n",
       "Band21   -0.167111\n",
       "Band22   -0.425375\n",
       "Band23   -0.673283\n",
       "Band24   -0.698164\n",
       "Band25   -0.728501\n",
       "Band26   -0.633645\n",
       "Band27   -0.585871\n",
       "Band28   -0.604747\n",
       "Band29   -0.521568\n",
       "Band30   -0.153076\n",
       "Band31    0.284545\n",
       "Band32    0.288575\n",
       "Band33    0.316783\n",
       "Band34    0.562131\n",
       "Band35    0.597430\n",
       "Band36    0.575752\n",
       "Band37    0.668305\n",
       "Band38    1.116251\n",
       "Band39    0.973450\n",
       "Band40    0.846760\n",
       "Band41    0.927124\n",
       "Band42    0.923569\n",
       "Band43    0.813322\n",
       "Band44    1.252679\n",
       "Band45    1.454454\n",
       "Band46    1.638958\n",
       "Band47    1.602292\n",
       "Band48    1.304485\n",
       "Band49    1.375417\n",
       "Band50    1.816929\n",
       "Band51    1.736650\n",
       "Band52    1.618928\n",
       "Band53    1.098394\n",
       "Band54    1.145318\n",
       "Band55    2.153783\n",
       "Band56    1.842394\n",
       "Band57    1.636949\n",
       "Band58    2.055178\n",
       "Band59    1.814942\n",
       "Band60    2.987690\n",
       "dtype: float64"
      ]
     },
     "execution_count": 19,
     "metadata": {},
     "output_type": "execute_result"
    }
   ],
   "source": [
    "import pandas as pd\n",
    "df = pd.read_csv('./데이터/Sonar_Mines_Rocks.csv')\n",
    "x = df.drop('Y', axis = 1)\n",
    "y = df['Y']\n",
    "\n",
    "train_x, test_x, train_y, test_y = train_test_split(x,y)\n",
    "train_x.skew() # 왜도 확인 -> band60의 왜도가 가장 큼"
   ]
  },
  {
   "cell_type": "code",
   "execution_count": 20,
   "id": "48fbd13f",
   "metadata": {},
   "outputs": [
    {
     "data": {
      "text/plain": [
       "<matplotlib.axes._subplots.AxesSubplot at 0x1afae88fe20>"
      ]
     },
     "execution_count": 20,
     "metadata": {},
     "output_type": "execute_result"
    },
    {
     "data": {
      "image/png": "[encoded data removed]",
      "text/plain": [
       "<Figure size 432x288 with 1 Axes>"
      ]
     },
     "metadata": {
      "needs_background": "light"
     },
     "output_type": "display_data"
    }
   ],
   "source": [
    "%matplotlib inline\n",
    "df['Band60'].hist()"
   ]
  },
  {
   "cell_type": "markdown",
   "id": "1de93f35",
   "metadata": {},
   "source": [
    "#### 치우침을 제거했을 때의 성능 비교를 위한 모델 개방"
   ]
  },
  {
   "cell_type": "code",
   "execution_count": 22,
   "id": "c7d51715",
   "metadata": {},
   "outputs": [],
   "source": [
    "# 라벨 숫자로 바꾸기\n",
    "train_y.replace({'M':-1, 'R':1}, inplace = True)\n",
    "test_y.replace({'M':-1, 'R':1}, inplace = True)"
   ]
  },
  {
   "cell_type": "code",
   "execution_count": 24,
   "id": "6c94374d",
   "metadata": {},
   "outputs": [
    {
     "name": "stdout",
     "output_type": "stream",
     "text": [
      "0.761904761904762\n"
     ]
    }
   ],
   "source": [
    "# 원본 데이터로 모델링\n",
    "from sklearn.metrics import f1_score\n",
    "from sklearn.neural_network import MLPClassifier as MLP\n",
    "model = MLP(random_state = 153, max_iter = 1000).fit(train_x, train_y)\n",
    "pred_y = model.predict(test_x)\n",
    "score = f1_score(test_y, pred_y)\n",
    "print(score)"
   ]
  },
  {
   "cell_type": "code",
   "execution_count": 25,
   "id": "f5700f59",
   "metadata": {},
   "outputs": [],
   "source": [
    "# 왜도 기반 치우친 변수 제거\n",
    "biased_variables = train_x.columns[train_x.skew().abs() > 1.5]"
   ]
  },
  {
   "cell_type": "code",
   "execution_count": 27,
   "id": "e5238896",
   "metadata": {},
   "outputs": [],
   "source": [
    "import numpy as np\n",
    "# 치우침 제거\n",
    "train_x[biased_variables] = train_x[biased_variables] - train_x[biased_variables].min() + 1\n",
    "train_x[biased_variables] = np.log10(train_x[biased_variables])"
   ]
  },
  {
   "cell_type": "code",
   "execution_count": 28,
   "id": "6cde044a",
   "metadata": {},
   "outputs": [
    {
     "name": "stdout",
     "output_type": "stream",
     "text": [
      "0.761904761904762\n"
     ]
    },
    {
     "name": "stderr",
     "output_type": "stream",
     "text": [
      "c:\\users\\82106\\appdata\\local\\programs\\python\\python38\\lib\\site-packages\\pandas\\core\\frame.py:3636: SettingWithCopyWarning: \n",
      "A value is trying to be set on a copy of a slice from a DataFrame.\n",
      "Try using .loc[row_indexer,col_indexer] = value instead\n",
      "\n",
      "See the caveats in the documentation: https://pandas.pydata.org/pandas-docs/stable/user_guide/indexing.html#returning-a-view-versus-a-copy\n",
      "  self[k1] = value[k2]\n"
     ]
    }
   ],
   "source": [
    "# 치우침 제거 후 모델 평가\n",
    "model = MLP(random_state = 153, max_iter = 1000).fit(train_x, train_y)\n",
    "\n",
    "# 테스트도 데이터도 같은 방법으로 전처리 수행\n",
    "test_x[biased_variables] = test_x[biased_variables] - test_x[biased_variables].min() + 1\n",
    "test_x[biased_variables] = test_x[biased_variables].apply(np.log)\n",
    "\n",
    "pred_y = model.predict(test_x)\n",
    "score = f1_score(test_y, pred_y)\n",
    "print(score)"
   ]
  },
  {
   "cell_type": "markdown",
   "id": "cd883894",
   "metadata": {},
   "source": [
    "# 스케일링"
   ]
  },
  {
   "cell_type": "markdown",
   "id": "6a4ed51e",
   "metadata": {},
   "source": [
    "- 특징 간 스케일이 달라서 발생하는 문제\n",
    "- 스케일이 큰 변수에 영향 받는 모델 : k-최근접 이웃\n",
    "- 스케일이 작은 변수에 영향 받는 모델 : 회귀모델, SVM, 신경망\n",
    "- 스케일에 영향을 받지 않는 모델 : 나이브베이즈, 의사결정나무(이진)\n",
    "- 해결방법\n",
    "    - Standard Scaler - 특징의 정규분포를 가정(회귀) \n",
    "    - Min-Max Scaler - 특정 분포를 가정하지 않음(신경망, k-최근접이웃)"
   ]
  },
  {
   "cell_type": "markdown",
   "id": "d38c5581",
   "metadata": {},
   "source": [
    "- fit : 변수별 통계량을 계산하여 저장\n",
    "- transform : 변수별 통계량을 바탕으로 스케일링 수행\n",
    "- inverse_transform : 스케일링된 값을 다시 원래 값으로 변환"
   ]
  },
  {
   "cell_type": "code",
   "execution_count": 30,
   "id": "2d9a598d",
   "metadata": {},
   "outputs": [],
   "source": [
    "import pandas as pd\n",
    "from sklearn.model_selection import train_test_split\n",
    "df = pd.read_csv('./데이터/baseball.csv')\n",
    "x = df.drop('Salary', axis = 1)\n",
    "y = df['Salary']\n",
    "train_x, test_x, train_y, test_y = train_test_split(x,y)"
   ]
  },
  {
   "cell_type": "code",
   "execution_count": 31,
   "id": "aaf3a841",
   "metadata": {},
   "outputs": [
    {
     "data": {
      "text/plain": [
       "Batting_average              0.394\n",
       "On-base_percentage           0.423\n",
       "Runs                       133.000\n",
       "Hits                       215.000\n",
       "Doubles                     46.000\n",
       "Triples                     15.000\n",
       "HomeRuns                    44.000\n",
       "Runs_batted_in             122.000\n",
       "Walks                      108.000\n",
       "Strike-Outs                174.000\n",
       "Stolen_bases                72.000\n",
       "Errors                      27.000\n",
       "Free_agency_eligibility      1.000\n",
       "Free_agent                   1.000\n",
       "Arbitration_eligibility      1.000\n",
       "Arbitration                  1.000\n",
       "dtype: float64"
      ]
     },
     "execution_count": 31,
     "metadata": {},
     "output_type": "execute_result"
    }
   ],
   "source": [
    "train_x.max() - train_x.min() # 특징 간 스케일 차이가 큼을 확인"
   ]
  },
  {
   "cell_type": "code",
   "execution_count": 33,
   "id": "f51f90ba",
   "metadata": {},
   "outputs": [
    {
     "name": "stdout",
     "output_type": "stream",
     "text": [
      "706.5529411764705\n"
     ]
    }
   ],
   "source": [
    "from sklearn.neighbors import KNeighborsRegressor as KNN\n",
    "from sklearn.metrics import mean_absolute_error as MAE\n",
    "model = KNN().fit(train_x, train_y)\n",
    "pred_y = model.predict(test_x)\n",
    "score = MAE(test_y, pred_y)\n",
    "print(score)"
   ]
  },
  {
   "cell_type": "code",
   "execution_count": 35,
   "id": "00dd886e",
   "metadata": {},
   "outputs": [],
   "source": [
    "# 스케일링 수행\n",
    "from sklearn.preprocessing import MinMaxScaler\n",
    "scaler = MinMaxScaler().fit(train_x)\n",
    "s_train_x = scaler.transform(train_x)\n",
    "s_test_x = scaler.transform(test_x)"
   ]
  },
  {
   "cell_type": "code",
   "execution_count": 36,
   "id": "8d80ade3",
   "metadata": {},
   "outputs": [
    {
     "name": "stdout",
     "output_type": "stream",
     "text": [
      "503.22588235294126\n"
     ]
    }
   ],
   "source": [
    "model = KNN().fit(s_train_x, train_y)\n",
    "pred_y = model.predict(s_test_x)\n",
    "score = MAE(test_y, pred_y)\n",
    "print(score)"
   ]
  },
  {
   "cell_type": "code",
   "execution_count": null,
   "id": "4d87814f",
   "metadata": {},
   "outputs": [],
   "source": []
  }
 ],
 "metadata": {
  "kernelspec": {
   "display_name": "Python 3 (ipykernel)",
   "language": "python",
   "name": "python3"
  },
  "language_info": {
   "codemirror_mode": {
    "name": "ipython",
    "version": 3
   },
   "file_extension": ".py",
   "mimetype": "text/x-python",
   "name": "python",
   "nbconvert_exporter": "python",
   "pygments_lexer": "ipython3",
   "version": "3.8.1"
  }
 },
 "nbformat": 4,
 "nbformat_minor": 5
}
