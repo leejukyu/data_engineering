{
 "cells": [
  {
   "cell_type": "markdown",
   "id": "d16a648d",
   "metadata": {},
   "source": [
    "- 차원이 증가함에 따라 필요한 데이터 양과 시간 복잡도가 증가하는 문제\n",
    "- 차원을 줄여야 하는 이유 : 모델 학습시간 증가, 과적합으로 인한 성능 저하"
   ]
  },
  {
   "cell_type": "markdown",
   "id": "975e3d46",
   "metadata": {},
   "source": [
    "### 특징 선택\n",
    "- 효과적인 특징만 선택해서 차원 축소\n",
    "- n개의 특징으로 구성된 특징 집합에서 m<<n개의 특징 선택, 새 집합 구성\n",
    "### 적용 대상\n",
    "- 특징이 많은 데이터에만 적용X"
   ]
  },
  {
   "cell_type": "code",
   "execution_count": 1,
   "id": "eb47df10",
   "metadata": {},
   "outputs": [],
   "source": [
    "import pandas as pd\n",
    "df = pd.read_csv('./데이터/appendicitis.csv')\n",
    "x = df.drop('Class', axis = 1)\n",
    "y = df['Class']"
   ]
  },
  {
   "cell_type": "code",
   "execution_count": 2,
   "id": "75f901f7",
   "metadata": {},
   "outputs": [],
   "source": [
    "from sklearn.model_selection import train_test_split\n",
    "train_x, test_x, train_y, test_y = train_test_split(x,y)"
   ]
  },
  {
   "cell_type": "code",
   "execution_count": 3,
   "id": "d1220a4b",
   "metadata": {},
   "outputs": [
    {
     "name": "stdout",
     "output_type": "stream",
     "text": [
      "0.5333333333333333\n"
     ]
    }
   ],
   "source": [
    "# 특징에 따른 SVM 모델 테스트 함수 작성\n",
    "from sklearn.svm import SVC\n",
    "from sklearn.metrics import f1_score\n",
    "\n",
    "def feature_test(train_x, test_x, train_y, test_y, features):\n",
    "    s_train_x = train_x[features]\n",
    "    s_test_x = test_x[features]\n",
    "    \n",
    "    model = SVC().fit(s_train_x, train_y)\n",
    "    pred_y = model.predict(s_test_x)\n",
    "    return f1_score(test_y, pred_y)\n",
    "\n",
    "base_score = feature_test(train_x, test_x, train_y, test_y, train_x.columns) # 모든 특징을 썻을 때의 정수\n",
    "print(base_score)"
   ]
  },
  {
   "cell_type": "code",
   "execution_count": 4,
   "id": "529f688b",
   "metadata": {
    "scrolled": true
   },
   "outputs": [
    {
     "name": "stdout",
     "output_type": "stream",
     "text": [
      "1\n",
      "2\n"
     ]
    },
    {
     "name": "stderr",
     "output_type": "stream",
     "text": [
      "C:\\Users\\82106\\AppData\\Local\\Temp/ipykernel_924/308621351.py:14: DeprecationWarning: The truth value of an empty array is ambiguous. Returning False, but in future this will result in an error. Use `array.size > 0` to check that an array is not empty.\n",
      "  if score > best_score:\n",
      "C:\\Users\\82106\\AppData\\Local\\Temp/ipykernel_924/308621351.py:14: DeprecationWarning: The truth value of an empty array is ambiguous. Returning False, but in future this will result in an error. Use `array.size > 0` to check that an array is not empty.\n",
      "  if score > best_score:\n",
      "C:\\Users\\82106\\AppData\\Local\\Temp/ipykernel_924/308621351.py:14: DeprecationWarning: The truth value of an empty array is ambiguous. Returning False, but in future this will result in an error. Use `array.size > 0` to check that an array is not empty.\n",
      "  if score > best_score:\n",
      "C:\\Users\\82106\\AppData\\Local\\Temp/ipykernel_924/308621351.py:14: DeprecationWarning: The truth value of an empty array is ambiguous. Returning False, but in future this will result in an error. Use `array.size > 0` to check that an array is not empty.\n",
      "  if score > best_score:\n",
      "C:\\Users\\82106\\AppData\\Local\\Temp/ipykernel_924/308621351.py:14: DeprecationWarning: The truth value of an empty array is ambiguous. Returning False, but in future this will result in an error. Use `array.size > 0` to check that an array is not empty.\n",
      "  if score > best_score:\n",
      "C:\\Users\\82106\\AppData\\Local\\Temp/ipykernel_924/308621351.py:14: DeprecationWarning: The truth value of an empty array is ambiguous. Returning False, but in future this will result in an error. Use `array.size > 0` to check that an array is not empty.\n",
      "  if score > best_score:\n",
      "C:\\Users\\82106\\AppData\\Local\\Temp/ipykernel_924/308621351.py:14: DeprecationWarning: The truth value of an empty array is ambiguous. Returning False, but in future this will result in an error. Use `array.size > 0` to check that an array is not empty.\n",
      "  if score > best_score:\n",
      "C:\\Users\\82106\\AppData\\Local\\Temp/ipykernel_924/308621351.py:14: DeprecationWarning: The truth value of an empty array is ambiguous. Returning False, but in future this will result in an error. Use `array.size > 0` to check that an array is not empty.\n",
      "  if score > best_score:\n",
      "C:\\Users\\82106\\AppData\\Local\\Temp/ipykernel_924/308621351.py:14: DeprecationWarning: The truth value of an empty array is ambiguous. Returning False, but in future this will result in an error. Use `array.size > 0` to check that an array is not empty.\n",
      "  if score > best_score:\n",
      "C:\\Users\\82106\\AppData\\Local\\Temp/ipykernel_924/308621351.py:14: DeprecationWarning: The truth value of an empty array is ambiguous. Returning False, but in future this will result in an error. Use `array.size > 0` to check that an array is not empty.\n",
      "  if score > best_score:\n",
      "C:\\Users\\82106\\AppData\\Local\\Temp/ipykernel_924/308621351.py:14: DeprecationWarning: The truth value of an empty array is ambiguous. Returning False, but in future this will result in an error. Use `array.size > 0` to check that an array is not empty.\n",
      "  if score > best_score:\n",
      "C:\\Users\\82106\\AppData\\Local\\Temp/ipykernel_924/308621351.py:14: DeprecationWarning: The truth value of an empty array is ambiguous. Returning False, but in future this will result in an error. Use `array.size > 0` to check that an array is not empty.\n",
      "  if score > best_score:\n",
      "C:\\Users\\82106\\AppData\\Local\\Temp/ipykernel_924/308621351.py:14: DeprecationWarning: The truth value of an empty array is ambiguous. Returning False, but in future this will result in an error. Use `array.size > 0` to check that an array is not empty.\n",
      "  if score > best_score:\n",
      "C:\\Users\\82106\\AppData\\Local\\Temp/ipykernel_924/308621351.py:14: DeprecationWarning: The truth value of an empty array is ambiguous. Returning False, but in future this will result in an error. Use `array.size > 0` to check that an array is not empty.\n",
      "  if score > best_score:\n",
      "C:\\Users\\82106\\AppData\\Local\\Temp/ipykernel_924/308621351.py:14: DeprecationWarning: The truth value of an empty array is ambiguous. Returning False, but in future this will result in an error. Use `array.size > 0` to check that an array is not empty.\n",
      "  if score > best_score:\n",
      "C:\\Users\\82106\\AppData\\Local\\Temp/ipykernel_924/308621351.py:14: DeprecationWarning: The truth value of an empty array is ambiguous. Returning False, but in future this will result in an error. Use `array.size > 0` to check that an array is not empty.\n",
      "  if score > best_score:\n",
      "C:\\Users\\82106\\AppData\\Local\\Temp/ipykernel_924/308621351.py:14: DeprecationWarning: The truth value of an empty array is ambiguous. Returning False, but in future this will result in an error. Use `array.size > 0` to check that an array is not empty.\n",
      "  if score > best_score:\n",
      "C:\\Users\\82106\\AppData\\Local\\Temp/ipykernel_924/308621351.py:14: DeprecationWarning: The truth value of an empty array is ambiguous. Returning False, but in future this will result in an error. Use `array.size > 0` to check that an array is not empty.\n",
      "  if score > best_score:\n",
      "C:\\Users\\82106\\AppData\\Local\\Temp/ipykernel_924/308621351.py:14: DeprecationWarning: The truth value of an empty array is ambiguous. Returning False, but in future this will result in an error. Use `array.size > 0` to check that an array is not empty.\n",
      "  if score > best_score:\n",
      "C:\\Users\\82106\\AppData\\Local\\Temp/ipykernel_924/308621351.py:14: DeprecationWarning: The truth value of an empty array is ambiguous. Returning False, but in future this will result in an error. Use `array.size > 0` to check that an array is not empty.\n",
      "  if score > best_score:\n",
      "C:\\Users\\82106\\AppData\\Local\\Temp/ipykernel_924/308621351.py:14: DeprecationWarning: The truth value of an empty array is ambiguous. Returning False, but in future this will result in an error. Use `array.size > 0` to check that an array is not empty.\n",
      "  if score > best_score:\n",
      "C:\\Users\\82106\\AppData\\Local\\Temp/ipykernel_924/308621351.py:14: DeprecationWarning: The truth value of an empty array is ambiguous. Returning False, but in future this will result in an error. Use `array.size > 0` to check that an array is not empty.\n",
      "  if score > best_score:\n",
      "C:\\Users\\82106\\AppData\\Local\\Temp/ipykernel_924/308621351.py:14: DeprecationWarning: The truth value of an empty array is ambiguous. Returning False, but in future this will result in an error. Use `array.size > 0` to check that an array is not empty.\n",
      "  if score > best_score:\n",
      "C:\\Users\\82106\\AppData\\Local\\Temp/ipykernel_924/308621351.py:14: DeprecationWarning: The truth value of an empty array is ambiguous. Returning False, but in future this will result in an error. Use `array.size > 0` to check that an array is not empty.\n",
      "  if score > best_score:\n",
      "C:\\Users\\82106\\AppData\\Local\\Temp/ipykernel_924/308621351.py:14: DeprecationWarning: The truth value of an empty array is ambiguous. Returning False, but in future this will result in an error. Use `array.size > 0` to check that an array is not empty.\n",
      "  if score > best_score:\n",
      "C:\\Users\\82106\\AppData\\Local\\Temp/ipykernel_924/308621351.py:14: DeprecationWarning: The truth value of an empty array is ambiguous. Returning False, but in future this will result in an error. Use `array.size > 0` to check that an array is not empty.\n",
      "  if score > best_score:\n",
      "C:\\Users\\82106\\AppData\\Local\\Temp/ipykernel_924/308621351.py:14: DeprecationWarning: The truth value of an empty array is ambiguous. Returning False, but in future this will result in an error. Use `array.size > 0` to check that an array is not empty.\n",
      "  if score > best_score:\n",
      "C:\\Users\\82106\\AppData\\Local\\Temp/ipykernel_924/308621351.py:14: DeprecationWarning: The truth value of an empty array is ambiguous. Returning False, but in future this will result in an error. Use `array.size > 0` to check that an array is not empty.\n",
      "  if score > best_score:\n",
      "C:\\Users\\82106\\AppData\\Local\\Temp/ipykernel_924/308621351.py:14: DeprecationWarning: The truth value of an empty array is ambiguous. Returning False, but in future this will result in an error. Use `array.size > 0` to check that an array is not empty.\n",
      "  if score > best_score:\n",
      "C:\\Users\\82106\\AppData\\Local\\Temp/ipykernel_924/308621351.py:14: DeprecationWarning: The truth value of an empty array is ambiguous. Returning False, but in future this will result in an error. Use `array.size > 0` to check that an array is not empty.\n",
      "  if score > best_score:\n",
      "C:\\Users\\82106\\AppData\\Local\\Temp/ipykernel_924/308621351.py:14: DeprecationWarning: The truth value of an empty array is ambiguous. Returning False, but in future this will result in an error. Use `array.size > 0` to check that an array is not empty.\n",
      "  if score > best_score:\n",
      "C:\\Users\\82106\\AppData\\Local\\Temp/ipykernel_924/308621351.py:14: DeprecationWarning: The truth value of an empty array is ambiguous. Returning False, but in future this will result in an error. Use `array.size > 0` to check that an array is not empty.\n",
      "  if score > best_score:\n",
      "C:\\Users\\82106\\AppData\\Local\\Temp/ipykernel_924/308621351.py:14: DeprecationWarning: The truth value of an empty array is ambiguous. Returning False, but in future this will result in an error. Use `array.size > 0` to check that an array is not empty.\n",
      "  if score > best_score:\n",
      "C:\\Users\\82106\\AppData\\Local\\Temp/ipykernel_924/308621351.py:14: DeprecationWarning: The truth value of an empty array is ambiguous. Returning False, but in future this will result in an error. Use `array.size > 0` to check that an array is not empty.\n",
      "  if score > best_score:\n",
      "C:\\Users\\82106\\AppData\\Local\\Temp/ipykernel_924/308621351.py:14: DeprecationWarning: The truth value of an empty array is ambiguous. Returning False, but in future this will result in an error. Use `array.size > 0` to check that an array is not empty.\n",
      "  if score > best_score:\n",
      "C:\\Users\\82106\\AppData\\Local\\Temp/ipykernel_924/308621351.py:14: DeprecationWarning: The truth value of an empty array is ambiguous. Returning False, but in future this will result in an error. Use `array.size > 0` to check that an array is not empty.\n",
      "  if score > best_score:\n",
      "C:\\Users\\82106\\AppData\\Local\\Temp/ipykernel_924/308621351.py:14: DeprecationWarning: The truth value of an empty array is ambiguous. Returning False, but in future this will result in an error. Use `array.size > 0` to check that an array is not empty.\n",
      "  if score > best_score:\n",
      "C:\\Users\\82106\\AppData\\Local\\Temp/ipykernel_924/308621351.py:14: DeprecationWarning: The truth value of an empty array is ambiguous. Returning False, but in future this will result in an error. Use `array.size > 0` to check that an array is not empty.\n",
      "  if score > best_score:\n",
      "C:\\Users\\82106\\AppData\\Local\\Temp/ipykernel_924/308621351.py:14: DeprecationWarning: The truth value of an empty array is ambiguous. Returning False, but in future this will result in an error. Use `array.size > 0` to check that an array is not empty.\n",
      "  if score > best_score:\n",
      "C:\\Users\\82106\\AppData\\Local\\Temp/ipykernel_924/308621351.py:14: DeprecationWarning: The truth value of an empty array is ambiguous. Returning False, but in future this will result in an error. Use `array.size > 0` to check that an array is not empty.\n",
      "  if score > best_score:\n",
      "C:\\Users\\82106\\AppData\\Local\\Temp/ipykernel_924/308621351.py:14: DeprecationWarning: The truth value of an empty array is ambiguous. Returning False, but in future this will result in an error. Use `array.size > 0` to check that an array is not empty.\n",
      "  if score > best_score:\n",
      "C:\\Users\\82106\\AppData\\Local\\Temp/ipykernel_924/308621351.py:14: DeprecationWarning: The truth value of an empty array is ambiguous. Returning False, but in future this will result in an error. Use `array.size > 0` to check that an array is not empty.\n",
      "  if score > best_score:\n",
      "C:\\Users\\82106\\AppData\\Local\\Temp/ipykernel_924/308621351.py:14: DeprecationWarning: The truth value of an empty array is ambiguous. Returning False, but in future this will result in an error. Use `array.size > 0` to check that an array is not empty.\n",
      "  if score > best_score:\n",
      "C:\\Users\\82106\\AppData\\Local\\Temp/ipykernel_924/308621351.py:14: DeprecationWarning: The truth value of an empty array is ambiguous. Returning False, but in future this will result in an error. Use `array.size > 0` to check that an array is not empty.\n",
      "  if score > best_score:\n",
      "C:\\Users\\82106\\AppData\\Local\\Temp/ipykernel_924/308621351.py:14: DeprecationWarning: The truth value of an empty array is ambiguous. Returning False, but in future this will result in an error. Use `array.size > 0` to check that an array is not empty.\n",
      "  if score > best_score:\n",
      "C:\\Users\\82106\\AppData\\Local\\Temp/ipykernel_924/308621351.py:14: DeprecationWarning: The truth value of an empty array is ambiguous. Returning False, but in future this will result in an error. Use `array.size > 0` to check that an array is not empty.\n",
      "  if score > best_score:\n",
      "C:\\Users\\82106\\AppData\\Local\\Temp/ipykernel_924/308621351.py:14: DeprecationWarning: The truth value of an empty array is ambiguous. Returning False, but in future this will result in an error. Use `array.size > 0` to check that an array is not empty.\n",
      "  if score > best_score:\n",
      "C:\\Users\\82106\\AppData\\Local\\Temp/ipykernel_924/308621351.py:14: DeprecationWarning: The truth value of an empty array is ambiguous. Returning False, but in future this will result in an error. Use `array.size > 0` to check that an array is not empty.\n",
      "  if score > best_score:\n",
      "C:\\Users\\82106\\AppData\\Local\\Temp/ipykernel_924/308621351.py:14: DeprecationWarning: The truth value of an empty array is ambiguous. Returning False, but in future this will result in an error. Use `array.size > 0` to check that an array is not empty.\n",
      "  if score > best_score:\n"
     ]
    },
    {
     "name": "stdout",
     "output_type": "stream",
     "text": [
      "3\n"
     ]
    },
    {
     "name": "stderr",
     "output_type": "stream",
     "text": [
      "C:\\Users\\82106\\AppData\\Local\\Temp/ipykernel_924/308621351.py:14: DeprecationWarning: The truth value of an empty array is ambiguous. Returning False, but in future this will result in an error. Use `array.size > 0` to check that an array is not empty.\n",
      "  if score > best_score:\n",
      "C:\\Users\\82106\\AppData\\Local\\Temp/ipykernel_924/308621351.py:14: DeprecationWarning: The truth value of an empty array is ambiguous. Returning False, but in future this will result in an error. Use `array.size > 0` to check that an array is not empty.\n",
      "  if score > best_score:\n",
      "C:\\Users\\82106\\AppData\\Local\\Temp/ipykernel_924/308621351.py:14: DeprecationWarning: The truth value of an empty array is ambiguous. Returning False, but in future this will result in an error. Use `array.size > 0` to check that an array is not empty.\n",
      "  if score > best_score:\n",
      "C:\\Users\\82106\\AppData\\Local\\Temp/ipykernel_924/308621351.py:14: DeprecationWarning: The truth value of an empty array is ambiguous. Returning False, but in future this will result in an error. Use `array.size > 0` to check that an array is not empty.\n",
      "  if score > best_score:\n",
      "C:\\Users\\82106\\AppData\\Local\\Temp/ipykernel_924/308621351.py:14: DeprecationWarning: The truth value of an empty array is ambiguous. Returning False, but in future this will result in an error. Use `array.size > 0` to check that an array is not empty.\n",
      "  if score > best_score:\n",
      "C:\\Users\\82106\\AppData\\Local\\Temp/ipykernel_924/308621351.py:14: DeprecationWarning: The truth value of an empty array is ambiguous. Returning False, but in future this will result in an error. Use `array.size > 0` to check that an array is not empty.\n",
      "  if score > best_score:\n",
      "C:\\Users\\82106\\AppData\\Local\\Temp/ipykernel_924/308621351.py:14: DeprecationWarning: The truth value of an empty array is ambiguous. Returning False, but in future this will result in an error. Use `array.size > 0` to check that an array is not empty.\n",
      "  if score > best_score:\n",
      "C:\\Users\\82106\\AppData\\Local\\Temp/ipykernel_924/308621351.py:14: DeprecationWarning: The truth value of an empty array is ambiguous. Returning False, but in future this will result in an error. Use `array.size > 0` to check that an array is not empty.\n",
      "  if score > best_score:\n",
      "C:\\Users\\82106\\AppData\\Local\\Temp/ipykernel_924/308621351.py:14: DeprecationWarning: The truth value of an empty array is ambiguous. Returning False, but in future this will result in an error. Use `array.size > 0` to check that an array is not empty.\n",
      "  if score > best_score:\n",
      "C:\\Users\\82106\\AppData\\Local\\Temp/ipykernel_924/308621351.py:14: DeprecationWarning: The truth value of an empty array is ambiguous. Returning False, but in future this will result in an error. Use `array.size > 0` to check that an array is not empty.\n",
      "  if score > best_score:\n",
      "C:\\Users\\82106\\AppData\\Local\\Temp/ipykernel_924/308621351.py:14: DeprecationWarning: The truth value of an empty array is ambiguous. Returning False, but in future this will result in an error. Use `array.size > 0` to check that an array is not empty.\n",
      "  if score > best_score:\n",
      "C:\\Users\\82106\\AppData\\Local\\Temp/ipykernel_924/308621351.py:14: DeprecationWarning: The truth value of an empty array is ambiguous. Returning False, but in future this will result in an error. Use `array.size > 0` to check that an array is not empty.\n",
      "  if score > best_score:\n",
      "C:\\Users\\82106\\AppData\\Local\\Temp/ipykernel_924/308621351.py:14: DeprecationWarning: The truth value of an empty array is ambiguous. Returning False, but in future this will result in an error. Use `array.size > 0` to check that an array is not empty.\n",
      "  if score > best_score:\n",
      "C:\\Users\\82106\\AppData\\Local\\Temp/ipykernel_924/308621351.py:14: DeprecationWarning: The truth value of an empty array is ambiguous. Returning False, but in future this will result in an error. Use `array.size > 0` to check that an array is not empty.\n",
      "  if score > best_score:\n",
      "C:\\Users\\82106\\AppData\\Local\\Temp/ipykernel_924/308621351.py:14: DeprecationWarning: The truth value of an empty array is ambiguous. Returning False, but in future this will result in an error. Use `array.size > 0` to check that an array is not empty.\n",
      "  if score > best_score:\n",
      "C:\\Users\\82106\\AppData\\Local\\Temp/ipykernel_924/308621351.py:14: DeprecationWarning: The truth value of an empty array is ambiguous. Returning False, but in future this will result in an error. Use `array.size > 0` to check that an array is not empty.\n",
      "  if score > best_score:\n",
      "C:\\Users\\82106\\AppData\\Local\\Temp/ipykernel_924/308621351.py:14: DeprecationWarning: The truth value of an empty array is ambiguous. Returning False, but in future this will result in an error. Use `array.size > 0` to check that an array is not empty.\n",
      "  if score > best_score:\n",
      "C:\\Users\\82106\\AppData\\Local\\Temp/ipykernel_924/308621351.py:14: DeprecationWarning: The truth value of an empty array is ambiguous. Returning False, but in future this will result in an error. Use `array.size > 0` to check that an array is not empty.\n",
      "  if score > best_score:\n",
      "C:\\Users\\82106\\AppData\\Local\\Temp/ipykernel_924/308621351.py:14: DeprecationWarning: The truth value of an empty array is ambiguous. Returning False, but in future this will result in an error. Use `array.size > 0` to check that an array is not empty.\n",
      "  if score > best_score:\n",
      "C:\\Users\\82106\\AppData\\Local\\Temp/ipykernel_924/308621351.py:14: DeprecationWarning: The truth value of an empty array is ambiguous. Returning False, but in future this will result in an error. Use `array.size > 0` to check that an array is not empty.\n",
      "  if score > best_score:\n",
      "C:\\Users\\82106\\AppData\\Local\\Temp/ipykernel_924/308621351.py:14: DeprecationWarning: The truth value of an empty array is ambiguous. Returning False, but in future this will result in an error. Use `array.size > 0` to check that an array is not empty.\n",
      "  if score > best_score:\n",
      "C:\\Users\\82106\\AppData\\Local\\Temp/ipykernel_924/308621351.py:14: DeprecationWarning: The truth value of an empty array is ambiguous. Returning False, but in future this will result in an error. Use `array.size > 0` to check that an array is not empty.\n",
      "  if score > best_score:\n",
      "C:\\Users\\82106\\AppData\\Local\\Temp/ipykernel_924/308621351.py:14: DeprecationWarning: The truth value of an empty array is ambiguous. Returning False, but in future this will result in an error. Use `array.size > 0` to check that an array is not empty.\n",
      "  if score > best_score:\n",
      "C:\\Users\\82106\\AppData\\Local\\Temp/ipykernel_924/308621351.py:14: DeprecationWarning: The truth value of an empty array is ambiguous. Returning False, but in future this will result in an error. Use `array.size > 0` to check that an array is not empty.\n",
      "  if score > best_score:\n",
      "C:\\Users\\82106\\AppData\\Local\\Temp/ipykernel_924/308621351.py:14: DeprecationWarning: The truth value of an empty array is ambiguous. Returning False, but in future this will result in an error. Use `array.size > 0` to check that an array is not empty.\n",
      "  if score > best_score:\n",
      "C:\\Users\\82106\\AppData\\Local\\Temp/ipykernel_924/308621351.py:14: DeprecationWarning: The truth value of an empty array is ambiguous. Returning False, but in future this will result in an error. Use `array.size > 0` to check that an array is not empty.\n",
      "  if score > best_score:\n",
      "C:\\Users\\82106\\AppData\\Local\\Temp/ipykernel_924/308621351.py:14: DeprecationWarning: The truth value of an empty array is ambiguous. Returning False, but in future this will result in an error. Use `array.size > 0` to check that an array is not empty.\n",
      "  if score > best_score:\n"
     ]
    },
    {
     "name": "stdout",
     "output_type": "stream",
     "text": [
      "4\n"
     ]
    },
    {
     "name": "stderr",
     "output_type": "stream",
     "text": [
      "C:\\Users\\82106\\AppData\\Local\\Temp/ipykernel_924/308621351.py:14: DeprecationWarning: The truth value of an empty array is ambiguous. Returning False, but in future this will result in an error. Use `array.size > 0` to check that an array is not empty.\n",
      "  if score > best_score:\n",
      "C:\\Users\\82106\\AppData\\Local\\Temp/ipykernel_924/308621351.py:14: DeprecationWarning: The truth value of an empty array is ambiguous. Returning False, but in future this will result in an error. Use `array.size > 0` to check that an array is not empty.\n",
      "  if score > best_score:\n",
      "C:\\Users\\82106\\AppData\\Local\\Temp/ipykernel_924/308621351.py:14: DeprecationWarning: The truth value of an empty array is ambiguous. Returning False, but in future this will result in an error. Use `array.size > 0` to check that an array is not empty.\n",
      "  if score > best_score:\n",
      "C:\\Users\\82106\\AppData\\Local\\Temp/ipykernel_924/308621351.py:14: DeprecationWarning: The truth value of an empty array is ambiguous. Returning False, but in future this will result in an error. Use `array.size > 0` to check that an array is not empty.\n",
      "  if score > best_score:\n",
      "C:\\Users\\82106\\AppData\\Local\\Temp/ipykernel_924/308621351.py:14: DeprecationWarning: The truth value of an empty array is ambiguous. Returning False, but in future this will result in an error. Use `array.size > 0` to check that an array is not empty.\n",
      "  if score > best_score:\n",
      "C:\\Users\\82106\\AppData\\Local\\Temp/ipykernel_924/308621351.py:14: DeprecationWarning: The truth value of an empty array is ambiguous. Returning False, but in future this will result in an error. Use `array.size > 0` to check that an array is not empty.\n",
      "  if score > best_score:\n",
      "C:\\Users\\82106\\AppData\\Local\\Temp/ipykernel_924/308621351.py:14: DeprecationWarning: The truth value of an empty array is ambiguous. Returning False, but in future this will result in an error. Use `array.size > 0` to check that an array is not empty.\n",
      "  if score > best_score:\n",
      "C:\\Users\\82106\\AppData\\Local\\Temp/ipykernel_924/308621351.py:14: DeprecationWarning: The truth value of an empty array is ambiguous. Returning False, but in future this will result in an error. Use `array.size > 0` to check that an array is not empty.\n",
      "  if score > best_score:\n",
      "C:\\Users\\82106\\AppData\\Local\\Temp/ipykernel_924/308621351.py:14: DeprecationWarning: The truth value of an empty array is ambiguous. Returning False, but in future this will result in an error. Use `array.size > 0` to check that an array is not empty.\n",
      "  if score > best_score:\n",
      "C:\\Users\\82106\\AppData\\Local\\Temp/ipykernel_924/308621351.py:14: DeprecationWarning: The truth value of an empty array is ambiguous. Returning False, but in future this will result in an error. Use `array.size > 0` to check that an array is not empty.\n",
      "  if score > best_score:\n",
      "C:\\Users\\82106\\AppData\\Local\\Temp/ipykernel_924/308621351.py:14: DeprecationWarning: The truth value of an empty array is ambiguous. Returning False, but in future this will result in an error. Use `array.size > 0` to check that an array is not empty.\n",
      "  if score > best_score:\n",
      "C:\\Users\\82106\\AppData\\Local\\Temp/ipykernel_924/308621351.py:14: DeprecationWarning: The truth value of an empty array is ambiguous. Returning False, but in future this will result in an error. Use `array.size > 0` to check that an array is not empty.\n",
      "  if score > best_score:\n",
      "C:\\Users\\82106\\AppData\\Local\\Temp/ipykernel_924/308621351.py:14: DeprecationWarning: The truth value of an empty array is ambiguous. Returning False, but in future this will result in an error. Use `array.size > 0` to check that an array is not empty.\n",
      "  if score > best_score:\n",
      "C:\\Users\\82106\\AppData\\Local\\Temp/ipykernel_924/308621351.py:14: DeprecationWarning: The truth value of an empty array is ambiguous. Returning False, but in future this will result in an error. Use `array.size > 0` to check that an array is not empty.\n",
      "  if score > best_score:\n",
      "C:\\Users\\82106\\AppData\\Local\\Temp/ipykernel_924/308621351.py:14: DeprecationWarning: The truth value of an empty array is ambiguous. Returning False, but in future this will result in an error. Use `array.size > 0` to check that an array is not empty.\n",
      "  if score > best_score:\n",
      "C:\\Users\\82106\\AppData\\Local\\Temp/ipykernel_924/308621351.py:14: DeprecationWarning: The truth value of an empty array is ambiguous. Returning False, but in future this will result in an error. Use `array.size > 0` to check that an array is not empty.\n",
      "  if score > best_score:\n",
      "C:\\Users\\82106\\AppData\\Local\\Temp/ipykernel_924/308621351.py:14: DeprecationWarning: The truth value of an empty array is ambiguous. Returning False, but in future this will result in an error. Use `array.size > 0` to check that an array is not empty.\n",
      "  if score > best_score:\n",
      "C:\\Users\\82106\\AppData\\Local\\Temp/ipykernel_924/308621351.py:14: DeprecationWarning: The truth value of an empty array is ambiguous. Returning False, but in future this will result in an error. Use `array.size > 0` to check that an array is not empty.\n",
      "  if score > best_score:\n",
      "C:\\Users\\82106\\AppData\\Local\\Temp/ipykernel_924/308621351.py:14: DeprecationWarning: The truth value of an empty array is ambiguous. Returning False, but in future this will result in an error. Use `array.size > 0` to check that an array is not empty.\n",
      "  if score > best_score:\n",
      "C:\\Users\\82106\\AppData\\Local\\Temp/ipykernel_924/308621351.py:14: DeprecationWarning: The truth value of an empty array is ambiguous. Returning False, but in future this will result in an error. Use `array.size > 0` to check that an array is not empty.\n",
      "  if score > best_score:\n",
      "C:\\Users\\82106\\AppData\\Local\\Temp/ipykernel_924/308621351.py:14: DeprecationWarning: The truth value of an empty array is ambiguous. Returning False, but in future this will result in an error. Use `array.size > 0` to check that an array is not empty.\n",
      "  if score > best_score:\n",
      "C:\\Users\\82106\\AppData\\Local\\Temp/ipykernel_924/308621351.py:14: DeprecationWarning: The truth value of an empty array is ambiguous. Returning False, but in future this will result in an error. Use `array.size > 0` to check that an array is not empty.\n",
      "  if score > best_score:\n",
      "C:\\Users\\82106\\AppData\\Local\\Temp/ipykernel_924/308621351.py:14: DeprecationWarning: The truth value of an empty array is ambiguous. Returning False, but in future this will result in an error. Use `array.size > 0` to check that an array is not empty.\n",
      "  if score > best_score:\n",
      "C:\\Users\\82106\\AppData\\Local\\Temp/ipykernel_924/308621351.py:14: DeprecationWarning: The truth value of an empty array is ambiguous. Returning False, but in future this will result in an error. Use `array.size > 0` to check that an array is not empty.\n",
      "  if score > best_score:\n",
      "C:\\Users\\82106\\AppData\\Local\\Temp/ipykernel_924/308621351.py:14: DeprecationWarning: The truth value of an empty array is ambiguous. Returning False, but in future this will result in an error. Use `array.size > 0` to check that an array is not empty.\n",
      "  if score > best_score:\n",
      "C:\\Users\\82106\\AppData\\Local\\Temp/ipykernel_924/308621351.py:14: DeprecationWarning: The truth value of an empty array is ambiguous. Returning False, but in future this will result in an error. Use `array.size > 0` to check that an array is not empty.\n",
      "  if score > best_score:\n",
      "C:\\Users\\82106\\AppData\\Local\\Temp/ipykernel_924/308621351.py:14: DeprecationWarning: The truth value of an empty array is ambiguous. Returning False, but in future this will result in an error. Use `array.size > 0` to check that an array is not empty.\n",
      "  if score > best_score:\n"
     ]
    },
    {
     "name": "stdout",
     "output_type": "stream",
     "text": [
      "5\n",
      "6\n"
     ]
    },
    {
     "name": "stderr",
     "output_type": "stream",
     "text": [
      "C:\\Users\\82106\\AppData\\Local\\Temp/ipykernel_924/308621351.py:14: DeprecationWarning: The truth value of an empty array is ambiguous. Returning False, but in future this will result in an error. Use `array.size > 0` to check that an array is not empty.\n",
      "  if score > best_score:\n",
      "C:\\Users\\82106\\AppData\\Local\\Temp/ipykernel_924/308621351.py:14: DeprecationWarning: The truth value of an empty array is ambiguous. Returning False, but in future this will result in an error. Use `array.size > 0` to check that an array is not empty.\n",
      "  if score > best_score:\n",
      "C:\\Users\\82106\\AppData\\Local\\Temp/ipykernel_924/308621351.py:14: DeprecationWarning: The truth value of an empty array is ambiguous. Returning False, but in future this will result in an error. Use `array.size > 0` to check that an array is not empty.\n",
      "  if score > best_score:\n",
      "C:\\Users\\82106\\AppData\\Local\\Temp/ipykernel_924/308621351.py:14: DeprecationWarning: The truth value of an empty array is ambiguous. Returning False, but in future this will result in an error. Use `array.size > 0` to check that an array is not empty.\n",
      "  if score > best_score:\n",
      "C:\\Users\\82106\\AppData\\Local\\Temp/ipykernel_924/308621351.py:14: DeprecationWarning: The truth value of an empty array is ambiguous. Returning False, but in future this will result in an error. Use `array.size > 0` to check that an array is not empty.\n",
      "  if score > best_score:\n",
      "C:\\Users\\82106\\AppData\\Local\\Temp/ipykernel_924/308621351.py:14: DeprecationWarning: The truth value of an empty array is ambiguous. Returning False, but in future this will result in an error. Use `array.size > 0` to check that an array is not empty.\n",
      "  if score > best_score:\n",
      "C:\\Users\\82106\\AppData\\Local\\Temp/ipykernel_924/308621351.py:14: DeprecationWarning: The truth value of an empty array is ambiguous. Returning False, but in future this will result in an error. Use `array.size > 0` to check that an array is not empty.\n",
      "  if score > best_score:\n",
      "C:\\Users\\82106\\AppData\\Local\\Temp/ipykernel_924/308621351.py:14: DeprecationWarning: The truth value of an empty array is ambiguous. Returning False, but in future this will result in an error. Use `array.size > 0` to check that an array is not empty.\n",
      "  if score > best_score:\n",
      "C:\\Users\\82106\\AppData\\Local\\Temp/ipykernel_924/308621351.py:14: DeprecationWarning: The truth value of an empty array is ambiguous. Returning False, but in future this will result in an error. Use `array.size > 0` to check that an array is not empty.\n",
      "  if score > best_score:\n",
      "C:\\Users\\82106\\AppData\\Local\\Temp/ipykernel_924/308621351.py:14: DeprecationWarning: The truth value of an empty array is ambiguous. Returning False, but in future this will result in an error. Use `array.size > 0` to check that an array is not empty.\n",
      "  if score > best_score:\n",
      "C:\\Users\\82106\\AppData\\Local\\Temp/ipykernel_924/308621351.py:14: DeprecationWarning: The truth value of an empty array is ambiguous. Returning False, but in future this will result in an error. Use `array.size > 0` to check that an array is not empty.\n",
      "  if score > best_score:\n",
      "C:\\Users\\82106\\AppData\\Local\\Temp/ipykernel_924/308621351.py:14: DeprecationWarning: The truth value of an empty array is ambiguous. Returning False, but in future this will result in an error. Use `array.size > 0` to check that an array is not empty.\n",
      "  if score > best_score:\n",
      "C:\\Users\\82106\\AppData\\Local\\Temp/ipykernel_924/308621351.py:14: DeprecationWarning: The truth value of an empty array is ambiguous. Returning False, but in future this will result in an error. Use `array.size > 0` to check that an array is not empty.\n",
      "  if score > best_score:\n",
      "C:\\Users\\82106\\AppData\\Local\\Temp/ipykernel_924/308621351.py:14: DeprecationWarning: The truth value of an empty array is ambiguous. Returning False, but in future this will result in an error. Use `array.size > 0` to check that an array is not empty.\n",
      "  if score > best_score:\n",
      "C:\\Users\\82106\\AppData\\Local\\Temp/ipykernel_924/308621351.py:14: DeprecationWarning: The truth value of an empty array is ambiguous. Returning False, but in future this will result in an error. Use `array.size > 0` to check that an array is not empty.\n",
      "  if score > best_score:\n",
      "C:\\Users\\82106\\AppData\\Local\\Temp/ipykernel_924/308621351.py:14: DeprecationWarning: The truth value of an empty array is ambiguous. Returning False, but in future this will result in an error. Use `array.size > 0` to check that an array is not empty.\n",
      "  if score > best_score:\n",
      "C:\\Users\\82106\\AppData\\Local\\Temp/ipykernel_924/308621351.py:14: DeprecationWarning: The truth value of an empty array is ambiguous. Returning False, but in future this will result in an error. Use `array.size > 0` to check that an array is not empty.\n",
      "  if score > best_score:\n",
      "C:\\Users\\82106\\AppData\\Local\\Temp/ipykernel_924/308621351.py:14: DeprecationWarning: The truth value of an empty array is ambiguous. Returning False, but in future this will result in an error. Use `array.size > 0` to check that an array is not empty.\n",
      "  if score > best_score:\n",
      "C:\\Users\\82106\\AppData\\Local\\Temp/ipykernel_924/308621351.py:14: DeprecationWarning: The truth value of an empty array is ambiguous. Returning False, but in future this will result in an error. Use `array.size > 0` to check that an array is not empty.\n",
      "  if score > best_score:\n",
      "C:\\Users\\82106\\AppData\\Local\\Temp/ipykernel_924/308621351.py:14: DeprecationWarning: The truth value of an empty array is ambiguous. Returning False, but in future this will result in an error. Use `array.size > 0` to check that an array is not empty.\n",
      "  if score > best_score:\n",
      "C:\\Users\\82106\\AppData\\Local\\Temp/ipykernel_924/308621351.py:14: DeprecationWarning: The truth value of an empty array is ambiguous. Returning False, but in future this will result in an error. Use `array.size > 0` to check that an array is not empty.\n",
      "  if score > best_score:\n",
      "C:\\Users\\82106\\AppData\\Local\\Temp/ipykernel_924/308621351.py:14: DeprecationWarning: The truth value of an empty array is ambiguous. Returning False, but in future this will result in an error. Use `array.size > 0` to check that an array is not empty.\n",
      "  if score > best_score:\n",
      "C:\\Users\\82106\\AppData\\Local\\Temp/ipykernel_924/308621351.py:14: DeprecationWarning: The truth value of an empty array is ambiguous. Returning False, but in future this will result in an error. Use `array.size > 0` to check that an array is not empty.\n",
      "  if score > best_score:\n"
     ]
    }
   ],
   "source": [
    "import itertools\n",
    "c_list = list(range(1, len(train_x.columns))) # 1부터 전체\n",
    "outperform_ratio_list = []\n",
    "best_score = []\n",
    "\n",
    "for c in range(1, len(train_x.columns)): # c = 선택한 특징 개수\n",
    "    print(c)\n",
    "    c_num = 0 # 특징을 c개 뽑았을때, 원본보다 성능이 좋은 경우\n",
    "    c_dem = 0 # 특징을 c개 뽑는 경우의 수\n",
    "    \n",
    "    for features in itertools.combinations(train_x.columns, c):\n",
    "        score = feature_test(train_x, test_x, train_y, test_y, list(features))\n",
    "        # itertools을 tuple 형태로 값 반환 해서 list로 바꿔줌\n",
    "        if score > best_score:\n",
    "            best_score = score\n",
    "            best_feature = list(features)\n",
    "            \n",
    "        if score > base_score:\n",
    "            c_num += 1\n",
    "        c_dem += 1\n",
    "        \n",
    "    outperform_ratio_list.append(c_num / c_dem)"
   ]
  },
  {
   "cell_type": "code",
   "execution_count": 5,
   "id": "348bbede",
   "metadata": {},
   "outputs": [
    {
     "data": {
      "text/plain": [
       "<BarContainer object of 6 artists>"
      ]
     },
     "execution_count": 5,
     "metadata": {},
     "output_type": "execute_result"
    },
    {
     "data": {
      "image/png": "[encoded data removed]",
      "text/plain": [
       "<Figure size 432x288 with 1 Axes>"
      ]
     },
     "metadata": {
      "needs_background": "light"
     },
     "output_type": "display_data"
    }
   ],
   "source": [
    "from matplotlib import pyplot as plt\n",
    "plt.bar(c_list, outperform_ratio_list)"
   ]
  },
  {
   "cell_type": "markdown",
   "id": "f293b1bc",
   "metadata": {},
   "source": [
    "### 주먹구구식 특징 선택\n",
    "- 선택 가능한 모든 특징 집합을 비교/평가 하여 가장 좋은 특징 집합을 선택\n",
    "- 현실적으로 적용 불가"
   ]
  },
  {
   "cell_type": "markdown",
   "id": "ca2e5147",
   "metadata": {},
   "source": [
    "### 필터링 기반의 특징 선택\n",
    "- 클래스 관련성이 높은 특징을 우선 선택\n",
    "#### 클래스 관련성\n",
    "- 특징이 클래스를 얼마나 잘 설명하는지 나타내는 척도\n",
    "- 특징과 라벨 간 독립성을 나타내는 통계량을 사용하여 특정\n",
    "- 클래스 관련성이 높은 특징은 분류 및 예측에 도움\n",
    "#### 클래스 관련성 척도 분류\n",
    "- 카이제곱 통계량 : 특징 - 이진형, 라벨 - 이진형, chi2\n",
    "- F-통계량 : 특징 - 연속 ,라벨 - 이진, 연속, f_classif, f_regression\n",
    "#### sklearn.feature_selection.SelectKBest\n",
    "- scoring_func : 관련성 특정 함수\n",
    "- k : 선택하는 특징 개수\n",
    "- .fit.transform, fit_transform : 특징을 선택하는데 사용하는 메서드\n",
    "- .get_support() : 선택된 특징의 인덱스를 반환\n",
    "- scoring_func(x,y)의 결과물과 같음"
   ]
  },
  {
   "cell_type": "markdown",
   "id": "6912a3d2",
   "metadata": {},
   "source": [
    "### 모든 특징 유형이 같은 경우"
   ]
  },
  {
   "cell_type": "code",
   "execution_count": 6,
   "id": "588638fc",
   "metadata": {},
   "outputs": [],
   "source": [
    "import pandas as pd\n",
    "from sklearn.model_selection import train_test_split\n",
    "\n",
    "df = pd.read_csv('./데이터/Sonar_Mines_Rocks.csv')\n",
    "x = df.drop('Y', axis = 1)\n",
    "y = df['Y']\n",
    "\n",
    "y.replace({'M':-1, 'R':1}, inplace = True)\n",
    "\n",
    "train_x, test_x, train_y, test_y = train_test_split(x,y)"
   ]
  },
  {
   "cell_type": "code",
   "execution_count": 7,
   "id": "ba62bb12",
   "metadata": {},
   "outputs": [
    {
     "data": {
      "text/plain": [
       "(156, 60)"
      ]
     },
     "execution_count": 7,
     "metadata": {},
     "output_type": "execute_result"
    }
   ],
   "source": [
    "train_x.shape # 샘플 대비 특징이 매우 많음 -> 특징 선택 필요"
   ]
  },
  {
   "cell_type": "code",
   "execution_count": 8,
   "id": "57496987",
   "metadata": {},
   "outputs": [
    {
     "name": "stdout",
     "output_type": "stream",
     "text": [
      "0.6666666666666666\n"
     ]
    }
   ],
   "source": [
    "# 특징 선택 전 성능 확인\n",
    "from sklearn.neighbors import KNeighborsClassifier as KNN\n",
    "model = KNN().fit(train_x, train_y)\n",
    "pred_y = model.predict(test_x)\n",
    "\n",
    "from sklearn.metrics import f1_score\n",
    "print(f1_score(test_y, pred_y))"
   ]
  },
  {
   "cell_type": "code",
   "execution_count": 9,
   "id": "fa497e2c",
   "metadata": {},
   "outputs": [],
   "source": [
    "# 특징 선택 수행\n",
    "from sklearn.feature_selection import *\n",
    "selector = SelectKBest(f_classif, k=30)\n",
    "selector.fit(train_x, train_y)\n",
    "selected_features = train_x.columns[selector.get_support()] # get_support : 뽑힌 특징은 True, 안뽑힌 특징은 False\n",
    "\n",
    "s_train_x = pd.DataFrame(selector.transform(train_x), columns = selected_features)\n",
    "s_test_x = pd.DataFrame(selector.transform(test_x), columns = selected_features)\n",
    "\n",
    "# s_train_x = train_x[selected_features]\n",
    "# s_test_x = test_x[selected_features]"
   ]
  },
  {
   "cell_type": "code",
   "execution_count": 10,
   "id": "caa2a3c3",
   "metadata": {},
   "outputs": [
    {
     "name": "stdout",
     "output_type": "stream",
     "text": [
      "0.7142857142857143\n"
     ]
    }
   ],
   "source": [
    "# 특징 선택 후 성능 확인\n",
    "from sklearn.neighbors import KNeighborsClassifier as KNN\n",
    "model = KNN().fit(s_train_x, train_y)\n",
    "pred_y = model.predict(s_test_x)\n",
    "\n",
    "from sklearn.metrics import f1_score\n",
    "print(f1_score(test_y, pred_y))\n",
    "\n",
    "# 안변했어도 특징 선택한 것이 더 효율적 why? 줄였으니까 시간이 줄음"
   ]
  },
  {
   "cell_type": "code",
   "execution_count": 11,
   "id": "7120cb12",
   "metadata": {},
   "outputs": [
    {
     "name": "stdout",
     "output_type": "stream",
     "text": [
      "0.7555555555555555 45\n"
     ]
    }
   ],
   "source": [
    "# 특징 개수 튜닝\n",
    "best_score = 0\n",
    "for k in range(5, 50, 5):\n",
    "    selector = SelectKBest(f_classif, k=k)\n",
    "    selector.fit(train_x, train_y)\n",
    "    selected_features = train_x.columns[selector.get_support()]\n",
    "    \n",
    "    s_train_x = pd.DataFrame(selector.transform(train_x), columns=selected_features)\n",
    "    s_test_x = pd.DataFrame(selector.transform(test_x), columns = selected_features)\n",
    "    \n",
    "    model = KNN().fit(s_train_x, train_y)\n",
    "    pred_y = model.predict(s_test_x)\n",
    "    score = f1_score(test_y, pred_y)\n",
    "    if score > best_score:\n",
    "        best_score = score\n",
    "        best_k = k\n",
    "        \n",
    "print(best_score, best_k)"
   ]
  },
  {
   "cell_type": "markdown",
   "id": "acab6aa1",
   "metadata": {},
   "source": [
    "### 특징 유형이 다른 경우"
   ]
  },
  {
   "cell_type": "code",
   "execution_count": 23,
   "id": "a995f2ef",
   "metadata": {},
   "outputs": [],
   "source": [
    "df = pd.read_csv('./데이터/australian.csv')\n",
    "X = df.drop('Class', axis = 1)\n",
    "Y = df['Class']\n",
    "Train_X, Test_X, Train_Y, Test_Y = train_test_split(X, Y)"
   ]
  },
  {
   "cell_type": "code",
   "execution_count": 24,
   "id": "70a68285",
   "metadata": {},
   "outputs": [
    {
     "data": {
      "text/plain": [
       "(517, 14)"
      ]
     },
     "execution_count": 24,
     "metadata": {},
     "output_type": "execute_result"
    }
   ],
   "source": [
    "Train_X.shape # 샘플 대비 특징이 약간 더 많은 정도"
   ]
  },
  {
   "cell_type": "code",
   "execution_count": 34,
   "id": "04f408f0",
   "metadata": {},
   "outputs": [
    {
     "name": "stdout",
     "output_type": "stream",
     "text": [
      "0.6242038216560509\n"
     ]
    }
   ],
   "source": [
    "# 특징 선택 전 성능 확인\n",
    "from sklearn.neighbors import KNeighborsClassifier as KNN\n",
    "model = KNN().fit(Train_X, Train_Y)\n",
    "pred_Y = model.predict(Test_X)\n",
    "\n",
    "from sklearn.metrics import f1_score\n",
    "print(f1_score(Test_Y, pred_Y))"
   ]
  },
  {
   "cell_type": "code",
   "execution_count": 26,
   "id": "9c0ac7fc",
   "metadata": {},
   "outputs": [],
   "source": [
    "# 유니크한 값의 개수를 바탕으로 연속형과 이진형 변수 구분\n",
    "continuous_cols = [col for col in Train_X.columns if len(Train_X[col].unique()) > 3]\n",
    "binary_cols = [col for col in Train_X.columns if len(Train_X[col].unique()) <= 3]"
   ]
  },
  {
   "cell_type": "code",
   "execution_count": 27,
   "id": "92bc314e",
   "metadata": {},
   "outputs": [],
   "source": [
    "# 연속형 변수에 대해서는 f_classif을, 이진형 변수에 대해서는 chi2를 적용\n",
    "from sklearn.feature_selection import *\n",
    "\n",
    "# f_regression(X, Y) => (statistics, p-value)\n",
    "continous_cols_pvals = f_classif(Train_X[continuous_cols], Train_Y)[1]\n",
    "binary_cols_pvals = chi2(Train_X[binary_cols], Train_Y)[1]"
   ]
  },
  {
   "cell_type": "code",
   "execution_count": 30,
   "id": "42d00154",
   "metadata": {},
   "outputs": [],
   "source": [
    "# 각각을 Series로 변환 (value: pvalue, index: colum name)\n",
    "cont_pvals = pd.Series(continous_cols_pvals, index = continuous_cols)\n",
    "binary_pvals = pd.Series(binary_cols_pvals, index = binary_cols)"
   ]
  },
  {
   "cell_type": "code",
   "execution_count": 31,
   "id": "adff1da0",
   "metadata": {},
   "outputs": [],
   "source": [
    "# cont_pvals과 binary_pvals을 합친 뒤, 오름차순으로 정렬 (앞에 나오는 특징부터 좋은 특징)\n",
    "pvals = pd.concat([cont_pvals, binary_pvals])\n",
    "pvals.sort_values(ascending = True, inplace = True)"
   ]
  },
  {
   "cell_type": "code",
   "execution_count": 32,
   "id": "9c186bcb",
   "metadata": {},
   "outputs": [],
   "source": [
    "# 특징 선택 \n",
    "k = 10\n",
    "\n",
    "s_Train_X = Train_X[pvals.iloc[:k].index]\n",
    "s_Test_X = Test_X[pvals.iloc[:k].index]"
   ]
  },
  {
   "cell_type": "code",
   "execution_count": 33,
   "id": "8be68acf",
   "metadata": {},
   "outputs": [
    {
     "name": "stdout",
     "output_type": "stream",
     "text": [
      "0.6114649681528662\n"
     ]
    }
   ],
   "source": [
    "# 특징 선택 후 성능 확인\n",
    "from sklearn.neighbors import KNeighborsClassifier as KNN\n",
    "model = KNN().fit(s_Train_X, Train_Y)\n",
    "pred_Y = model.predict(s_Test_X)\n",
    "\n",
    "from sklearn.metrics import f1_score\n",
    "print(f1_score(Test_Y, pred_Y))"
   ]
  },
  {
   "cell_type": "code",
   "execution_count": null,
   "id": "c1020458",
   "metadata": {},
   "outputs": [],
   "source": []
  }
 ],
 "metadata": {
  "kernelspec": {
   "display_name": "Python 3 (ipykernel)",
   "language": "python",
   "name": "python3"
  },
  "language_info": {
   "codemirror_mode": {
    "name": "ipython",
    "version": 3
   },
   "file_extension": ".py",
   "mimetype": "text/x-python",
   "name": "python",
   "nbconvert_exporter": "python",
   "pygments_lexer": "ipython3",
   "version": "3.8.1"
  }
 },
 "nbformat": 4,
 "nbformat_minor": 5
}
