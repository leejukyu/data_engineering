{
 "cells": [
  {
   "cell_type": "markdown",
   "id": "9721692f",
   "metadata": {},
   "source": [
    "# 참조데이터가 필요 없는 경우"
   ]
  },
  {
   "cell_type": "code",
   "execution_count": 1,
   "id": "802cdeed",
   "metadata": {},
   "outputs": [],
   "source": [
    "import pandas as pd"
   ]
  },
  {
   "cell_type": "code",
   "execution_count": 7,
   "id": "2918a82f",
   "metadata": {},
   "outputs": [],
   "source": [
    "df1 = pd.read_csv('날짜포맷이다른데이터1.csv')\n",
    "df2 = pd.read_csv('날짜포맷이다른데이터2.csv')"
   ]
  },
  {
   "cell_type": "code",
   "execution_count": 8,
   "id": "f1427e9d",
   "metadata": {},
   "outputs": [
    {
     "data": {
      "text/html": [
       "<div>\n",
       "<style scoped>\n",
       "    .dataframe tbody tr th:only-of-type {\n",
       "        vertical-align: middle;\n",
       "    }\n",
       "\n",
       "    .dataframe tbody tr th {\n",
       "        vertical-align: top;\n",
       "    }\n",
       "\n",
       "    .dataframe thead th {\n",
       "        text-align: right;\n",
       "    }\n",
       "</style>\n",
       "<table border=\"1\" class=\"dataframe\">\n",
       "  <thead>\n",
       "    <tr style=\"text-align: right;\">\n",
       "      <th></th>\n",
       "      <th>날짜</th>\n",
       "      <th>V1</th>\n",
       "    </tr>\n",
       "  </thead>\n",
       "  <tbody>\n",
       "    <tr>\n",
       "      <th>0</th>\n",
       "      <td>2018-01-01</td>\n",
       "      <td>0.330646</td>\n",
       "    </tr>\n",
       "    <tr>\n",
       "      <th>1</th>\n",
       "      <td>2018-01-02</td>\n",
       "      <td>0.418242</td>\n",
       "    </tr>\n",
       "    <tr>\n",
       "      <th>2</th>\n",
       "      <td>2018-01-03</td>\n",
       "      <td>0.307254</td>\n",
       "    </tr>\n",
       "    <tr>\n",
       "      <th>3</th>\n",
       "      <td>2018-01-04</td>\n",
       "      <td>0.441689</td>\n",
       "    </tr>\n",
       "    <tr>\n",
       "      <th>4</th>\n",
       "      <td>2018-01-05</td>\n",
       "      <td>0.402440</td>\n",
       "    </tr>\n",
       "  </tbody>\n",
       "</table>\n",
       "</div>"
      ],
      "text/plain": [
       "           날짜        V1\n",
       "0  2018-01-01  0.330646\n",
       "1  2018-01-02  0.418242\n",
       "2  2018-01-03  0.307254\n",
       "3  2018-01-04  0.441689\n",
       "4  2018-01-05  0.402440"
      ]
     },
     "execution_count": 8,
     "metadata": {},
     "output_type": "execute_result"
    }
   ],
   "source": [
    "df1.head()"
   ]
  },
  {
   "cell_type": "code",
   "execution_count": 9,
   "id": "ae4c82f3",
   "metadata": {},
   "outputs": [
    {
     "data": {
      "text/html": [
       "<div>\n",
       "<style scoped>\n",
       "    .dataframe tbody tr th:only-of-type {\n",
       "        vertical-align: middle;\n",
       "    }\n",
       "\n",
       "    .dataframe tbody tr th {\n",
       "        vertical-align: top;\n",
       "    }\n",
       "\n",
       "    .dataframe thead th {\n",
       "        text-align: right;\n",
       "    }\n",
       "</style>\n",
       "<table border=\"1\" class=\"dataframe\">\n",
       "  <thead>\n",
       "    <tr style=\"text-align: right;\">\n",
       "      <th></th>\n",
       "      <th>날짜</th>\n",
       "      <th>V2</th>\n",
       "    </tr>\n",
       "  </thead>\n",
       "  <tbody>\n",
       "    <tr>\n",
       "      <th>0</th>\n",
       "      <td>2018년 1월 1일</td>\n",
       "      <td>0.936350</td>\n",
       "    </tr>\n",
       "    <tr>\n",
       "      <th>1</th>\n",
       "      <td>2018년 1월 2일</td>\n",
       "      <td>0.658967</td>\n",
       "    </tr>\n",
       "    <tr>\n",
       "      <th>2</th>\n",
       "      <td>2018년 1월 3일</td>\n",
       "      <td>0.895686</td>\n",
       "    </tr>\n",
       "    <tr>\n",
       "      <th>3</th>\n",
       "      <td>2018년 1월 4일</td>\n",
       "      <td>0.047194</td>\n",
       "    </tr>\n",
       "    <tr>\n",
       "      <th>4</th>\n",
       "      <td>2018년 1월 5일</td>\n",
       "      <td>0.520925</td>\n",
       "    </tr>\n",
       "  </tbody>\n",
       "</table>\n",
       "</div>"
      ],
      "text/plain": [
       "            날짜        V2\n",
       "0  2018년 1월 1일  0.936350\n",
       "1  2018년 1월 2일  0.658967\n",
       "2  2018년 1월 3일  0.895686\n",
       "3  2018년 1월 4일  0.047194\n",
       "4  2018년 1월 5일  0.520925"
      ]
     },
     "execution_count": 9,
     "metadata": {},
     "output_type": "execute_result"
    }
   ],
   "source": [
    "df2.head()"
   ]
  },
  {
   "cell_type": "code",
   "execution_count": 10,
   "id": "313a3fa8",
   "metadata": {},
   "outputs": [],
   "source": [
    "def date_type_converter(value):\n",
    "    YYYY,MM,DD = value.split(\"-\")\n",
    "    return YYYY + '년 ' + str(int(MM)) + '월 ' + str(int(DD)) + '일'\n",
    "\n",
    "df1['날짜'] = df1['날짜'].apply(date_type_converter)"
   ]
  },
  {
   "cell_type": "code",
   "execution_count": 11,
   "id": "9705cffd",
   "metadata": {},
   "outputs": [
    {
     "data": {
      "text/html": [
       "<div>\n",
       "<style scoped>\n",
       "    .dataframe tbody tr th:only-of-type {\n",
       "        vertical-align: middle;\n",
       "    }\n",
       "\n",
       "    .dataframe tbody tr th {\n",
       "        vertical-align: top;\n",
       "    }\n",
       "\n",
       "    .dataframe thead th {\n",
       "        text-align: right;\n",
       "    }\n",
       "</style>\n",
       "<table border=\"1\" class=\"dataframe\">\n",
       "  <thead>\n",
       "    <tr style=\"text-align: right;\">\n",
       "      <th></th>\n",
       "      <th>날짜</th>\n",
       "      <th>V1</th>\n",
       "      <th>V2</th>\n",
       "    </tr>\n",
       "  </thead>\n",
       "  <tbody>\n",
       "    <tr>\n",
       "      <th>0</th>\n",
       "      <td>2018년 1월 1일</td>\n",
       "      <td>0.330646</td>\n",
       "      <td>0.936350</td>\n",
       "    </tr>\n",
       "    <tr>\n",
       "      <th>1</th>\n",
       "      <td>2018년 1월 2일</td>\n",
       "      <td>0.418242</td>\n",
       "      <td>0.658967</td>\n",
       "    </tr>\n",
       "    <tr>\n",
       "      <th>2</th>\n",
       "      <td>2018년 1월 3일</td>\n",
       "      <td>0.307254</td>\n",
       "      <td>0.895686</td>\n",
       "    </tr>\n",
       "    <tr>\n",
       "      <th>3</th>\n",
       "      <td>2018년 1월 4일</td>\n",
       "      <td>0.441689</td>\n",
       "      <td>0.047194</td>\n",
       "    </tr>\n",
       "    <tr>\n",
       "      <th>4</th>\n",
       "      <td>2018년 1월 5일</td>\n",
       "      <td>0.402440</td>\n",
       "      <td>0.520925</td>\n",
       "    </tr>\n",
       "    <tr>\n",
       "      <th>...</th>\n",
       "      <td>...</td>\n",
       "      <td>...</td>\n",
       "      <td>...</td>\n",
       "    </tr>\n",
       "    <tr>\n",
       "      <th>725</th>\n",
       "      <td>2019년 12월 27일</td>\n",
       "      <td>0.011439</td>\n",
       "      <td>0.191205</td>\n",
       "    </tr>\n",
       "    <tr>\n",
       "      <th>726</th>\n",
       "      <td>2019년 12월 28일</td>\n",
       "      <td>0.549821</td>\n",
       "      <td>0.153435</td>\n",
       "    </tr>\n",
       "    <tr>\n",
       "      <th>727</th>\n",
       "      <td>2019년 12월 29일</td>\n",
       "      <td>0.607895</td>\n",
       "      <td>0.856630</td>\n",
       "    </tr>\n",
       "    <tr>\n",
       "      <th>728</th>\n",
       "      <td>2019년 12월 30일</td>\n",
       "      <td>0.892261</td>\n",
       "      <td>0.775208</td>\n",
       "    </tr>\n",
       "    <tr>\n",
       "      <th>729</th>\n",
       "      <td>2019년 12월 31일</td>\n",
       "      <td>0.229388</td>\n",
       "      <td>0.119601</td>\n",
       "    </tr>\n",
       "  </tbody>\n",
       "</table>\n",
       "<p>730 rows × 3 columns</p>\n",
       "</div>"
      ],
      "text/plain": [
       "                날짜        V1        V2\n",
       "0      2018년 1월 1일  0.330646  0.936350\n",
       "1      2018년 1월 2일  0.418242  0.658967\n",
       "2      2018년 1월 3일  0.307254  0.895686\n",
       "3      2018년 1월 4일  0.441689  0.047194\n",
       "4      2018년 1월 5일  0.402440  0.520925\n",
       "..             ...       ...       ...\n",
       "725  2019년 12월 27일  0.011439  0.191205\n",
       "726  2019년 12월 28일  0.549821  0.153435\n",
       "727  2019년 12월 29일  0.607895  0.856630\n",
       "728  2019년 12월 30일  0.892261  0.775208\n",
       "729  2019년 12월 31일  0.229388  0.119601\n",
       "\n",
       "[730 rows x 3 columns]"
      ]
     },
     "execution_count": 11,
     "metadata": {},
     "output_type": "execute_result"
    }
   ],
   "source": [
    "merged_df = pd.merge(df1, df2, on = '날짜')\n",
    "merged_df"
   ]
  },
  {
   "cell_type": "markdown",
   "id": "f590d29a",
   "metadata": {},
   "source": [
    "# 참조 데이터가 필요한 경우"
   ]
  },
  {
   "cell_type": "code",
   "execution_count": 15,
   "id": "0642154d",
   "metadata": {},
   "outputs": [],
   "source": [
    "ref_df = pd.read_csv('시승격정보.csv', encoding = 'cp949')\n",
    "df1 = pd.read_excel('인구수데이터.xlsx', sheet_name = '202006')\n",
    "df2 = pd.read_excel('인구수데이터.xlsx', sheet_name = '201108')"
   ]
  },
  {
   "cell_type": "code",
   "execution_count": 16,
   "id": "09d0c6b5",
   "metadata": {},
   "outputs": [],
   "source": [
    "# 사전으로 변환\n",
    "ref_dict = ref_df.set_index('승격전')['승격후'].to_dict()"
   ]
  },
  {
   "cell_type": "code",
   "execution_count": 17,
   "id": "ae3bfc30",
   "metadata": {},
   "outputs": [],
   "source": [
    "# 군 정보를 시 정보로 변환(사전의 값으로 변환됨)\n",
    "df2['행정구역'] = df2['행정구역'].replace(ref_dict)"
   ]
  },
  {
   "cell_type": "code",
   "execution_count": 18,
   "id": "94b4cf5d",
   "metadata": {},
   "outputs": [],
   "source": [
    "# 변수 명이 전부 같아서 수정해야함\n",
    "df1.set_index('행정구역', inplace = True)\n",
    "df2.set_index('행정구역', inplace = True)\n",
    "# 인덱스를 제외한 모든 칼럼명 앞에 붙여줌\n",
    "df1 = df1.add_prefix('202006_')\n",
    "df2 = df2.add_prefix('201108_')"
   ]
  },
  {
   "cell_type": "code",
   "execution_count": 19,
   "id": "5dc6059e",
   "metadata": {},
   "outputs": [
    {
     "data": {
      "text/html": [
       "<div>\n",
       "<style scoped>\n",
       "    .dataframe tbody tr th:only-of-type {\n",
       "        vertical-align: middle;\n",
       "    }\n",
       "\n",
       "    .dataframe tbody tr th {\n",
       "        vertical-align: top;\n",
       "    }\n",
       "\n",
       "    .dataframe thead th {\n",
       "        text-align: right;\n",
       "    }\n",
       "</style>\n",
       "<table border=\"1\" class=\"dataframe\">\n",
       "  <thead>\n",
       "    <tr style=\"text-align: right;\">\n",
       "      <th></th>\n",
       "      <th>202006_총인구수</th>\n",
       "      <th>202006_남자인구수</th>\n",
       "      <th>202006_여자인구수</th>\n",
       "      <th>201108_총인구수</th>\n",
       "      <th>201108_남자인구수</th>\n",
       "      <th>201108_여자인구수</th>\n",
       "    </tr>\n",
       "    <tr>\n",
       "      <th>행정구역</th>\n",
       "      <th></th>\n",
       "      <th></th>\n",
       "      <th></th>\n",
       "      <th></th>\n",
       "      <th></th>\n",
       "      <th></th>\n",
       "    </tr>\n",
       "  </thead>\n",
       "  <tbody>\n",
       "    <tr>\n",
       "      <th>여주시</th>\n",
       "      <td>111341</td>\n",
       "      <td>56582</td>\n",
       "      <td>54759</td>\n",
       "      <td>109019</td>\n",
       "      <td>55122</td>\n",
       "      <td>53897</td>\n",
       "    </tr>\n",
       "    <tr>\n",
       "      <th>당진시</th>\n",
       "      <td>166084</td>\n",
       "      <td>88015</td>\n",
       "      <td>78069</td>\n",
       "      <td>148175</td>\n",
       "      <td>76555</td>\n",
       "      <td>71620</td>\n",
       "    </tr>\n",
       "    <tr>\n",
       "      <th>아산시</th>\n",
       "      <td>313054</td>\n",
       "      <td>162398</td>\n",
       "      <td>150656</td>\n",
       "      <td>271356</td>\n",
       "      <td>138150</td>\n",
       "      <td>133206</td>\n",
       "    </tr>\n",
       "  </tbody>\n",
       "</table>\n",
       "</div>"
      ],
      "text/plain": [
       "      202006_총인구수  202006_남자인구수  202006_여자인구수  201108_총인구수  201108_남자인구수  \\\n",
       "행정구역                                                                       \n",
       "여주시        111341         56582         54759       109019         55122   \n",
       "당진시        166084         88015         78069       148175         76555   \n",
       "아산시        313054        162398        150656       271356        138150   \n",
       "\n",
       "      201108_여자인구수  \n",
       "행정구역                \n",
       "여주시          53897  \n",
       "당진시          71620  \n",
       "아산시         133206  "
      ]
     },
     "execution_count": 19,
     "metadata": {},
     "output_type": "execute_result"
    }
   ],
   "source": [
    "merged_df = pd.merge(df1, df2, left_index = True, right_index = True)\n",
    "merged_df.head()"
   ]
  },
  {
   "cell_type": "code",
   "execution_count": null,
   "id": "05b27d82",
   "metadata": {},
   "outputs": [],
   "source": []
  }
 ],
 "metadata": {
  "kernelspec": {
   "display_name": "Python 3 (ipykernel)",
   "language": "python",
   "name": "python3"
  },
  "language_info": {
   "codemirror_mode": {
    "name": "ipython",
    "version": 3
   },
   "file_extension": ".py",
   "mimetype": "text/x-python",
   "name": "python",
   "nbconvert_exporter": "python",
   "pygments_lexer": "ipython3",
   "version": "3.8.1"
  }
 },
 "nbformat": 4,
 "nbformat_minor": 5
}
