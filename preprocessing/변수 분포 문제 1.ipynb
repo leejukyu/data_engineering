{
 "cells": [
  {
   "cell_type": "markdown",
   "id": "b3371da6",
   "metadata": {},
   "source": [
    "# 변수 분포 문제란?\n",
    "- 일반화된 모델을 학습하는데 어려움이 있는 분포를 가지는 변수가 있어 학습하지 못하는 문제\n",
    "- 이상치 포함, 특징 간 상관성, 변수 간 스케일 차이, 일반 분포, 특징과 라벨 간 약한 관계 및 비선형 관계"
   ]
  },
  {
   "cell_type": "markdown",
   "id": "7caffa74",
   "metadata": {},
   "source": [
    "## 특징과 라벨 간 약한 관계 및 비선형 관계\n",
    "- 특징과 라벨 간 관계가 없거나 매우 약하다면, 어떠한 전처리 및 모델링을 하더라도 예측력이 높은 모델을 학습할 수 없음\n",
    "- 특징과 라벨 간 비선형 관계가 존재한다면, 적절한 전처리를 통해 모델 성능을 향상 가능\n",
    "### 해결 방안\n",
    "- 다양한 변환 방법을 사용하여 특징을 생성한 뒤 특징 선택을 수행해야 함"
   ]
  },
  {
   "cell_type": "code",
   "execution_count": 2,
   "id": "f03273ff",
   "metadata": {},
   "outputs": [],
   "source": [
    "import pandas as pd\n",
    "df = pd.read_csv('./데이터/Combined_Cycle_Power_Plant.csv')\n",
    "x = df.drop('EP', axis = 1)\n",
    "y = df['EP']"
   ]
  },
  {
   "cell_type": "code",
   "execution_count": 4,
   "id": "24a246aa",
   "metadata": {},
   "outputs": [],
   "source": [
    "# 성능 비교를 위해 신규 데이터 생성\n",
    "x_added = x.copy() # 특징이 추가된 데이터를 부착할 데이터\n",
    "\n",
    "import numpy as np\n",
    "# 로그와 제곱 관련 변수만 추가\n",
    "for col in x.columns:\n",
    "    x_added[col + '_squared'] = x[col] ** 2\n",
    "    x_added[col + '_log'] = np.log(x[col])"
   ]
  },
  {
   "cell_type": "code",
   "execution_count": 5,
   "id": "03f25cbe",
   "metadata": {},
   "outputs": [],
   "source": [
    "from sklearn.model_selection import cross_val_score\n",
    "from sklearn.linear_model import LinearRegression as LR\n",
    "\n",
    "# 5겹 교차 검증 기반의 평가 수행\n",
    "x_score = cross_val_score(LR(), x, y, cv = 5, scoring = 'neg_mean_absolute_error').mean()\n",
    "x_added_score = cross_val_score(LR(), x_added, y, cv = 5, scoring = 'neg_mean_absolute_error').mean()"
   ]
  },
  {
   "cell_type": "code",
   "execution_count": 6,
   "id": "b4c7d4f6",
   "metadata": {},
   "outputs": [
    {
     "name": "stdout",
     "output_type": "stream",
     "text": [
      "특징 추가 전 : -3.6282513807290435, 특징 추가 후 : -3.332221506783882\n"
     ]
    }
   ],
   "source": [
    "print('특징 추가 전 : {}, 특징 추가 후 : {}'.format(x_score, x_added_score))"
   ]
  },
  {
   "cell_type": "markdown",
   "id": "8ab2b383",
   "metadata": {},
   "source": [
    "## 이상치 제거\n",
    "- 이상치를 포함하는 레코드를 제거(절대 추정의 대상이 아님)\n",
    "- IQR 규칙 활용\n",
    "    - 직관적이고 사용이 간편\n",
    "    - 단일 변수론 어려움\n",
    "    - numpy.quantile"
   ]
  },
  {
   "cell_type": "code",
   "execution_count": 8,
   "id": "a6e178d7",
   "metadata": {},
   "outputs": [
    {
     "data": {
      "text/plain": [
       "(160, 8)"
      ]
     },
     "execution_count": 8,
     "metadata": {},
     "output_type": "execute_result"
    }
   ],
   "source": [
    "import pandas as pd\n",
    "from sklearn.model_selection import train_test_split\n",
    "df = pd.read_csv('./데이터/glass.csv')\n",
    "x = df.drop(['Glass_type'], axis = 1)\n",
    "y = df['Glass_type']\n",
    "\n",
    "train_x, test_x, train_y, test_y = train_test_split(x,y)\n",
    "train_x.shape"
   ]
  },
  {
   "cell_type": "code",
   "execution_count": 10,
   "id": "d89bf647",
   "metadata": {},
   "outputs": [],
   "source": [
    "import numpy as np\n",
    "def IQR_rule(val_list): # 한 특징에 포함된 값 [열 벡터]\n",
    "    Q1 = np.quantile(val_list, 0.25)\n",
    "    Q3 = np.quantile(val_list, 0.75)\n",
    "    IQR = Q3 - Q1\n",
    "    \n",
    "    # IQR rule을 위배하지 않는 bool list 계산\n",
    "    not_outlier_condition = (Q3 + 1.5 * IQR > val_list) & (Q1 - 1.5 * IQR < val_list)\n",
    "    return not_outlier_condition"
   ]
  },
  {
   "cell_type": "code",
   "execution_count": 11,
   "id": "8fdf9156",
   "metadata": {},
   "outputs": [
    {
     "data": {
      "text/html": [
       "<div>\n",
       "<style scoped>\n",
       "    .dataframe tbody tr th:only-of-type {\n",
       "        vertical-align: middle;\n",
       "    }\n",
       "\n",
       "    .dataframe tbody tr th {\n",
       "        vertical-align: top;\n",
       "    }\n",
       "\n",
       "    .dataframe thead th {\n",
       "        text-align: right;\n",
       "    }\n",
       "</style>\n",
       "<table border=\"1\" class=\"dataframe\">\n",
       "  <thead>\n",
       "    <tr style=\"text-align: right;\">\n",
       "      <th></th>\n",
       "      <th>RI</th>\n",
       "      <th>Na</th>\n",
       "      <th>Mg</th>\n",
       "      <th>Al</th>\n",
       "      <th>Si</th>\n",
       "      <th>K</th>\n",
       "      <th>Ca</th>\n",
       "      <th>Fe</th>\n",
       "    </tr>\n",
       "  </thead>\n",
       "  <tbody>\n",
       "    <tr>\n",
       "      <th>114</th>\n",
       "      <td>True</td>\n",
       "      <td>True</td>\n",
       "      <td>True</td>\n",
       "      <td>True</td>\n",
       "      <td>True</td>\n",
       "      <td>True</td>\n",
       "      <td>True</td>\n",
       "      <td>True</td>\n",
       "    </tr>\n",
       "    <tr>\n",
       "      <th>167</th>\n",
       "      <td>True</td>\n",
       "      <td>True</td>\n",
       "      <td>True</td>\n",
       "      <td>True</td>\n",
       "      <td>True</td>\n",
       "      <td>True</td>\n",
       "      <td>True</td>\n",
       "      <td>True</td>\n",
       "    </tr>\n",
       "    <tr>\n",
       "      <th>150</th>\n",
       "      <td>True</td>\n",
       "      <td>True</td>\n",
       "      <td>True</td>\n",
       "      <td>True</td>\n",
       "      <td>True</td>\n",
       "      <td>True</td>\n",
       "      <td>True</td>\n",
       "      <td>True</td>\n",
       "    </tr>\n",
       "    <tr>\n",
       "      <th>35</th>\n",
       "      <td>True</td>\n",
       "      <td>True</td>\n",
       "      <td>True</td>\n",
       "      <td>True</td>\n",
       "      <td>True</td>\n",
       "      <td>True</td>\n",
       "      <td>True</td>\n",
       "      <td>True</td>\n",
       "    </tr>\n",
       "    <tr>\n",
       "      <th>143</th>\n",
       "      <td>True</td>\n",
       "      <td>True</td>\n",
       "      <td>True</td>\n",
       "      <td>True</td>\n",
       "      <td>True</td>\n",
       "      <td>True</td>\n",
       "      <td>True</td>\n",
       "      <td>True</td>\n",
       "    </tr>\n",
       "    <tr>\n",
       "      <th>...</th>\n",
       "      <td>...</td>\n",
       "      <td>...</td>\n",
       "      <td>...</td>\n",
       "      <td>...</td>\n",
       "      <td>...</td>\n",
       "      <td>...</td>\n",
       "      <td>...</td>\n",
       "      <td>...</td>\n",
       "    </tr>\n",
       "    <tr>\n",
       "      <th>148</th>\n",
       "      <td>True</td>\n",
       "      <td>True</td>\n",
       "      <td>True</td>\n",
       "      <td>True</td>\n",
       "      <td>True</td>\n",
       "      <td>True</td>\n",
       "      <td>True</td>\n",
       "      <td>True</td>\n",
       "    </tr>\n",
       "    <tr>\n",
       "      <th>147</th>\n",
       "      <td>True</td>\n",
       "      <td>True</td>\n",
       "      <td>True</td>\n",
       "      <td>True</td>\n",
       "      <td>True</td>\n",
       "      <td>True</td>\n",
       "      <td>True</td>\n",
       "      <td>True</td>\n",
       "    </tr>\n",
       "    <tr>\n",
       "      <th>32</th>\n",
       "      <td>True</td>\n",
       "      <td>True</td>\n",
       "      <td>True</td>\n",
       "      <td>True</td>\n",
       "      <td>True</td>\n",
       "      <td>True</td>\n",
       "      <td>True</td>\n",
       "      <td>True</td>\n",
       "    </tr>\n",
       "    <tr>\n",
       "      <th>175</th>\n",
       "      <td>True</td>\n",
       "      <td>True</td>\n",
       "      <td>True</td>\n",
       "      <td>True</td>\n",
       "      <td>True</td>\n",
       "      <td>True</td>\n",
       "      <td>True</td>\n",
       "      <td>True</td>\n",
       "    </tr>\n",
       "    <tr>\n",
       "      <th>180</th>\n",
       "      <td>True</td>\n",
       "      <td>True</td>\n",
       "      <td>True</td>\n",
       "      <td>True</td>\n",
       "      <td>True</td>\n",
       "      <td>True</td>\n",
       "      <td>True</td>\n",
       "      <td>True</td>\n",
       "    </tr>\n",
       "  </tbody>\n",
       "</table>\n",
       "<p>160 rows × 8 columns</p>\n",
       "</div>"
      ],
      "text/plain": [
       "       RI    Na    Mg    Al    Si     K    Ca    Fe\n",
       "114  True  True  True  True  True  True  True  True\n",
       "167  True  True  True  True  True  True  True  True\n",
       "150  True  True  True  True  True  True  True  True\n",
       "35   True  True  True  True  True  True  True  True\n",
       "143  True  True  True  True  True  True  True  True\n",
       "..    ...   ...   ...   ...   ...   ...   ...   ...\n",
       "148  True  True  True  True  True  True  True  True\n",
       "147  True  True  True  True  True  True  True  True\n",
       "32   True  True  True  True  True  True  True  True\n",
       "175  True  True  True  True  True  True  True  True\n",
       "180  True  True  True  True  True  True  True  True\n",
       "\n",
       "[160 rows x 8 columns]"
      ]
     },
     "execution_count": 11,
     "metadata": {},
     "output_type": "execute_result"
    }
   ],
   "source": [
    "conditions = train_x.apply(IQR_rule) # apply를 이용해 모든 칼럼에 함수\n",
    "conditions"
   ]
  },
  {
   "cell_type": "code",
   "execution_count": 13,
   "id": "d2c62e94",
   "metadata": {},
   "outputs": [],
   "source": [
    "total_condition = conditions.sum(axis = 1) == len(train_x.columns)\n",
    "# 하나라도 IQR 규칙을 위반하는 요소를 갖는 레코드를 제거하기 위한 규칙\n",
    "train_x = train_x[total_condition] # 이상치 제거"
   ]
  },
  {
   "cell_type": "code",
   "execution_count": 14,
   "id": "d92d2ffb",
   "metadata": {},
   "outputs": [
    {
     "data": {
      "text/plain": [
       "(102, 8)"
      ]
     },
     "execution_count": 14,
     "metadata": {},
     "output_type": "execute_result"
    }
   ],
   "source": [
    "train_x.shape # 약 58개 삭제"
   ]
  },
  {
   "cell_type": "code",
   "execution_count": 15,
   "id": "eaf56524",
   "metadata": {},
   "outputs": [
    {
     "data": {
      "text/plain": [
       "0.3625"
      ]
     },
     "execution_count": 15,
     "metadata": {},
     "output_type": "execute_result"
    }
   ],
   "source": [
    "58/160 # 35%는 너무 커서 1.5 값을 조정해야함"
   ]
  },
  {
   "cell_type": "markdown",
   "id": "be734cd7",
   "metadata": {},
   "source": [
    "- 밀도 기반 군집화 수행\n",
    "    - 군집에 속하지 않은 샘플을 이상치라고 간주\n",
    "    - 파라미터 튜닝이 쉽지 않음\n",
    "    - eps : 이웃이라 판단하는 반경\n",
    "    - min_samples : eps내에 들어와야하는 최소 샘플 수\n",
    "    - metric : 사용하는 거리 척도\n",
    "    - .labels_ : 각 샘플이 속한 군집 정보(-1 : 이상치)"
   ]
  },
  {
   "cell_type": "code",
   "execution_count": 17,
   "id": "e3df46ab",
   "metadata": {},
   "outputs": [
    {
     "data": {
      "text/plain": [
       "(160, 8)"
      ]
     },
     "execution_count": 17,
     "metadata": {},
     "output_type": "execute_result"
    }
   ],
   "source": [
    "df = pd.read_csv('./데이터/glass.csv')\n",
    "x = df.drop(['Glass_type'], axis = 1)\n",
    "y = df['Glass_type']\n",
    "\n",
    "train_x, test_x, train_y, test_y = train_test_split(x,y)\n",
    "train_x.shape"
   ]
  },
  {
   "cell_type": "code",
   "execution_count": 18,
   "id": "7cc3386a",
   "metadata": {},
   "outputs": [
    {
     "data": {
      "text/plain": [
       "0.6738254889313998"
      ]
     },
     "execution_count": 18,
     "metadata": {},
     "output_type": "execute_result"
    }
   ],
   "source": [
    "from sklearn.cluster import DBSCAN\n",
    "from scipy.spatial.distance import cdist\n",
    "DM = cdist(train_x, train_x) # 거리행렬 -> DBSCAN의 파라미터를 설정\n",
    "np.quantile(DM, 0.1) # 샘플 간 거리의 10% quantile이 0.6738 정도"
   ]
  },
  {
   "cell_type": "code",
   "execution_count": 19,
   "id": "fe57c665",
   "metadata": {},
   "outputs": [
    {
     "name": "stdout",
     "output_type": "stream",
     "text": [
      "36\n"
     ]
    }
   ],
   "source": [
    "cluster_model = DBSCAN(eps = 0.67, min_samples = 3).fit(train_x)\n",
    "print(sum(cluster_model.labels_ == -1))\n",
    "# 36개가 이상치로 판단 -> 이정도 너무 많음 -> 파라미터 조정"
   ]
  },
  {
   "cell_type": "code",
   "execution_count": 20,
   "id": "51806fc5",
   "metadata": {},
   "outputs": [
    {
     "name": "stdout",
     "output_type": "stream",
     "text": [
      "8\n"
     ]
    }
   ],
   "source": [
    "cluster_model = DBSCAN(eps = 2, min_samples = 3).fit(train_x)\n",
    "print(sum(cluster_model.labels_ == -1))\n",
    "# 8개 정도면 괜찮은 양이라고 판단"
   ]
  },
  {
   "cell_type": "code",
   "execution_count": 21,
   "id": "55ba89a3",
   "metadata": {},
   "outputs": [],
   "source": [
    "train_x = train_x[cluster_model.labels_ != -1]"
   ]
  },
  {
   "cell_type": "code",
   "execution_count": 22,
   "id": "63dcd4dd",
   "metadata": {},
   "outputs": [
    {
     "data": {
      "text/plain": [
       "(152, 8)"
      ]
     },
     "execution_count": 22,
     "metadata": {},
     "output_type": "execute_result"
    }
   ],
   "source": [
    "train_x.shape"
   ]
  },
  {
   "cell_type": "code",
   "execution_count": null,
   "id": "31fe40ae",
   "metadata": {},
   "outputs": [],
   "source": []
  }
 ],
 "metadata": {
  "kernelspec": {
   "display_name": "Python 3 (ipykernel)",
   "language": "python",
   "name": "python3"
  },
  "language_info": {
   "codemirror_mode": {
    "name": "ipython",
    "version": 3
   },
   "file_extension": ".py",
   "mimetype": "text/x-python",
   "name": "python",
   "nbconvert_exporter": "python",
   "pygments_lexer": "ipython3",
   "version": "3.8.1"
  }
 },
 "nbformat": 4,
 "nbformat_minor": 5
}
