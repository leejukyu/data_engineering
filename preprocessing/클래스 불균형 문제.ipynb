{
 "cells": [
  {
   "cell_type": "markdown",
   "id": "19e6706d",
   "metadata": {},
   "source": [
    "- 클래스 변수가 하나의 값에 치우친 데이터, 편향\n",
    "- 정확도가 높고, 재현율이 낮은 경향"
   ]
  },
  {
   "cell_type": "markdown",
   "id": "1b176dc4",
   "metadata": {},
   "source": [
    "### 용어 정리\n",
    "- 다수 클래스 : 대부분 샘플이 속한 클래스\n",
    "- 소수 클래스 : 대부분 샘플이 속하지 않은 클래스\n",
    "- 위양성 비용(TP) : 부정 샘플을 긍정으로 분류해서 발생하는 비용\n",
    "- 위음성 비용(TN) : 긍정 샘플을 부정으로 분류해서 발생하는 비용\n",
    "- 보통은 위음성이 위양성보다 큼\n",
    "- 절대 부족 : 소수 클래스에 속한 샘플 수가 절대적으로 부족한 상황"
   ]
  },
  {
   "cell_type": "markdown",
   "id": "8755546e",
   "metadata": {},
   "source": [
    "### 클래스 불균형 비율\n",
    "- 불균형 비율이 9 이상이면 편향된 모델이 학습될 가능성이 있음\n",
    "- 불균형 비율 = 다수 샘플 수 / 소수 샘플 수\n",
    "- 불균형 비율이 높다고 해서 반드시 편향된 모델을 학습하는 것은 아님\n",
    "\n",
    "### k-최근접 이웃을 활용\n",
    "- 클래스 불균형에 매우 민감하므로 진단하는데 적절\n",
    "- k 값이 클수록 민감, 보통 5 ~ 11\n",
    "- 불균형 비율 확인 -높음-> k-nn 학습 및 재현율 확인 -낮음->문제있음\n",
    "                 -낮음-> 문제 없음           -높음-> 문제없음"
   ]
  },
  {
   "cell_type": "markdown",
   "id": "2dc2aed8",
   "metadata": {},
   "source": [
    "### 문제 해결의 기본 아이디어\n",
    "- 소수 클래스에 대한 결정 공간을 넓힘"
   ]
  },
  {
   "cell_type": "markdown",
   "id": "2f3f11a9",
   "metadata": {},
   "source": [
    "## 재샘플링\n",
    "#### 오버샘플링 : 소수 클래스 샘플 생성 -> 원본 데이터가 작을 때 유용\n",
    "#### 언더샘플링 : 다수 클래스 샘플 삭제 -> 원본 데이터가 클 때 유용\n",
    "- 결정 경계에 가까운 다수 클래스 샘플 제거\n",
    "- 결정 경계에 가까운 소수 클래스 샘플 생성 \n",
    "- 평가 데이터에 대해서는 절대로 재샘플링을 적용하면 안됨"
   ]
  },
  {
   "cell_type": "markdown",
   "id": "00d9adc8",
   "metadata": {},
   "source": [
    "### 대표적인 오버샘플링 알고리즘 : SMOTE\n",
    "- 대부분의 오버 샘플링 기법이 이 기법에 기반하고 있음\n",
    "- 소수 클래스 샘플을 임의로 선택하고, 선택된 샘플의 이웃 가운데 하나의 샘플을 또 임의로 선택하여 그 중간에 샘플을 생성하는 과정 반복\n",
    "- imblearn.over_sampling.SMOTE\n",
    "- sampling_strategy : 입력하지 않으면 1:1 비율까지 생성, 사전 형태로 입력하여 클래스 별로 샘수 개수 조절 가능\n",
    "- k_neighbors : SMOTE에서 고려하는 이웃 수 (보통 1,3,5)\n",
    "- .fit_sample(x,y) : SMOTE을 적용한 결과를 ndarray로 반환"
   ]
  },
  {
   "cell_type": "code",
   "execution_count": 3,
   "id": "978fd562",
   "metadata": {},
   "outputs": [
    {
     "data": {
      "text/plain": [
       "(1175, 590)"
      ]
     },
     "execution_count": 3,
     "metadata": {},
     "output_type": "execute_result"
    }
   ],
   "source": [
    "import pandas as pd\n",
    "from sklearn.model_selection import train_test_split\n",
    "df = pd.read_csv('./데이터/Secom.csv')\n",
    "x = df.drop('Y', axis = 1)\n",
    "y = df['Y']\n",
    "train_x, test_x, train_y, test_y = train_test_split(x,y)\n",
    "# 특징이 매우 많음을 확인\n",
    "train_x.shape"
   ]
  },
  {
   "cell_type": "code",
   "execution_count": 4,
   "id": "e5d2878f",
   "metadata": {},
   "outputs": [
    {
     "data": {
      "text/plain": [
       "-1    1098\n",
       " 1      77\n",
       "Name: Y, dtype: int64"
      ]
     },
     "execution_count": 4,
     "metadata": {},
     "output_type": "execute_result"
    }
   ],
   "source": [
    "# 불균형확인 -> 언더샘플링을 적용하기에 부적적\n",
    "train_y.value_counts()"
   ]
  },
  {
   "cell_type": "code",
   "execution_count": 7,
   "id": "3e8d2db8",
   "metadata": {},
   "outputs": [
    {
     "data": {
      "text/plain": [
       "14.25974025974026"
      ]
     },
     "execution_count": 7,
     "metadata": {},
     "output_type": "execute_result"
    }
   ],
   "source": [
    "# 클래스 불균형 비율 계산\n",
    "train_y.value_counts().iloc[0] / train_y.value_counts().iloc[-1]"
   ]
  },
  {
   "cell_type": "code",
   "execution_count": 8,
   "id": "963c55f4",
   "metadata": {},
   "outputs": [
    {
     "name": "stdout",
     "output_type": "stream",
     "text": [
      "0.0\n",
      "0.9311224489795918\n"
     ]
    }
   ],
   "source": [
    "# KNN을 사용한 클래스 불균형 테스트\n",
    "from sklearn.neighbors import KNeighborsClassifier as KNN\n",
    "from sklearn.metrics import *\n",
    "KNN_model = KNN(n_neighbors = 11).fit(train_x, train_y)\n",
    "pred_y = KNN_model.predict(test_x)\n",
    "print(recall_score(test_y, pred_y))\n",
    "print(accuracy_score(test_y, pred_y))\n",
    "# 재현율 불균형이 심각한 수준"
   ]
  },
  {
   "cell_type": "code",
   "execution_count": 14,
   "id": "e59f69cf",
   "metadata": {},
   "outputs": [],
   "source": [
    "from imblearn.over_sampling import SMOTE\n",
    "# SMOTE 인스턴스 생성\n",
    "oversampling_instance = SMOTE(k_neighbors = 3)\n",
    "\n",
    "# 오버샘플링 적용\n",
    "o_train_x, o_train_y = oversampling_instance.fit_resample(train_x, train_y)\n",
    "\n",
    "# ndarray형태가 되므로 다시 DataFrame과 Series로 변환\n",
    "o_train_x = pd.DataFrame(o_train_x, columns=x.columns)\n",
    "o_train_y = pd.Series(o_train_y)"
   ]
  },
  {
   "cell_type": "code",
   "execution_count": 15,
   "id": "c18bc3d4",
   "metadata": {},
   "outputs": [
    {
     "data": {
      "text/plain": [
       "-1    1098\n",
       " 1    1098\n",
       "Name: Y, dtype: int64"
      ]
     },
     "execution_count": 15,
     "metadata": {},
     "output_type": "execute_result"
    }
   ],
   "source": [
    "# 비율이 1:1인지 확인\n",
    "o_train_y.value_counts()"
   ]
  },
  {
   "cell_type": "code",
   "execution_count": 17,
   "id": "3960a649",
   "metadata": {},
   "outputs": [
    {
     "name": "stdout",
     "output_type": "stream",
     "text": [
      "0.5555555555555556\n",
      "0.548469387755102\n"
     ]
    }
   ],
   "source": [
    "# 같은 모델로 다시 평가 : 정확도는 감소하였으나, 재현율이 크게 오름\n",
    "KNN_model = KNN(n_neighbors = 11).fit(o_train_x, o_train_y)\n",
    "pred_y = KNN_model.predict(test_x)\n",
    "print(recall_score(test_y, pred_y))\n",
    "print(accuracy_score(test_y, pred_y))"
   ]
  },
  {
   "cell_type": "code",
   "execution_count": 18,
   "id": "da7517ce",
   "metadata": {},
   "outputs": [],
   "source": [
    "# 정확도를 어느정도 보전한 상태에서 재현율 올리기\n",
    "oversampling_instance = SMOTE(k_neighbors = 3, sampling_strategy = {1:int(train_y.value_counts().iloc[0]/2),\n",
    "                             -1:train_y.value_counts().iloc[0]})\n",
    "\n",
    "# 오버샘플링 적용\n",
    "o_train_x, o_train_y = oversampling_instance.fit_resample(train_x, train_y)\n",
    "\n",
    "# ndarray형태가 되므로 다시 DataFrame과 Series로 변환\n",
    "o_train_x = pd.DataFrame(o_train_x, columns=x.columns)\n",
    "o_train_y = pd.Series(o_train_y)"
   ]
  },
  {
   "cell_type": "code",
   "execution_count": 19,
   "id": "c9f005b3",
   "metadata": {},
   "outputs": [
    {
     "name": "stdout",
     "output_type": "stream",
     "text": [
      "0.4074074074074074\n",
      "0.6887755102040817\n"
     ]
    }
   ],
   "source": [
    "KNN_model = KNN(n_neighbors = 11).fit(o_train_x, o_train_y)\n",
    "pred_y = KNN_model.predict(test_x)\n",
    "print(recall_score(test_y, pred_y))\n",
    "print(accuracy_score(test_y, pred_y))"
   ]
  },
  {
   "cell_type": "markdown",
   "id": "b1a89a2d",
   "metadata": {},
   "source": [
    "### 대표적인 언더샘플링 알고리즘 : NearMiss\n",
    "- 가장 가까운 n개의 소수 클래스 샘플까지 평균 거리가 짧은 다수 클래스 샘플을 순서대로 제거\n",
    "- imblearn.under_sampling.NearMiss\n",
    "- sampling_strategy : 입력하지 않으면 1:1 비율까지 생성, 사전 형태로 입력하여 클래스 별로 샘수 개수 조절 가능\n",
    "- n_neighbors : 평균 거리를 구하는 소수 클래스 샘플 수\n",
    "- version : NearMiss의 version으로, 2를 설정하면 모든 소수 클래스 샘플까지의 평균 거리를 사용\n",
    "- .fit_sample(x,y) : NearMiss을 적용한 결과를 ndarray로 반환    "
   ]
  },
  {
   "cell_type": "code",
   "execution_count": 21,
   "id": "fcc09006",
   "metadata": {},
   "outputs": [
    {
     "data": {
      "text/plain": [
       "negative    3677\n",
       "positive     427\n",
       "Name: Class, dtype: int64"
      ]
     },
     "execution_count": 21,
     "metadata": {},
     "output_type": "execute_result"
    }
   ],
   "source": [
    "df=pd.read_csv('./데이터/page-blocks0.csv')\n",
    "x = df.drop('Class', axis = 1)\n",
    "y = df['Class']\n",
    "train_x, test_x, train_y, test_y = train_test_split(x,y)\n",
    "train_y.value_counts()"
   ]
  },
  {
   "cell_type": "code",
   "execution_count": 23,
   "id": "4406fa29",
   "metadata": {},
   "outputs": [
    {
     "data": {
      "text/plain": [
       "8.611241217798595"
      ]
     },
     "execution_count": 23,
     "metadata": {},
     "output_type": "execute_result"
    }
   ],
   "source": [
    "train_y.replace({'negative': -1, 'positive':1}, inplace = True)\n",
    "test_y.replace({'negative': -1, 'positive':1}, inplace = True)\n",
    "\n",
    "# 클래스 불균형 비율 계산\n",
    "train_y.value_counts().iloc[0] / train_y.value_counts().iloc[-1]"
   ]
  },
  {
   "cell_type": "code",
   "execution_count": 24,
   "id": "1f461411",
   "metadata": {},
   "outputs": [
    {
     "name": "stdout",
     "output_type": "stream",
     "text": [
      "0.6818181818181818\n",
      "0.9576023391812866\n"
     ]
    }
   ],
   "source": [
    "# KNN을 사용한 클래스 불균형 테스트\n",
    "KNN_model = KNN(n_neighbors = 11).fit(train_x, train_y)\n",
    "pred_y = KNN_model.predict(test_x)\n",
    "print(recall_score(test_y, pred_y))\n",
    "print(accuracy_score(test_y, pred_y))\n",
    "\n",
    "# 불균형이 심각한 수준은 아님"
   ]
  },
  {
   "cell_type": "code",
   "execution_count": 26,
   "id": "11ed4d95",
   "metadata": {},
   "outputs": [],
   "source": [
    "from imblearn.under_sampling import NearMiss\n",
    "NM_model = NearMiss(version=2) # version=2 : 모든 소수 클래스 샘플까지의 평균 거리를 활용\n",
    "\n",
    "u_train_x, u_train_y = NM_model.fit_resample(train_x, train_y)\n",
    "u_train_x = pd.DataFrame(u_train_x, columns=x.columns)\n",
    "u_train_y = pd.Series(u_train_y)"
   ]
  },
  {
   "cell_type": "code",
   "execution_count": 27,
   "id": "fbb19ef0",
   "metadata": {},
   "outputs": [
    {
     "data": {
      "text/plain": [
       "-1    427\n",
       " 1    427\n",
       "Name: Class, dtype: int64"
      ]
     },
     "execution_count": 27,
     "metadata": {},
     "output_type": "execute_result"
    }
   ],
   "source": [
    "u_train_y.value_counts()"
   ]
  },
  {
   "cell_type": "code",
   "execution_count": 29,
   "id": "5e1e6e85",
   "metadata": {},
   "outputs": [
    {
     "name": "stdout",
     "output_type": "stream",
     "text": [
      "0.9393939393939394\n",
      "0.21198830409356725\n"
     ]
    }
   ],
   "source": [
    "KNN_model = KNN(n_neighbors = 11).fit(u_train_x, u_train_y)\n",
    "pred_y = KNN_model.predict(test_x)\n",
    "print(recall_score(test_y, pred_y))\n",
    "print(accuracy_score(test_y, pred_y))\n",
    "\n",
    "# 정확도가 크게 떨어짐 -> 적당한 비율에 맞게 설정"
   ]
  },
  {
   "cell_type": "code",
   "execution_count": 30,
   "id": "49aa9423",
   "metadata": {},
   "outputs": [],
   "source": [
    "train_y = NM_model.fit_resample(train_x, train_y)\n",
    "u_train_x = pd.DataFrame(u_train_x, columns=x.columns)\n",
    "u_train_y = pd.Series(uNM_model = NearMiss(version=2, sampling_strategy = {1:u_train_y.value_counts().iloc[-1],\n",
    "                             -1:u_train_y.value_counts().iloc[-1]*5}) # 5:1 비율로\n",
    "\n",
    "u_train_x, u__train_y)"
   ]
  },
  {
   "cell_type": "code",
   "execution_count": 32,
   "id": "89ca79dc",
   "metadata": {},
   "outputs": [
    {
     "data": {
      "text/plain": [
       "-1    2135\n",
       " 1     427\n",
       "Name: Class, dtype: int64"
      ]
     },
     "execution_count": 32,
     "metadata": {},
     "output_type": "execute_result"
    }
   ],
   "source": [
    "u_train_y.value_counts()"
   ]
  },
  {
   "cell_type": "code",
   "execution_count": 31,
   "id": "f0583406",
   "metadata": {},
   "outputs": [
    {
     "name": "stdout",
     "output_type": "stream",
     "text": [
      "0.8181818181818182\n",
      "0.6652046783625731\n"
     ]
    }
   ],
   "source": [
    "KNN_model = KNN(n_neighbors = 11).fit(u_train_x, u_train_y)\n",
    "pred_y = KNN_model.predict(test_x)\n",
    "print(recall_score(test_y, pred_y))\n",
    "print(accuracy_score(test_y, pred_y))"
   ]
  }
 ],
 "metadata": {
  "kernelspec": {
   "display_name": "Python 3 (ipykernel)",
   "language": "python",
   "name": "python3"
  },
  "language_info": {
   "codemirror_mode": {
    "name": "ipython",
    "version": 3
   },
   "file_extension": ".py",
   "mimetype": "text/x-python",
   "name": "python",
   "nbconvert_exporter": "python",
   "pygments_lexer": "ipython3",
   "version": "3.8.1"
  }
 },
 "nbformat": 4,
 "nbformat_minor": 5
}
