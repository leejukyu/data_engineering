{
 "cells": [
  {
   "cell_type": "markdown",
   "id": "5117ca2e",
   "metadata": {},
   "source": [
    "- 보통 1:N 병합인 경우에 사용디며 거래 데이터 및 로그 데이터와 병합하는 경우 사용\n",
    "- 중복 레코드를 포함하는 데이터를 요약한 후 병합하는 방식으로 문제 해결\n",
    "- groupby"
   ]
  },
  {
   "cell_type": "code",
   "execution_count": 2,
   "id": "0a178fa3",
   "metadata": {},
   "outputs": [],
   "source": [
    "import pandas as pd\n",
    "\n",
    "demo_df = pd.read_csv('고객별_인구통계정보.csv', encoding = 'cp949')\n",
    "purchasing_df = pd.read_csv('고객별_구매금액.csv', encoding = 'cp949')"
   ]
  },
  {
   "cell_type": "code",
   "execution_count": 3,
   "id": "482e8714",
   "metadata": {},
   "outputs": [
    {
     "data": {
      "text/plain": [
       "고객ID\n",
       "고객1     2494480\n",
       "고객10    2644200\n",
       "고객2     2573880\n",
       "고객3     2998590\n",
       "고객4     2875420\n",
       "고객5     2628430\n",
       "고객6     2419410\n",
       "고객7     2709620\n",
       "고객8     2914460\n",
       "고객9     2283150\n",
       "Name: 구매금액합계, dtype: int64"
      ]
     },
     "execution_count": 3,
     "metadata": {},
     "output_type": "execute_result"
    }
   ],
   "source": [
    "# 데이터 요약\n",
    "purchasing_aggregated_df = purchasing_df.groupby('고객ID')['구매금액'].sum()\n",
    "purchasing_aggregated_df.rename('구매금액합계')"
   ]
  },
  {
   "cell_type": "code",
   "execution_count": 4,
   "id": "05e71323",
   "metadata": {},
   "outputs": [
    {
     "data": {
      "text/html": [
       "<div>\n",
       "<style scoped>\n",
       "    .dataframe tbody tr th:only-of-type {\n",
       "        vertical-align: middle;\n",
       "    }\n",
       "\n",
       "    .dataframe tbody tr th {\n",
       "        vertical-align: top;\n",
       "    }\n",
       "\n",
       "    .dataframe thead th {\n",
       "        text-align: right;\n",
       "    }\n",
       "</style>\n",
       "<table border=\"1\" class=\"dataframe\">\n",
       "  <thead>\n",
       "    <tr style=\"text-align: right;\">\n",
       "      <th></th>\n",
       "      <th>고객ID</th>\n",
       "      <th>나이</th>\n",
       "      <th>성별</th>\n",
       "      <th>주소</th>\n",
       "      <th>구매금액</th>\n",
       "    </tr>\n",
       "  </thead>\n",
       "  <tbody>\n",
       "    <tr>\n",
       "      <th>0</th>\n",
       "      <td>고객1</td>\n",
       "      <td>48</td>\n",
       "      <td>남</td>\n",
       "      <td>A아파트</td>\n",
       "      <td>2494480</td>\n",
       "    </tr>\n",
       "    <tr>\n",
       "      <th>1</th>\n",
       "      <td>고객2</td>\n",
       "      <td>40</td>\n",
       "      <td>남</td>\n",
       "      <td>B아파트</td>\n",
       "      <td>2573880</td>\n",
       "    </tr>\n",
       "    <tr>\n",
       "      <th>2</th>\n",
       "      <td>고객3</td>\n",
       "      <td>37</td>\n",
       "      <td>여</td>\n",
       "      <td>C아파트</td>\n",
       "      <td>2998590</td>\n",
       "    </tr>\n",
       "    <tr>\n",
       "      <th>3</th>\n",
       "      <td>고객4</td>\n",
       "      <td>35</td>\n",
       "      <td>여</td>\n",
       "      <td>A연립주택</td>\n",
       "      <td>2875420</td>\n",
       "    </tr>\n",
       "    <tr>\n",
       "      <th>4</th>\n",
       "      <td>고객5</td>\n",
       "      <td>42</td>\n",
       "      <td>남</td>\n",
       "      <td>B연립주택</td>\n",
       "      <td>2628430</td>\n",
       "    </tr>\n",
       "  </tbody>\n",
       "</table>\n",
       "</div>"
      ],
      "text/plain": [
       "  고객ID  나이 성별     주소     구매금액\n",
       "0  고객1  48  남   A아파트  2494480\n",
       "1  고객2  40  남   B아파트  2573880\n",
       "2  고객3  37  여   C아파트  2998590\n",
       "3  고객4  35  여  A연립주택  2875420\n",
       "4  고객5  42  남  B연립주택  2628430"
      ]
     },
     "execution_count": 4,
     "metadata": {},
     "output_type": "execute_result"
    }
   ],
   "source": [
    "df = pd.merge(demo_df, purchasing_aggregated_df, left_on = '고객ID', right_index = True)\n",
    "# 하나의 변수를 추가하는 경우에 주로 사용하는 테크닉\n",
    "# demo_df['구매금액합계'] = demo_df['고객ID'].replace(purchasing_arggregated_df.to_dict())\n",
    "df.head()"
   ]
  },
  {
   "cell_type": "code",
   "execution_count": null,
   "id": "93cc64c4",
   "metadata": {},
   "outputs": [],
   "source": []
  }
 ],
 "metadata": {
  "kernelspec": {
   "display_name": "Python 3 (ipykernel)",
   "language": "python",
   "name": "python3"
  },
  "language_info": {
   "codemirror_mode": {
    "name": "ipython",
    "version": 3
   },
   "file_extension": ".py",
   "mimetype": "text/x-python",
   "name": "python",
   "nbconvert_exporter": "python",
   "pygments_lexer": "ipython3",
   "version": "3.8.1"
  }
 },
 "nbformat": 4,
 "nbformat_minor": 5
}
