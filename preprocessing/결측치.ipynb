{
 "cells": [
  {
   "cell_type": "markdown",
   "id": "779339d9",
   "metadata": {},
   "source": [
    "- NaN : 값이 있어야 하는데 없는 결측, 대체, 추정, 예측 등으로 처리\n",
    "- None : 값이 없는게 값인 결측, 새로운 값으로 정의\n",
    "- 상황에 따른 처리 방법 선택이 중요"
   ]
  },
  {
   "cell_type": "markdown",
   "id": "24db09ae",
   "metadata": {},
   "source": [
    "# 삭제"
   ]
  },
  {
   "cell_type": "markdown",
   "id": "d5d4cec6",
   "metadata": {},
   "source": [
    "## 행단위 결측 삭제\n",
    "#### 두가지 조건을 만족하는 경우에만 사용\n",
    "- 결측이 없는 레코드가 모델을 학습하는데 충분 -> 학습 샘플 개수에 따른 성능의 수렴 여부 확인\n",
    "- 결측이 새로운 데이터에는 없어야함 -> 도메인 지식 기반의 판단\n",
    "\n",
    "## 열단위 결측 삭제\n",
    "#### 두가지 조건을 만족하는 경우에만 사용\n",
    "- 소수 변수에 결측이 많이 포함되어 있음\n",
    "- 해당 변수들이 크게 중요하지 않음(by 도메인 지식)\n",
    "## 관련 문법\n",
    "- Series/DataFrame.isnull : sum함수와 같이 사용하여 결측치 분포 확인\n",
    "- DataFrame.dropna : 1이면 열을 삭제, 0이면 행을 삭제, any면 하나라도 결측이면, all면 모든 값이 결측일때 삭제"
   ]
  },
  {
   "cell_type": "code",
   "execution_count": 3,
   "id": "399203ee",
   "metadata": {},
   "outputs": [
    {
     "data": {
      "text/html": [
       "<div>\n",
       "<style scoped>\n",
       "    .dataframe tbody tr th:only-of-type {\n",
       "        vertical-align: middle;\n",
       "    }\n",
       "\n",
       "    .dataframe tbody tr th {\n",
       "        vertical-align: top;\n",
       "    }\n",
       "\n",
       "    .dataframe thead th {\n",
       "        text-align: right;\n",
       "    }\n",
       "</style>\n",
       "<table border=\"1\" class=\"dataframe\">\n",
       "  <thead>\n",
       "    <tr style=\"text-align: right;\">\n",
       "      <th></th>\n",
       "      <th>BI-RADS</th>\n",
       "      <th>Age</th>\n",
       "      <th>Shape</th>\n",
       "      <th>Margin</th>\n",
       "      <th>Density</th>\n",
       "      <th>Output</th>\n",
       "    </tr>\n",
       "  </thead>\n",
       "  <tbody>\n",
       "    <tr>\n",
       "      <th>0</th>\n",
       "      <td>5.0</td>\n",
       "      <td>67.0</td>\n",
       "      <td>3.0</td>\n",
       "      <td>5.0</td>\n",
       "      <td>3.0</td>\n",
       "      <td>1</td>\n",
       "    </tr>\n",
       "    <tr>\n",
       "      <th>1</th>\n",
       "      <td>4.0</td>\n",
       "      <td>43.0</td>\n",
       "      <td>1.0</td>\n",
       "      <td>1.0</td>\n",
       "      <td>NaN</td>\n",
       "      <td>1</td>\n",
       "    </tr>\n",
       "    <tr>\n",
       "      <th>2</th>\n",
       "      <td>5.0</td>\n",
       "      <td>58.0</td>\n",
       "      <td>4.0</td>\n",
       "      <td>5.0</td>\n",
       "      <td>3.0</td>\n",
       "      <td>1</td>\n",
       "    </tr>\n",
       "    <tr>\n",
       "      <th>3</th>\n",
       "      <td>4.0</td>\n",
       "      <td>28.0</td>\n",
       "      <td>1.0</td>\n",
       "      <td>1.0</td>\n",
       "      <td>3.0</td>\n",
       "      <td>0</td>\n",
       "    </tr>\n",
       "    <tr>\n",
       "      <th>4</th>\n",
       "      <td>5.0</td>\n",
       "      <td>74.0</td>\n",
       "      <td>1.0</td>\n",
       "      <td>5.0</td>\n",
       "      <td>NaN</td>\n",
       "      <td>1</td>\n",
       "    </tr>\n",
       "  </tbody>\n",
       "</table>\n",
       "</div>"
      ],
      "text/plain": [
       "   BI-RADS   Age  Shape  Margin  Density  Output\n",
       "0      5.0  67.0    3.0     5.0      3.0       1\n",
       "1      4.0  43.0    1.0     1.0      NaN       1\n",
       "2      5.0  58.0    4.0     5.0      3.0       1\n",
       "3      4.0  28.0    1.0     1.0      3.0       0\n",
       "4      5.0  74.0    1.0     5.0      NaN       1"
      ]
     },
     "execution_count": 3,
     "metadata": {},
     "output_type": "execute_result"
    }
   ],
   "source": [
    "import pandas as pd\n",
    "df = pd.read_csv('mammographic.csv')\n",
    "df.head()"
   ]
  },
  {
   "cell_type": "code",
   "execution_count": 4,
   "id": "5ad896b1",
   "metadata": {},
   "outputs": [],
   "source": [
    "# 특징과 라벨 분리\n",
    "X = df.drop('Output', axis = 1)\n",
    "Y = df['Output']"
   ]
  },
  {
   "cell_type": "code",
   "execution_count": 5,
   "id": "cfb0e3b9",
   "metadata": {},
   "outputs": [
    {
     "data": {
      "text/plain": [
       "BI-RADS     2\n",
       "Age         3\n",
       "Shape      24\n",
       "Margin     34\n",
       "Density    58\n",
       "dtype: int64"
      ]
     },
     "execution_count": 5,
     "metadata": {},
     "output_type": "execute_result"
    }
   ],
   "source": [
    "# 학습데이터와 평가 데이터 분할\n",
    "from sklearn.model_selection import train_test_split\n",
    "Train_X , Test_X, Train_Y, Test_Y = train_test_split(X,Y)\n",
    "Train_X.isnull().sum(axis = 0) # 열별 결측치 개수 확인"
   ]
  },
  {
   "cell_type": "code",
   "execution_count": 6,
   "id": "35a938b5",
   "metadata": {},
   "outputs": [
    {
     "data": {
      "text/plain": [
       "BI-RADS    0.002778\n",
       "Age        0.004167\n",
       "Shape      0.033333\n",
       "Margin     0.047222\n",
       "Density    0.080556\n",
       "dtype: float64"
      ]
     },
     "execution_count": 6,
     "metadata": {},
     "output_type": "execute_result"
    }
   ],
   "source": [
    "Train_X.isnull().sum(axis = 0)/len(Train_X) # 열별 결측치 비율 확인\n",
    "# 한쪽으로 결측이 몰렸다고 할 수 없음"
   ]
  },
  {
   "cell_type": "code",
   "execution_count": 7,
   "id": "1c78987f",
   "metadata": {},
   "outputs": [
    {
     "name": "stderr",
     "output_type": "stream",
     "text": [
      "c:\\users\\82106\\appdata\\local\\programs\\python\\python38\\lib\\site-packages\\pandas\\util\\_decorators.py:311: SettingWithCopyWarning: \n",
      "A value is trying to be set on a copy of a slice from a DataFrame\n",
      "\n",
      "See the caveats in the documentation: https://pandas.pydata.org/pandas-docs/stable/user_guide/indexing.html#returning-a-view-versus-a-copy\n",
      "  return func(*args, **kwargs)\n"
     ]
    }
   ],
   "source": [
    "# 일단 결측치 행 제거\n",
    "Train_X.dropna(inplace = True)"
   ]
  },
  {
   "cell_type": "markdown",
   "id": "3183fcdd",
   "metadata": {},
   "source": [
    "### 열 단위 삭제"
   ]
  },
  {
   "cell_type": "code",
   "execution_count": 8,
   "id": "f9370ca1",
   "metadata": {},
   "outputs": [],
   "source": [
    "df = pd.read_csv('post_operative.csv')"
   ]
  },
  {
   "cell_type": "code",
   "execution_count": 9,
   "id": "f86455cf",
   "metadata": {},
   "outputs": [],
   "source": [
    "x = df.drop('Decision', axis = 1)\n",
    "y = df['Decision']"
   ]
  },
  {
   "cell_type": "code",
   "execution_count": 10,
   "id": "2a7b5916",
   "metadata": {},
   "outputs": [],
   "source": [
    "train_x, test_x, train_y, test_y = train_test_split(x,y)"
   ]
  },
  {
   "cell_type": "code",
   "execution_count": 12,
   "id": "98538a7a",
   "metadata": {},
   "outputs": [
    {
     "data": {
      "text/html": [
       "<div>\n",
       "<style scoped>\n",
       "    .dataframe tbody tr th:only-of-type {\n",
       "        vertical-align: middle;\n",
       "    }\n",
       "\n",
       "    .dataframe tbody tr th {\n",
       "        vertical-align: top;\n",
       "    }\n",
       "\n",
       "    .dataframe thead th {\n",
       "        text-align: right;\n",
       "    }\n",
       "</style>\n",
       "<table border=\"1\" class=\"dataframe\">\n",
       "  <thead>\n",
       "    <tr style=\"text-align: right;\">\n",
       "      <th></th>\n",
       "      <th>L-CORE</th>\n",
       "      <th>L-SURF</th>\n",
       "      <th>L-O2</th>\n",
       "      <th>L-BP</th>\n",
       "      <th>SURF-STBL</th>\n",
       "      <th>CORE-STBL</th>\n",
       "      <th>BP-STBL</th>\n",
       "      <th>COMFORT</th>\n",
       "    </tr>\n",
       "  </thead>\n",
       "  <tbody>\n",
       "    <tr>\n",
       "      <th>14</th>\n",
       "      <td>mid</td>\n",
       "      <td>low</td>\n",
       "      <td>good</td>\n",
       "      <td>high</td>\n",
       "      <td>unstable</td>\n",
       "      <td>unstable</td>\n",
       "      <td>stable</td>\n",
       "      <td>15</td>\n",
       "    </tr>\n",
       "    <tr>\n",
       "      <th>6</th>\n",
       "      <td>mid</td>\n",
       "      <td>low</td>\n",
       "      <td>excellent</td>\n",
       "      <td>high</td>\n",
       "      <td>stable</td>\n",
       "      <td>stable</td>\n",
       "      <td>mod-stable</td>\n",
       "      <td>?</td>\n",
       "    </tr>\n",
       "    <tr>\n",
       "      <th>61</th>\n",
       "      <td>mid</td>\n",
       "      <td>low</td>\n",
       "      <td>excellent</td>\n",
       "      <td>high</td>\n",
       "      <td>stable</td>\n",
       "      <td>stable</td>\n",
       "      <td>stable</td>\n",
       "      <td>10</td>\n",
       "    </tr>\n",
       "    <tr>\n",
       "      <th>30</th>\n",
       "      <td>mid</td>\n",
       "      <td>mid</td>\n",
       "      <td>good</td>\n",
       "      <td>high</td>\n",
       "      <td>unstable</td>\n",
       "      <td>stable</td>\n",
       "      <td>stable</td>\n",
       "      <td>10</td>\n",
       "    </tr>\n",
       "    <tr>\n",
       "      <th>78</th>\n",
       "      <td>mid</td>\n",
       "      <td>mid</td>\n",
       "      <td>excellent</td>\n",
       "      <td>mid</td>\n",
       "      <td>unstable</td>\n",
       "      <td>unstable</td>\n",
       "      <td>stable</td>\n",
       "      <td>10</td>\n",
       "    </tr>\n",
       "  </tbody>\n",
       "</table>\n",
       "</div>"
      ],
      "text/plain": [
       "   L-CORE L-SURF       L-O2  L-BP SURF-STBL CORE-STBL     BP-STBL COMFORT\n",
       "14    mid    low       good  high  unstable  unstable      stable      15\n",
       "6     mid    low  excellent  high    stable    stable  mod-stable       ?\n",
       "61    mid    low  excellent  high    stable    stable      stable      10\n",
       "30    mid    mid       good  high  unstable    stable      stable      10\n",
       "78    mid    mid  excellent   mid  unstable  unstable      stable      10"
      ]
     },
     "execution_count": 12,
     "metadata": {},
     "output_type": "execute_result"
    }
   ],
   "source": [
    "train_x.head() # count 변수에 ? 로 결측 있음을 확인\n",
    "# 이런 문자값은 확인 안 될수가 있으니까 unique를 찍어보는 습관"
   ]
  },
  {
   "cell_type": "code",
   "execution_count": 13,
   "id": "7738aa2e",
   "metadata": {},
   "outputs": [
    {
     "data": {
      "text/plain": [
       "L-CORE       0.000000\n",
       "L-SURF       0.000000\n",
       "L-O2         0.000000\n",
       "L-BP         0.000000\n",
       "SURF-STBL    0.000000\n",
       "CORE-STBL    0.000000\n",
       "BP-STBL      0.000000\n",
       "COMFORT      0.208955\n",
       "dtype: float64"
      ]
     },
     "execution_count": 13,
     "metadata": {},
     "output_type": "execute_result"
    }
   ],
   "source": [
    "import numpy as np\n",
    "train_x.replace('?', np.nan).isnull().sum() / len(train_x)\n",
    "# ? 를 결측치로 처리, 보통 30프로 이상이면 결측치가 많다고 본다"
   ]
  },
  {
   "cell_type": "code",
   "execution_count": 14,
   "id": "976e73e0",
   "metadata": {},
   "outputs": [
    {
     "name": "stderr",
     "output_type": "stream",
     "text": [
      "c:\\users\\82106\\appdata\\local\\programs\\python\\python38\\lib\\site-packages\\pandas\\util\\_decorators.py:311: SettingWithCopyWarning: \n",
      "A value is trying to be set on a copy of a slice from a DataFrame\n",
      "\n",
      "See the caveats in the documentation: https://pandas.pydata.org/pandas-docs/stable/user_guide/indexing.html#returning-a-view-versus-a-copy\n",
      "  return func(*args, **kwargs)\n",
      "c:\\users\\82106\\appdata\\local\\programs\\python\\python38\\lib\\site-packages\\pandas\\core\\frame.py:4901: SettingWithCopyWarning: \n",
      "A value is trying to be set on a copy of a slice from a DataFrame\n",
      "\n",
      "See the caveats in the documentation: https://pandas.pydata.org/pandas-docs/stable/user_guide/indexing.html#returning-a-view-versus-a-copy\n",
      "  return super().drop(\n"
     ]
    }
   ],
   "source": [
    "train_x.dropna(axis = 1, inplace = True)\n",
    "test_x.drop('COMFORT', axis = 1, inplace = True)\n",
    "# test에는 comfort가 결측이 없을 수 있으므로, drop으로 삭제\n",
    "# train과 test에 속한 컬럼이 다를 수 있다"
   ]
  },
  {
   "cell_type": "code",
   "execution_count": 15,
   "id": "7118fd16",
   "metadata": {},
   "outputs": [
    {
     "data": {
      "text/plain": [
       "L-CORE       0\n",
       "L-SURF       0\n",
       "L-O2         0\n",
       "L-BP         0\n",
       "SURF-STBL    0\n",
       "CORE-STBL    0\n",
       "BP-STBL      0\n",
       "COMFORT      0\n",
       "dtype: int64"
      ]
     },
     "execution_count": 15,
     "metadata": {},
     "output_type": "execute_result"
    }
   ],
   "source": [
    "train_x.isnull().sum(axis = 0)"
   ]
  },
  {
   "cell_type": "markdown",
   "id": "6feb0d4b",
   "metadata": {},
   "source": [
    "# 대체"
   ]
  },
  {
   "cell_type": "markdown",
   "id": "288f9385",
   "metadata": {},
   "source": [
    "- 소수 특징에 결측이 쏠린경우와 특징 간 상관성이 큰 경우 활용 부적절\n",
    "- sklearn.impute.SimpleImputer : 대표값으로 결측을 대체"
   ]
  },
  {
   "cell_type": "code",
   "execution_count": 17,
   "id": "a5a587f6",
   "metadata": {},
   "outputs": [],
   "source": [
    "df = pd.read_csv('./데이터/cleveland.csv')"
   ]
  },
  {
   "cell_type": "code",
   "execution_count": 18,
   "id": "ba9fced8",
   "metadata": {},
   "outputs": [],
   "source": [
    "x = df.drop('Output', axis = 1)\n",
    "y = df['Output']"
   ]
  },
  {
   "cell_type": "code",
   "execution_count": 19,
   "id": "e063144e",
   "metadata": {},
   "outputs": [],
   "source": [
    "train_x, test_x, train_y, test_y = train_test_split(x,y)"
   ]
  },
  {
   "cell_type": "code",
   "execution_count": 21,
   "id": "f2bbf853",
   "metadata": {},
   "outputs": [
    {
     "data": {
      "text/plain": [
       "Age         0\n",
       "Sex         0\n",
       "Cp          0\n",
       "Trestbps    0\n",
       "Chol        0\n",
       "Fbs         0\n",
       "Restecg     0\n",
       "Thalach     0\n",
       "Exang       0\n",
       "Oldpeak     0\n",
       "Slope       0\n",
       "Ca          2\n",
       "Thal        0\n",
       "dtype: int64"
      ]
     },
     "execution_count": 21,
     "metadata": {},
     "output_type": "execute_result"
    }
   ],
   "source": [
    "train_x.isnull().sum()"
   ]
  },
  {
   "cell_type": "code",
   "execution_count": 22,
   "id": "7da927fa",
   "metadata": {},
   "outputs": [
    {
     "data": {
      "text/plain": [
       "Age         0.165751\n",
       "Sex         0.135299\n",
       "Cp          0.102164\n",
       "Trestbps    0.125989\n",
       "Chol        0.109400\n",
       "Fbs         0.129096\n",
       "Restecg     0.175147\n",
       "Thalach    -0.099364\n",
       "Exang       0.159366\n",
       "Oldpeak     0.195697\n",
       "Slope       0.162014\n",
       "Ca          0.120225\n",
       "Thal        0.167388\n",
       "dtype: float64"
      ]
     },
     "execution_count": 22,
     "metadata": {},
     "output_type": "execute_result"
    }
   ],
   "source": [
    "# 평균 상관 계수 확인 [주의: 모든 변수가 연속형이므로 가능한 접근]\n",
    "train_x.corr().sum() / (len(train_x.columns)-1)\n",
    "# 수치가 높지 않다고 판단 -> 특징 간 관계가 크지 않으므로 대체 가능"
   ]
  },
  {
   "cell_type": "code",
   "execution_count": 23,
   "id": "e8ea6fcd",
   "metadata": {},
   "outputs": [],
   "source": [
    "from sklearn.impute import SimpleImputer\n",
    "\n",
    "# SimpleImputer 인스턴스화\n",
    "Si = SimpleImputer(strategy = 'mean')\n",
    "Si.fit(train_x)\n",
    "\n",
    "# sklearn instance의 출력은 ndarray이므로 다시 DataFrame으로 바꿔줌\n",
    "train_x = pd.DataFrame(Si.transform(train_x), columns = train_x.columns)\n",
    "test_x = pd.DataFrame(Si.transform(test_x), columns = train_x.columns)"
   ]
  },
  {
   "cell_type": "code",
   "execution_count": 24,
   "id": "b69c91da",
   "metadata": {},
   "outputs": [
    {
     "data": {
      "text/plain": [
       "Age         0\n",
       "Sex         0\n",
       "Cp          0\n",
       "Trestbps    0\n",
       "Chol        0\n",
       "Fbs         0\n",
       "Restecg     0\n",
       "Thalach     0\n",
       "Exang       0\n",
       "Oldpeak     0\n",
       "Slope       0\n",
       "Ca          0\n",
       "Thal        0\n",
       "dtype: int64"
      ]
     },
     "execution_count": 24,
     "metadata": {},
     "output_type": "execute_result"
    }
   ],
   "source": [
    "train_x.isnull().sum()"
   ]
  },
  {
   "cell_type": "markdown",
   "id": "f5983281",
   "metadata": {},
   "source": [
    "#### 복잡한 케이스 : 다른 타입의 특징이 있는 경우"
   ]
  },
  {
   "cell_type": "code",
   "execution_count": 25,
   "id": "d8de1c73",
   "metadata": {},
   "outputs": [],
   "source": [
    "df = pd.read_csv('./데이터/saheart.csv')"
   ]
  },
  {
   "cell_type": "code",
   "execution_count": 26,
   "id": "f05f9028",
   "metadata": {},
   "outputs": [],
   "source": [
    "x = df.drop('Chd', axis = 1)\n",
    "y = df['Chd']"
   ]
  },
  {
   "cell_type": "code",
   "execution_count": 27,
   "id": "1dae7844",
   "metadata": {},
   "outputs": [],
   "source": [
    "train_x, test_x, train_y, test_y = train_test_split(x,y)"
   ]
  },
  {
   "cell_type": "code",
   "execution_count": 28,
   "id": "047cfd31",
   "metadata": {},
   "outputs": [
    {
     "data": {
      "text/plain": [
       "Sbp          0\n",
       "Tobacco      0\n",
       "Ldl          0\n",
       "Adiposity    0\n",
       "Typea        0\n",
       "Obesity      9\n",
       "Alcohol      5\n",
       "Age          0\n",
       "Famhist      4\n",
       "dtype: int64"
      ]
     },
     "execution_count": 28,
     "metadata": {},
     "output_type": "execute_result"
    }
   ],
   "source": [
    "train_x.isnull().sum()\n",
    "# 지워도 무방한 수치이지만, 새로 들어온 데이터에 결측이 있을 수도 있다는 도메인"
   ]
  },
  {
   "cell_type": "code",
   "execution_count": 29,
   "id": "8c68ccd6",
   "metadata": {},
   "outputs": [
    {
     "data": {
      "text/plain": [
       "Sbp          0.302438\n",
       "Tobacco      0.196959\n",
       "Ldl          0.308117\n",
       "Adiposity    0.436583\n",
       "Typea        0.120044\n",
       "Obesity      0.356907\n",
       "Alcohol      0.211576\n",
       "Age          0.387146\n",
       "Famhist      0.260052\n",
       "dtype: float64"
      ]
     },
     "execution_count": 29,
     "metadata": {},
     "output_type": "execute_result"
    }
   ],
   "source": [
    "train_x.corr().sum()/ (len(train_x.columns)-1)\n",
    "# 수치가 크지 않음"
   ]
  },
  {
   "cell_type": "code",
   "execution_count": 30,
   "id": "2d14c4f9",
   "metadata": {},
   "outputs": [],
   "source": [
    "# Famhist : 범주형 변수\n",
    "# 그 외 : 연속형 변수\n",
    "\n",
    "# 대표값을 뭘 해야할지 결정이 어려움 -> 둘 다 사용해야함\n",
    "# 따라서 데이터 분할\n",
    "train_x_cate = train_x[['Famhist']]\n",
    "train_x_cont = train_x.drop('Famhist', axis = 1)\n",
    "\n",
    "test_x_cate = test_x[['Famhist']]\n",
    "test_x_cont = test_x.drop('Famhist', axis = 1)"
   ]
  },
  {
   "cell_type": "code",
   "execution_count": 32,
   "id": "68ce203a",
   "metadata": {},
   "outputs": [],
   "source": [
    "Si_mode = SimpleImputer(strategy = 'most_frequent')\n",
    "Si_mean = SimpleImputer(strategy = 'mean')\n",
    "\n",
    "Si_mode.fit(train_x_cate)\n",
    "Si_mean.fit(train_x_cont)\n",
    "\n",
    "train_x_cate = pd.DataFrame(Si_mode.transform(train_x_cate), columns  = train_x_cate.columns)\n",
    "test_x_cate = pd.DataFrame(Si_mode.transform(test_x_cate), columns  = test_x_cate.columns)\n",
    "\n",
    "train_x_cont = pd.DataFrame(Si_mean.transform(train_x_cont), columns  = train_x_cont.columns)\n",
    "test_x_cont = pd.DataFrame(Si_mean.transform(test_x_cont), columns  = test_x_cont.columns)\n",
    "\n",
    "# 두 데이터 붙여주기\n",
    "train_x = pd.concat([train_x_cate, train_x_cont], axis = 1)\n",
    "test_x = pd.concat([test_x_cate, test_x_cont], axis = 1)"
   ]
  },
  {
   "cell_type": "code",
   "execution_count": 33,
   "id": "5b219d27",
   "metadata": {},
   "outputs": [
    {
     "data": {
      "text/plain": [
       "Famhist      0\n",
       "Sbp          0\n",
       "Tobacco      0\n",
       "Ldl          0\n",
       "Adiposity    0\n",
       "Typea        0\n",
       "Obesity      0\n",
       "Alcohol      0\n",
       "Age          0\n",
       "dtype: int64"
      ]
     },
     "execution_count": 33,
     "metadata": {},
     "output_type": "execute_result"
    }
   ],
   "source": [
    "train_x.isnull().sum()"
   ]
  },
  {
   "cell_type": "code",
   "execution_count": 34,
   "id": "08c9ccd6",
   "metadata": {},
   "outputs": [],
   "source": [
    "# Tip. 이진형 변수와 연속형 변수만 포함된 경우에는 Si_mean만 사용하여 결측치를 대체할 수 있다\n",
    "# 이진형 변수에 대해서만 round 처리를 하면 하나의 인스턴스만 활용할 수 있다"
   ]
  },
  {
   "cell_type": "markdown",
   "id": "4f9b95a1",
   "metadata": {},
   "source": [
    "#### 시계열 변수인 경우 근처값으로 대체 가능\n",
    " - DataFrame.fillna : 결측치를 특정 값이나 방법으로 채우는 함수\n",
    " - value : 결측치를 대체할 값\n",
    " - method : 대체 방법\n",
    "     - ffill : 결측치 이전의 유효한 값 가운데 가장 가까운 값\n",
    "     - bfill : 결측치 이후의 유효한 값 가운데 가장 가까운 값\n",
    " - train_test_split을 이용하여 임의로 분할한 경우엔 적용 불가능\n",
    " - 분할 전에 결측치 대체가 가능한 유일한 케이스"
   ]
  },
  {
   "cell_type": "code",
   "execution_count": 35,
   "id": "52d98861",
   "metadata": {},
   "outputs": [
    {
     "data": {
      "text/plain": [
       "Date              0\n",
       "Time              0\n",
       "CO(GT)            1\n",
       "PT08.S1(CO)       2\n",
       "NMHC(GT)          2\n",
       "C6H6(GT)         10\n",
       "PT08.S2(NMHC)     4\n",
       "NOx(GT)           6\n",
       "PT08.S3(NOx)      7\n",
       "NO2(GT)           6\n",
       "PT08.S4(NO2)      6\n",
       "PT08.S5(O3)       1\n",
       "T                 0\n",
       "RH                0\n",
       "AH                0\n",
       "dtype: int64"
      ]
     },
     "execution_count": 35,
     "metadata": {},
     "output_type": "execute_result"
    }
   ],
   "source": [
    "df = pd.read_excel('./데이터/AirQuality.xlsx')\n",
    "df.isnull().sum()"
   ]
  },
  {
   "cell_type": "code",
   "execution_count": 36,
   "id": "268a2fef",
   "metadata": {},
   "outputs": [],
   "source": [
    "df = df.fillna(method = 'ffill').fillna(method = 'bfill')\n",
    "# 이전 값을 넣고 뒤값을 넣어줌"
   ]
  },
  {
   "cell_type": "code",
   "execution_count": 37,
   "id": "0c111c79",
   "metadata": {},
   "outputs": [
    {
     "data": {
      "text/plain": [
       "Date             0\n",
       "Time             0\n",
       "CO(GT)           0\n",
       "PT08.S1(CO)      0\n",
       "NMHC(GT)         0\n",
       "C6H6(GT)         0\n",
       "PT08.S2(NMHC)    0\n",
       "NOx(GT)          0\n",
       "PT08.S3(NOx)     0\n",
       "NO2(GT)          0\n",
       "PT08.S4(NO2)     0\n",
       "PT08.S5(O3)      0\n",
       "T                0\n",
       "RH               0\n",
       "AH               0\n",
       "dtype: int64"
      ]
     },
     "execution_count": 37,
     "metadata": {},
     "output_type": "execute_result"
    }
   ],
   "source": [
    "df.isnull().sum()"
   ]
  },
  {
   "cell_type": "markdown",
   "id": "a9790124",
   "metadata": {},
   "source": [
    "# 결측치 예측 모델\n",
    "#### 결측이 발생하지 않은 칼럼을 바탕으로 결측치를 예측하는 모델을 학습하고 활용\n",
    "- sklearn.impute.KNNImputer : 결측이 아닌 값만을 사용하여 이웃을 두한 뒤, 이웃들의 대표값으로 대체\n",
    "- n_neighbors : 이웃 수 (5정도가 적절)"
   ]
  },
  {
   "cell_type": "markdown",
   "id": "491122f9",
   "metadata": {},
   "source": [
    "### 사용 조건 및 단점\n",
    "1. 결측이 소수 컬럼에 쏠리면 안된다\n",
    "2. 특징 간에 관계가 존재해야 한다\n",
    "3. 다른 결측치 처리 방법에 비해 시간이 오래 소요된다"
   ]
  },
  {
   "cell_type": "code",
   "execution_count": 39,
   "id": "d6f9f869",
   "metadata": {},
   "outputs": [],
   "source": [
    "df = pd.read_csv('./데이터/mammographic.csv')\n",
    "x = df.drop('Output', axis = 1)\n",
    "y = df['Output']\n",
    "\n",
    "train_x, test_x, train_y, test_y = train_test_split(x,y)"
   ]
  },
  {
   "cell_type": "code",
   "execution_count": 41,
   "id": "4d8e9125",
   "metadata": {},
   "outputs": [
    {
     "data": {
      "text/plain": [
       "BI-RADS    0.002778\n",
       "Age        0.005556\n",
       "Shape      0.027778\n",
       "Margin     0.041667\n",
       "Density    0.077778\n",
       "dtype: float64"
      ]
     },
     "execution_count": 41,
     "metadata": {},
     "output_type": "execute_result"
    }
   ],
   "source": [
    "train_x.isnull().sum() / len(train_x)"
   ]
  },
  {
   "cell_type": "code",
   "execution_count": 42,
   "id": "8bc76ce4",
   "metadata": {},
   "outputs": [
    {
     "data": {
      "text/plain": [
       "BI-RADS    0.421620\n",
       "Age        0.426653\n",
       "Shape      0.516058\n",
       "Margin     0.534703\n",
       "Density    0.250508\n",
       "dtype: float64"
      ]
     },
     "execution_count": 42,
     "metadata": {},
     "output_type": "execute_result"
    }
   ],
   "source": [
    "train_x.corr().sum() / len(train_x.columns)"
   ]
  },
  {
   "cell_type": "code",
   "execution_count": 45,
   "id": "1ee4b8f5",
   "metadata": {},
   "outputs": [],
   "source": [
    "from sklearn.impute import KNNImputer\n",
    "KI = KNNImputer(n_neighbors = 5)\n",
    "KI.fit(train_x)\n",
    "\n",
    "train_x = pd.DataFrame(KI.transform(train_x), columns = train_x.columns)\n",
    "test_x = pd.DataFrame(KI.transform(test_x), columns = test_x.columns)"
   ]
  },
  {
   "cell_type": "code",
   "execution_count": 46,
   "id": "bc4d17b7",
   "metadata": {},
   "outputs": [
    {
     "data": {
      "text/plain": [
       "BI-RADS    0.0\n",
       "Age        0.0\n",
       "Shape      0.0\n",
       "Margin     0.0\n",
       "Density    0.0\n",
       "dtype: float64"
      ]
     },
     "execution_count": 46,
     "metadata": {},
     "output_type": "execute_result"
    }
   ],
   "source": [
    "train_x.isnull().sum() / len(train_x)"
   ]
  },
  {
   "cell_type": "code",
   "execution_count": null,
   "id": "227c4214",
   "metadata": {},
   "outputs": [],
   "source": []
  }
 ],
 "metadata": {
  "kernelspec": {
   "display_name": "Python 3 (ipykernel)",
   "language": "python",
   "name": "python3"
  },
  "language_info": {
   "codemirror_mode": {
    "name": "ipython",
    "version": 3
   },
   "file_extension": ".py",
   "mimetype": "text/x-python",
   "name": "python",
   "nbconvert_exporter": "python",
   "pygments_lexer": "ipython3",
   "version": "3.8.1"
  }
 },
 "nbformat": 4,
 "nbformat_minor": 5
}
