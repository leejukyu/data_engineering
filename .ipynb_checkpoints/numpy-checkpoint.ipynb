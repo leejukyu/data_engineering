{
 "cells": [
  {
   "cell_type": "markdown",
   "id": "7e59c79b",
   "metadata": {},
   "source": [
    "#### zeros()\n",
    "###### 괄호 안에 입력된 숫자만큼의 원소를 생성하고 0으로 초기화"
   ]
  },
  {
   "cell_type": "code",
   "execution_count": 4,
   "id": "b2dac814",
   "metadata": {},
   "outputs": [
    {
     "name": "stdout",
     "output_type": "stream",
     "text": [
      "[[0 0]\n",
      " [0 0]\n",
      " [0 0]\n",
      " [0 0]\n",
      " [0 0]\n",
      " [0 0]\n",
      " [0 0]\n",
      " [0 0]\n",
      " [0 0]\n",
      " [0 0]]\n"
     ]
    },
    {
     "data": {
      "text/plain": [
       "(3,)"
      ]
     },
     "execution_count": 4,
     "metadata": {},
     "output_type": "execute_result"
    }
   ],
   "source": [
    "import numpy as np\n",
    "y = np.zeros(shape=(10,2), dtype=np.int8)\n",
    "print(y) # 0 배열이 10개 나옴\n",
    "x = np.array([1,2,3]) #array : 배열만들기\n",
    "type(x)\n",
    "x.shape\n"
   ]
  },
  {
   "cell_type": "markdown",
   "id": "8d0bd822",
   "metadata": {},
   "source": [
    "#### mean() : 배열에 저장된 원소들의 평균값을 계산"
   ]
  },
  {
   "cell_type": "code",
   "execution_count": 7,
   "id": "26b58479",
   "metadata": {},
   "outputs": [
    {
     "data": {
      "text/plain": [
       "(3,)"
      ]
     },
     "execution_count": 7,
     "metadata": {},
     "output_type": "execute_result"
    }
   ],
   "source": [
    "import numpy as np\n",
    "list_1 = [1,2,3]\n",
    "x = np.array(list_1)\n",
    "np.mean(x)\n",
    "x.shape # ()가 없으니 프롬퍼티, 3행"
   ]
  },
  {
   "cell_type": "markdown",
   "id": "a25cf282",
   "metadata": {},
   "source": [
    "#### array() : Numpy 형식으로 배열의 원소를 입력할 때는 반드시 리스트 형식으로 입력"
   ]
  },
  {
   "cell_type": "code",
   "execution_count": 12,
   "id": "35ba84a1",
   "metadata": {},
   "outputs": [
    {
     "name": "stdout",
     "output_type": "stream",
     "text": [
      "[1 2 3] [1 2 3] {1, 2, 3, 4} {'a': 'b', 'c': 'b'}\n"
     ]
    }
   ],
   "source": [
    "x = np.array([1,2,3]) # 리스트와 튜플은 array 됨\n",
    "y = np.array((1,2,3))\n",
    "z = np.array({1,2,3,4})\n",
    "a = np.array({\"a\":\"b\", \"c\":\"b\"})\n",
    "print(x,y,z,a)"
   ]
  },
  {
   "cell_type": "markdown",
   "id": "db419928",
   "metadata": {},
   "source": [
    "#### reshape() : 배열을 원하는 모양으로 생성, 구조재배열"
   ]
  },
  {
   "cell_type": "code",
   "execution_count": 18,
   "id": "2321415a",
   "metadata": {},
   "outputs": [
    {
     "name": "stdout",
     "output_type": "stream",
     "text": [
      "[[1 2 3 4]\n",
      " [5 6 7 8]] (2, 4)\n",
      "[[1 2]\n",
      " [3 4]\n",
      " [5 6]\n",
      " [7 8]] (4, 2)\n"
     ]
    }
   ],
   "source": [
    "import numpy as np\n",
    "a = [1,2,3,4,5,6,7,8]\n",
    "b = np.reshape(a,(2,4)) # 2행 4열로 재배열\n",
    "print(b, b.shape)\n",
    "# c = np.reshape(a,(3,2)) # 8개가 들어가는 행렬이 아니면 오류\n",
    "d = np.reshape(a,(4,2))\n",
    "print(d, d.shape)"
   ]
  },
  {
   "cell_type": "markdown",
   "id": "93d7d017",
   "metadata": {},
   "source": [
    "#### reshape() 3차원 배열 만들기"
   ]
  },
  {
   "cell_type": "code",
   "execution_count": 25,
   "id": "e8f42ee1",
   "metadata": {},
   "outputs": [
    {
     "name": "stdout",
     "output_type": "stream",
     "text": [
      "[ 1  2  3  4  5  6  7  8  9 10 11 12]\n",
      "[[[ 1  2]\n",
      "  [ 3  4]]\n",
      "\n",
      " [[ 5  6]\n",
      "  [ 7  8]]\n",
      "\n",
      " [[ 9 10]\n",
      "  [11 12]]]\n"
     ]
    }
   ],
   "source": [
    "a = np.arange(1,13)\n",
    "print(a)\n",
    "b = a.reshape(3,2,2) # 인자가 3개 3차원\n",
    "print(b)"
   ]
  },
  {
   "cell_type": "markdown",
   "id": "dd295155",
   "metadata": {},
   "source": [
    "###### reshape를 활용하는 경우를 보다 보면 입력인수로 -1이 들어간 경우가 종종 있다. reshape()의 ‘-1’이 의미하는 바는, 변경된 배열의 ‘-1’ 위치의 차원은 “원래 배열의 길이와 남은 차원으로 부터 추정”이 된다는 뜻"
   ]
  },
  {
   "cell_type": "code",
   "execution_count": 27,
   "id": "9ab38e39",
   "metadata": {},
   "outputs": [
    {
     "data": {
      "text/plain": [
       "array([[ 0,  1,  2,  3],\n",
       "       [ 4,  5,  6,  7],\n",
       "       [ 8,  9, 10, 11]])"
      ]
     },
     "execution_count": 27,
     "metadata": {},
     "output_type": "execute_result"
    }
   ],
   "source": [
    "x = np.arange(12)\n",
    "x = x.reshape(3,4)\n",
    "x"
   ]
  },
  {
   "cell_type": "code",
   "execution_count": 28,
   "id": "dcbb0cf1",
   "metadata": {},
   "outputs": [
    {
     "data": {
      "text/plain": [
       "array([[ 0],\n",
       "       [ 1],\n",
       "       [ 2],\n",
       "       [ 3],\n",
       "       [ 4],\n",
       "       [ 5],\n",
       "       [ 6],\n",
       "       [ 7],\n",
       "       [ 8],\n",
       "       [ 9],\n",
       "       [10],\n",
       "       [11]])"
      ]
     },
     "execution_count": 28,
     "metadata": {},
     "output_type": "execute_result"
    }
   ],
   "source": [
    "x.reshape(-1,1)"
   ]
  },
  {
   "cell_type": "code",
   "execution_count": 29,
   "id": "1adbf04e",
   "metadata": {},
   "outputs": [
    {
     "data": {
      "text/plain": [
       "array([[ 0,  1],\n",
       "       [ 2,  3],\n",
       "       [ 4,  5],\n",
       "       [ 6,  7],\n",
       "       [ 8,  9],\n",
       "       [10, 11]])"
      ]
     },
     "execution_count": 29,
     "metadata": {},
     "output_type": "execute_result"
    }
   ],
   "source": [
    "x.reshape(-1,2)"
   ]
  },
  {
   "cell_type": "code",
   "execution_count": 30,
   "id": "752a8e22",
   "metadata": {},
   "outputs": [
    {
     "data": {
      "text/plain": [
       "array([[ 0,  1,  2],\n",
       "       [ 3,  4,  5],\n",
       "       [ 6,  7,  8],\n",
       "       [ 9, 10, 11]])"
      ]
     },
     "execution_count": 30,
     "metadata": {},
     "output_type": "execute_result"
    }
   ],
   "source": [
    "x.reshape(-1,3)"
   ]
  },
  {
   "cell_type": "markdown",
   "id": "06e57e90",
   "metadata": {},
   "source": [
    "#### ones()"
   ]
  },
  {
   "cell_type": "code",
   "execution_count": 36,
   "id": "1c4a3c47",
   "metadata": {},
   "outputs": [
    {
     "name": "stdout",
     "output_type": "stream",
     "text": [
      "[[1. 1. 1.]\n",
      " [1. 1. 1.]\n",
      " [1. 1. 1.]\n",
      " [1. 1. 1.]]\n"
     ]
    }
   ],
   "source": [
    "y= np.ones([4,3])\n",
    "# z = y*2\n",
    "print(y)"
   ]
  },
  {
   "cell_type": "markdown",
   "id": "eb6f1ff2",
   "metadata": {},
   "source": [
    "#### Numpy 배열의 슬라이싱"
   ]
  },
  {
   "cell_type": "code",
   "execution_count": 53,
   "id": "d525447f",
   "metadata": {},
   "outputs": [
    {
     "name": "stdout",
     "output_type": "stream",
     "text": [
      "[2, 12]\n"
     ]
    }
   ],
   "source": [
    "list1 = [[1,11],[2,12],[3,13],[4,14]]\n",
    "print(list1[:][1])\n",
    "# print(list1[: , 1]) # 리스트지 배열이 아니니까 오류"
   ]
  },
  {
   "cell_type": "code",
   "execution_count": 54,
   "id": "5b5d0f36",
   "metadata": {},
   "outputs": [
    {
     "name": "stdout",
     "output_type": "stream",
     "text": [
      "[[ 1 11]\n",
      " [ 2 12]\n",
      " [ 3 13]\n",
      " [ 4 14]]\n",
      "12\n",
      "[11 12 13 14]\n",
      "[[ 2 12]\n",
      " [ 3 13]\n",
      " [ 4 14]]\n"
     ]
    }
   ],
   "source": [
    "list1 = [[1,11],[2,12],[3,13],[4,14]]\n",
    "arr = np.array(list1) # 리스트를 배열로 만들어줌\n",
    "print(arr)\n",
    "print(arr[1][1]) # 2행2열\n",
    "print(arr[: , 1]) # 2열의 모든 행\n",
    "print(arr[1:4]) # 2행부터 2열"
   ]
  },
  {
   "cell_type": "markdown",
   "id": "db10a27b",
   "metadata": {},
   "source": [
    "#### math 모듈의 sqrt()와 numpy 모듈의 sqrt() 비교"
   ]
  },
  {
   "cell_type": "code",
   "execution_count": 55,
   "id": "b6eaf583",
   "metadata": {},
   "outputs": [
    {
     "data": {
      "text/plain": [
       "1.4142135623730951"
      ]
     },
     "execution_count": 55,
     "metadata": {},
     "output_type": "execute_result"
    }
   ],
   "source": [
    "import math\n",
    "math.sqrt(2)\n",
    "math.sqrt([2,3,4]) # math는 각각에 루트 못씌움 한계"
   ]
  },
  {
   "cell_type": "code",
   "execution_count": 58,
   "id": "53e1d13b",
   "metadata": {},
   "outputs": [
    {
     "data": {
      "text/plain": [
       "array([1.41421356, 1.73205081, 2.        ])"
      ]
     },
     "execution_count": 58,
     "metadata": {},
     "output_type": "execute_result"
    }
   ],
   "source": [
    "import numpy as np\n",
    "np.sqrt(2)\n",
    "np.sqrt([2,3,4])"
   ]
  },
  {
   "cell_type": "code",
   "execution_count": 62,
   "id": "3ea5aa38",
   "metadata": {},
   "outputs": [
    {
     "name": "stdout",
     "output_type": "stream",
     "text": [
      "[0. 0. 0. 0. 0. 0. 0. 0. 0. 0. 0. 0. 0. 0. 0.]\n"
     ]
    }
   ],
   "source": [
    "import numpy as np\n",
    "\n",
    "x = np.zeros(15)\n",
    "print(x)"
   ]
  },
  {
   "cell_type": "code",
   "execution_count": 61,
   "id": "a0d30763",
   "metadata": {},
   "outputs": [
    {
     "name": "stdout",
     "output_type": "stream",
     "text": [
      "[[0. 0. 0.]\n",
      " [0. 0. 0.]\n",
      " [0. 0. 0.]\n",
      " [0. 0. 0.]\n",
      " [0. 0. 0.]]\n"
     ]
    }
   ],
   "source": [
    "y = np.zeros([5,3])\n",
    "print(y)"
   ]
  },
  {
   "cell_type": "code",
   "execution_count": 69,
   "id": "b38c6c4e",
   "metadata": {},
   "outputs": [
    {
     "name": "stdout",
     "output_type": "stream",
     "text": [
      "[[4. 4. 4. 4. 4.]\n",
      " [4. 4. 4. 4. 4.]\n",
      " [4. 4. 4. 4. 4.]]\n"
     ]
    }
   ],
   "source": [
    "y = np.zeros([5,3])\n",
    "z = y.reshape([3,5])\n",
    "z += 4\n",
    "print(z)"
   ]
  },
  {
   "cell_type": "markdown",
   "id": "3e520609",
   "metadata": {},
   "source": [
    "#### 전치행렬 : 행과 열을 교환\n",
    "###### transpose()"
   ]
  },
  {
   "cell_type": "code",
   "execution_count": 71,
   "id": "9b40a3bc",
   "metadata": {},
   "outputs": [
    {
     "name": "stdout",
     "output_type": "stream",
     "text": [
      "[[1 2]\n",
      " [3 4]]\n",
      "[[1 3]\n",
      " [2 4]]\n"
     ]
    }
   ],
   "source": [
    "import numpy as np\n",
    "ary = np.array([[1,2],[3,4]])\n",
    "print(ary)\n",
    "trans_ary = ary.transpose()\n",
    "print(trans_ary)"
   ]
  },
  {
   "cell_type": "code",
   "execution_count": 72,
   "id": "3d221ec0",
   "metadata": {},
   "outputs": [
    {
     "name": "stdout",
     "output_type": "stream",
     "text": [
      "[[1 2 5]\n",
      " [3 4 6]]\n",
      "[[1 3]\n",
      " [2 4]\n",
      " [5 6]]\n"
     ]
    }
   ],
   "source": [
    "ary = np.array([[1,2,5],[3,4,6]])\n",
    "print(ary)\n",
    "trans_ary = ary.transpose()\n",
    "print(trans_ary)"
   ]
  },
  {
   "cell_type": "markdown",
   "id": "da88fd41",
   "metadata": {},
   "source": [
    "###### 2개 배열에 대한 연산\n",
    "###### – 2개 배열에 저장된 내용을 인덱스별로 계산\n",
    "###### – 선형대수학의 사칙연산과 동일하게 작동\n",
    "###### – 곱셈도 같은 원리로 동작"
   ]
  },
  {
   "cell_type": "code",
   "execution_count": 76,
   "id": "9b2d7ccc",
   "metadata": {},
   "outputs": [
    {
     "name": "stdout",
     "output_type": "stream",
     "text": [
      "[4 6 8]\n",
      "[ 3  8 15]\n",
      "[2 2 2]\n",
      "[3.         2.         1.66666667]\n",
      "[  3  16 125]\n"
     ]
    }
   ],
   "source": [
    "import numpy as np\n",
    "x = np.array((3,4,5)) \n",
    "y = np.array((1,2,3))\n",
    "print(x+y)\n",
    "print(x*y)\n",
    "print(x-y)\n",
    "print(x/y)\n",
    "print(x**y)"
   ]
  },
  {
   "cell_type": "code",
   "execution_count": 80,
   "id": "5d2c307f",
   "metadata": {},
   "outputs": [
    {
     "name": "stdout",
     "output_type": "stream",
     "text": [
      "[8, 9, 10]\n"
     ]
    }
   ],
   "source": [
    "x = np.array((3,4,5)) \n",
    "x += 5\n",
    "print(list(x))"
   ]
  },
  {
   "cell_type": "markdown",
   "id": "b7f1a6c0",
   "metadata": {},
   "source": [
    "#### 인덱싱"
   ]
  },
  {
   "cell_type": "code",
   "execution_count": 81,
   "id": "84e295cf",
   "metadata": {},
   "outputs": [
    {
     "name": "stdout",
     "output_type": "stream",
     "text": [
      "[4 5 6]\n",
      "[2 5 8]\n"
     ]
    }
   ],
   "source": [
    "x = np.array([[1,2,3,],[4,5,6,],[7,8,9]])\n",
    "print(x[1])\n",
    "print(x[:, 1])"
   ]
  },
  {
   "cell_type": "code",
   "execution_count": 92,
   "id": "24791230",
   "metadata": {},
   "outputs": [
    {
     "name": "stdout",
     "output_type": "stream",
     "text": [
      "[ 9 11 13]\n",
      "[16 45 80]\n"
     ]
    }
   ],
   "source": [
    "x = np.array([[1,2,3],[4,5,6],[7,8,9]])\n",
    "y = np.array([[2,3,4],[5,6,7],[8,9,10]])\n",
    "print(x[0, :]+y[2, :])\n",
    "print(x[:,1]*y[2,:]) # y[2,:]== y[2] x의 1행과 y의 3행을 더한 값"
   ]
  },
  {
   "cell_type": "code",
   "execution_count": 93,
   "id": "ee4070fe",
   "metadata": {},
   "outputs": [
    {
     "name": "stdout",
     "output_type": "stream",
     "text": [
      "[False False False  True  True]\n"
     ]
    }
   ],
   "source": [
    "a = np.array([10,20,30,40,60])\n",
    "b = a >30\n",
    "print(b)"
   ]
  },
  {
   "cell_type": "markdown",
   "id": "e0a8e53c",
   "metadata": {},
   "source": [
    "#### random"
   ]
  },
  {
   "cell_type": "code",
   "execution_count": 99,
   "id": "7aa5f41f",
   "metadata": {},
   "outputs": [
    {
     "name": "stdout",
     "output_type": "stream",
     "text": [
      "[0.73771005 0.071729   0.70423963 0.65844342 0.98002587]\n"
     ]
    }
   ],
   "source": [
    "import numpy as np\n",
    "\n",
    "ary = np.random.random(5)\n",
    "print(ary)"
   ]
  },
  {
   "cell_type": "code",
   "execution_count": 111,
   "id": "5316b4b6",
   "metadata": {},
   "outputs": [
    {
     "name": "stdout",
     "output_type": "stream",
     "text": [
      "[0.11141274 0.50096719 0.66240553 0.56526118 0.82117523]\n",
      "[[[0.57352486 0.25322387 0.8850577 ]\n",
      "  [0.94343383 0.59494116 0.86944918]]\n",
      "\n",
      " [[0.04973174 0.45466648 0.89108196]\n",
      "  [0.72720643 0.56177748 0.66926928]]] (2, 2, 3)\n"
     ]
    }
   ],
   "source": [
    "#(0, 1) 범위에서 균일한 분포\n",
    "a = np.random.rand(5)\n",
    "print(a)\n",
    "\n",
    "b = np.random.rand(2, 2, 3) # rand 배열만들어줌\n",
    "print(b, b.shape)"
   ]
  },
  {
   "cell_type": "code",
   "execution_count": 108,
   "id": "24eb132d",
   "metadata": {},
   "outputs": [
    {
     "name": "stdout",
     "output_type": "stream",
     "text": [
      "[0 6 5 6 6]\n",
      "[3 3 2 3 3]\n",
      "[[3 3 4]\n",
      " [4 2 2]\n",
      " [2 3 2]\n",
      " [1 2 4]]\n"
     ]
    }
   ],
   "source": [
    "a = np.random.randint(10, size=5) # 0부터 10까지 5개\n",
    "print(a)\n",
    "\n",
    "b = np.random.randint(2, 4, size=5) # 2에서 4까지 5개\n",
    "print(b)\n",
    "\n",
    "c = np.random.randint(1, 5, size=(4, 3))\n",
    "print(c)"
   ]
  },
  {
   "cell_type": "code",
   "execution_count": 112,
   "id": "4190996b",
   "metadata": {},
   "outputs": [
    {
     "name": "stdout",
     "output_type": "stream",
     "text": [
      "[[0.5488135  0.71518937 0.60276338]\n",
      " [0.54488318 0.4236548  0.64589411]]\n"
     ]
    }
   ],
   "source": [
    "import numpy as np\n",
    "\n",
    "np.random.seed(0) # 일정한 난수를 만들고 고정, 다시 돌려도 안바뀜\n",
    "\n",
    "print(np.random.rand(2, 3))"
   ]
  },
  {
   "cell_type": "code",
   "execution_count": 114,
   "id": "d1bf8b7b",
   "metadata": {},
   "outputs": [
    {
     "data": {
      "text/plain": [
       "array([ True,  True,  True, False, False])"
      ]
     },
     "execution_count": 114,
     "metadata": {},
     "output_type": "execute_result"
    }
   ],
   "source": [
    "np.random.seed(0)\n",
    "a = np.random.rand(5)\n",
    "a > 0.12"
   ]
  },
  {
   "cell_type": "markdown",
   "id": "5c5ff7eb",
   "metadata": {},
   "source": [
    "#### any() 와 all()의 비교"
   ]
  },
  {
   "cell_type": "code",
   "execution_count": 116,
   "id": "3621d1f2",
   "metadata": {},
   "outputs": [
    {
     "name": "stdout",
     "output_type": "stream",
     "text": [
      "[ True  True  True False  True]\n",
      "False\n"
     ]
    }
   ],
   "source": [
    "a = np.random.rand(5)\n",
    "print(a>0.12)\n",
    "print(np.all(a>0.12)) # 전부 만족해야 True"
   ]
  },
  {
   "cell_type": "code",
   "execution_count": 117,
   "id": "668f52ef",
   "metadata": {},
   "outputs": [
    {
     "name": "stdout",
     "output_type": "stream",
     "text": [
      "[ True  True  True  True  True]\n",
      "True\n"
     ]
    }
   ],
   "source": [
    "a = np.random.rand(5)\n",
    "print(a > 0.12)\n",
    "print(np.any(a > 0.12)) # 하나만 만족해도 True"
   ]
  },
  {
   "cell_type": "markdown",
   "id": "8edfbcb2",
   "metadata": {},
   "source": [
    "#### linspace()"
   ]
  },
  {
   "cell_type": "markdown",
   "id": "dc95e567",
   "metadata": {},
   "source": [
    "###### 시작과 끝의 값을 지정하고 그 사이의 값을 균등하게 배분 0과 12를 포함한 그 사이의 값들을 선형적으로 분배하여 모두 4개의원소를 갖는 배열을 생성"
   ]
  },
  {
   "cell_type": "code",
   "execution_count": 126,
   "id": "3d6b8b1b",
   "metadata": {},
   "outputs": [
    {
     "data": {
      "text/plain": [
       "array([ 0.,  4.,  8., 12.])"
      ]
     },
     "execution_count": 126,
     "metadata": {},
     "output_type": "execute_result"
    }
   ],
   "source": [
    "np.linspace(0, 12, 4)"
   ]
  },
  {
   "cell_type": "code",
   "execution_count": 127,
   "id": "e5e79403",
   "metadata": {},
   "outputs": [
    {
     "data": {
      "text/plain": [
       "array([0., 3., 6., 9.])"
      ]
     },
     "execution_count": 127,
     "metadata": {},
     "output_type": "execute_result"
    }
   ],
   "source": [
    "np.linspace(0, 12, 4, endpoint = False) # 마지막 값을 제외하고 샘플값을 만들어냄"
   ]
  },
  {
   "cell_type": "code",
   "execution_count": 128,
   "id": "9e7e46b4",
   "metadata": {},
   "outputs": [
    {
     "data": {
      "text/plain": [
       "(array([ 0.,  4.,  8., 12.]), 4.0)"
      ]
     },
     "execution_count": 128,
     "metadata": {},
     "output_type": "execute_result"
    }
   ],
   "source": [
    "np.linspace(0, 12, 4, retstep = True) # retstep 샘플간의 간격"
   ]
  },
  {
   "cell_type": "code",
   "execution_count": null,
   "id": "c2d4b704",
   "metadata": {},
   "outputs": [],
   "source": []
  }
 ],
 "metadata": {
  "kernelspec": {
   "display_name": "Python 3",
   "language": "python",
   "name": "python3"
  },
  "language_info": {
   "codemirror_mode": {
    "name": "ipython",
    "version": 3
   },
   "file_extension": ".py",
   "mimetype": "text/x-python",
   "name": "python",
   "nbconvert_exporter": "python",
   "pygments_lexer": "ipython3",
   "version": "3.8.9"
  }
 },
 "nbformat": 4,
 "nbformat_minor": 5
}
